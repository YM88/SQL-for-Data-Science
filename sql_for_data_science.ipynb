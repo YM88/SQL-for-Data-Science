{
 "nbformat": 4,
 "nbformat_minor": 2,
 "metadata": {
  "language_info": {
   "name": "python",
   "codemirror_mode": {
    "name": "ipython",
    "version": 3
   },
   "version": "3.7.4-final"
  },
  "orig_nbformat": 2,
  "file_extension": ".py",
  "mimetype": "text/x-python",
  "name": "python",
  "npconvert_exporter": "python",
  "pygments_lexer": "ipython3",
  "version": 3,
  "kernelspec": {
   "name": "python3",
   "display_name": "Python 3"
  }
 },
 "cells": [
  {
   "cell_type": "markdown",
   "metadata": {},
   "source": [
    "# SQL for Data Science\n",
    "\n",
    "Prepared by [Yashar Mansouri](www.https://www.linkedin.com/in/yasharmansouri)\n",
    "\n",
    "The used database and the order of the material is based on Dan Sullivan's [Advanced SQL for Data Science](https://www.linkedin.com/learning/advanced-sql-for-data-scientists) LinkedIn Learning Course.\n",
    "\n",
    "This is mostly the tuned up version with python implementation and revised queries.\n",
    "\n",
    "If you entered a wrong query and received an error, mak sure to close connection and open up again:  \n",
    "- rememeber to change your arguements such as host, database name, password, port\n",
    "\n",
    "- sql file with table creation and insertion is located in the **data** folder.\n",
    "\n",
    "```python\n",
    "cur.close()\n",
    "conn.close()\n",
    "conn = psycopg2.connect(host=\"localhost\",database=\"data_sci\", user=\"postgres\", password=\"password\", port=5432)\n",
    "cur = conn.cursor()\n",
    "```\n",
    "\n"
   ]
  },
  {
   "cell_type": "markdown",
   "metadata": {},
   "source": [
    "## Connection"
   ]
  },
  {
   "cell_type": "markdown",
   "metadata": {},
   "source": [
    "[PostgresSQL Tutorial](https://www.postgresqltutorial.com/postgresql-python/connect/)"
   ]
  },
  {
   "cell_type": "markdown",
   "metadata": {},
   "source": [
    "### Import libraries"
   ]
  },
  {
   "cell_type": "code",
   "execution_count": 1,
   "metadata": {},
   "outputs": [],
   "source": [
    "# !pip install psycopg2\n",
    "# or\n",
    "# !conda install psycopg2\n",
    "# YOU DO YOU!\n",
    "import psycopg2\n",
    "import pandas as pd"
   ]
  },
  {
   "cell_type": "markdown",
   "metadata": {},
   "source": [
    "### Create Connection & Cursor"
   ]
  },
  {
   "cell_type": "code",
   "execution_count": 2,
   "metadata": {},
   "outputs": [],
   "source": [
    "#change user and password to your settings ☜(ﾟヮﾟ☜)\n",
    "# port: the port number that defaults to 5432 if it is not provided.\n",
    "conn = psycopg2.connect(host=\"localhost\",database=\"data_sci\", user=\"postgres\", password=\"password\", port=5432)\n",
    "cur = conn.cursor()"
   ]
  },
  {
   "cell_type": "markdown",
   "metadata": {},
   "source": [
    "Code Template:\n",
    "```python\n",
    "cur = conn.cursor()\n",
    "cmd = \"\"\"SQL DDL/DML cmd\"\"\"\n",
    "cur.execute(cmd)\n",
    "cur.fetchone() or cur.fetchall()\n",
    "cur.close()\n",
    "conn.commit()\n",
    "conn.close()\n",
    "```"
   ]
  },
  {
   "cell_type": "markdown",
   "metadata": {},
   "source": [
    "## Executing cmds"
   ]
  },
  {
   "cell_type": "markdown",
   "metadata": {},
   "source": [
    "Version Check and Connection"
   ]
  },
  {
   "cell_type": "code",
   "execution_count": 3,
   "metadata": {},
   "outputs": [
    {
     "data": {
      "text/plain": "('PostgreSQL 12.2, compiled by Visual C++ build 1914, 64-bit',)"
     },
     "execution_count": 3,
     "metadata": {},
     "output_type": "execute_result"
    }
   ],
   "source": [
    "cur.execute(\"\"\"SELECT version()\n",
    "            \"\"\")\n",
    "cur.fetchone()"
   ]
  },
  {
   "cell_type": "markdown",
   "metadata": {},
   "source": [
    "To check whether the cursor or the connection is connected:"
   ]
  },
  {
   "cell_type": "code",
   "execution_count": 4,
   "metadata": {},
   "outputs": [
    {
     "data": {
      "text/plain": "False"
     },
     "execution_count": 4,
     "metadata": {},
     "output_type": "execute_result"
    }
   ],
   "source": [
    "conn is None and cur is None\n",
    "#False"
   ]
  },
  {
   "cell_type": "code",
   "execution_count": 5,
   "metadata": {},
   "outputs": [
    {
     "data": {
      "text/plain": "<cursor object at 0x0000020F46B39748; closed: 0>"
     },
     "execution_count": 5,
     "metadata": {},
     "output_type": "execute_result"
    }
   ],
   "source": [
    "cur"
   ]
  },
  {
   "cell_type": "code",
   "execution_count": 6,
   "metadata": {},
   "outputs": [
    {
     "data": {
      "text/plain": "<connection object at 0x0000020F46B3A268; dsn: 'user=postgres password=xxx dbname=data_sci host=localhost port=5432', closed: 0>"
     },
     "execution_count": 6,
     "metadata": {},
     "output_type": "execute_result"
    }
   ],
   "source": [
    "conn"
   ]
  },
  {
   "cell_type": "markdown",
   "metadata": {},
   "source": [
    "## Show Tables using PostgreSQL\n",
    "\n",
    "This line comes from the PostgreSQL Tutorials:\n",
    "\n",
    "If you are coming from MySQL, you may miss the SHOW TABLES statement that displays all tables in a specific database. PostgreSQL does not provide the SHOW TABLES statement directly but give you something similar ¯\\_(ツ)_/¯."
   ]
  },
  {
   "cell_type": "code",
   "execution_count": 7,
   "metadata": {},
   "outputs": [
    {
     "data": {
      "text/html": "<div>\n<style scoped>\n    .dataframe tbody tr th:only-of-type {\n        vertical-align: middle;\n    }\n\n    .dataframe tbody tr th {\n        vertical-align: top;\n    }\n\n    .dataframe thead th {\n        text-align: right;\n    }\n</style>\n<table border=\"1\" class=\"dataframe\">\n  <thead>\n    <tr style=\"text-align: right;\">\n      <th></th>\n      <th>schemaname</th>\n      <th>tablename</th>\n      <th>tableowner</th>\n      <th>tablespace</th>\n      <th>hasindexes</th>\n      <th>hasrules</th>\n      <th>hastriggers</th>\n      <th>rowsecurity</th>\n    </tr>\n  </thead>\n  <tbody>\n    <tr>\n      <td>0</td>\n      <td>public</td>\n      <td>company_divisions</td>\n      <td>postgres</td>\n      <td>None</td>\n      <td>True</td>\n      <td>False</td>\n      <td>False</td>\n      <td>False</td>\n    </tr>\n    <tr>\n      <td>1</td>\n      <td>public</td>\n      <td>company_regions</td>\n      <td>postgres</td>\n      <td>None</td>\n      <td>True</td>\n      <td>False</td>\n      <td>False</td>\n      <td>False</td>\n    </tr>\n    <tr>\n      <td>2</td>\n      <td>public</td>\n      <td>staff</td>\n      <td>postgres</td>\n      <td>None</td>\n      <td>True</td>\n      <td>False</td>\n      <td>False</td>\n      <td>False</td>\n    </tr>\n  </tbody>\n</table>\n</div>",
      "text/plain": "  schemaname          tablename tableowner tablespace  hasindexes  hasrules  \\\n0     public  company_divisions   postgres       None        True     False   \n1     public    company_regions   postgres       None        True     False   \n2     public              staff   postgres       None        True     False   \n\n   hastriggers  rowsecurity  \n0        False        False  \n1        False        False  \n2        False        False  "
     },
     "execution_count": 7,
     "metadata": {},
     "output_type": "execute_result"
    }
   ],
   "source": [
    "cmd = \"\"\"SELECT\n",
    "         *\n",
    "         FROM\n",
    "         pg_catalog.pg_tables\n",
    "         WHERE\n",
    "         schemaname != 'pg_catalog'\n",
    "         AND schemaname != 'information_schema';\"\"\"\n",
    "cur.execute(cmd)\n",
    "cols = [x[0] for x in cur.description]\n",
    "pd.DataFrame(cur.fetchall(), columns=cols)"
   ]
  },
  {
   "cell_type": "markdown",
   "metadata": {},
   "source": [
    "### Getting Column Names Trick:"
   ]
  },
  {
   "cell_type": "code",
   "execution_count": 8,
   "metadata": {},
   "outputs": [
    {
     "name": "stdout",
     "output_type": "stream",
     "text": "(Column(name='schemaname', type_code=19), Column(name='tablename', type_code=19), Column(name='tableowner', type_code=19), Column(name='tablespace', type_code=19), Column(name='hasindexes', type_code=16), Column(name='hasrules', type_code=16), Column(name='hastriggers', type_code=16), Column(name='rowsecurity', type_code=16))\n😎😎😎😎😎😎😎😎😎😎😎😎😎😎😎😎😎😎😎😎😎😎😎😎😎😎😎😎😎😎\nColumn(name='schemaname', type_code=19)\n🙄🙄🙄🙄🙄🙄🙄🙄🙄🙄🙄🙄🙄🙄🙄🙄🙄🙄🙄🙄🙄🙄🙄🙄🙄🙄🙄🙄🙄🙄\nschemaname tablename tableowner tablespace hasindexes hasrules hastriggers rowsecurity\n🤯🤯🤯🤯🤯🤯🤯🤯🤯🤯🤯🤯🤯🤯🤯🤯🤯🤯🤯🤯🤯🤯🤯🤯🤯🤯🤯🤯🤯🤯\n['schemaname', 'tablename', 'tableowner', 'tablespace', 'hasindexes', 'hasrules', 'hastriggers', 'rowsecurity']\n"
    }
   ],
   "source": [
    "print(cur.description)\n",
    "print('😎'*30)\n",
    "print(cur.description[0])\n",
    "print('🙄'*30)\n",
    "print(cur.description[0][0], cur.description[1][0], cur.description[2][0], cur.description[3][0], cur.description[4][0], cur.description[5][0], cur.description[6][0], cur.description[7][0])\n",
    "print('🤯'*30)\n",
    "print([col[0] for col in cur.description])"
   ]
  },
  {
   "cell_type": "code",
   "execution_count": 9,
   "metadata": {},
   "outputs": [
    {
     "data": {
      "text/plain": "Column(name='schemaname', type_code=19)"
     },
     "execution_count": 9,
     "metadata": {},
     "output_type": "execute_result"
    }
   ],
   "source": [
    "cur.description[0]"
   ]
  },
  {
   "cell_type": "markdown",
   "metadata": {},
   "source": [
    "## Checking the Tables"
   ]
  },
  {
   "cell_type": "code",
   "execution_count": 10,
   "metadata": {},
   "outputs": [
    {
     "data": {
      "text/html": "<div>\n<style scoped>\n    .dataframe tbody tr th:only-of-type {\n        vertical-align: middle;\n    }\n\n    .dataframe tbody tr th {\n        vertical-align: top;\n    }\n\n    .dataframe thead th {\n        text-align: right;\n    }\n</style>\n<table border=\"1\" class=\"dataframe\">\n  <thead>\n    <tr style=\"text-align: right;\">\n      <th></th>\n      <th>department</th>\n      <th>company_division</th>\n    </tr>\n  </thead>\n  <tbody>\n    <tr>\n      <td>0</td>\n      <td>Automotive</td>\n      <td>Auto &amp; Hardware</td>\n    </tr>\n    <tr>\n      <td>1</td>\n      <td>Baby</td>\n      <td>Domestic</td>\n    </tr>\n    <tr>\n      <td>2</td>\n      <td>Beauty</td>\n      <td>Domestic</td>\n    </tr>\n    <tr>\n      <td>3</td>\n      <td>Clothing</td>\n      <td>Domestic</td>\n    </tr>\n    <tr>\n      <td>4</td>\n      <td>Computers</td>\n      <td>Electronic Equipment</td>\n    </tr>\n    <tr>\n      <td>5</td>\n      <td>Electronics</td>\n      <td>Electronic Equipment</td>\n    </tr>\n    <tr>\n      <td>6</td>\n      <td>Games</td>\n      <td>Domestic</td>\n    </tr>\n    <tr>\n      <td>7</td>\n      <td>Garden</td>\n      <td>Outdoors &amp; Garden</td>\n    </tr>\n    <tr>\n      <td>8</td>\n      <td>Grocery</td>\n      <td>Domestic</td>\n    </tr>\n    <tr>\n      <td>9</td>\n      <td>Health</td>\n      <td>Domestic</td>\n    </tr>\n    <tr>\n      <td>10</td>\n      <td>Home</td>\n      <td>Domestic</td>\n    </tr>\n    <tr>\n      <td>11</td>\n      <td>Industrial</td>\n      <td>Auto &amp; Hardware</td>\n    </tr>\n    <tr>\n      <td>12</td>\n      <td>Jewelery</td>\n      <td>Fashion</td>\n    </tr>\n    <tr>\n      <td>13</td>\n      <td>Kids</td>\n      <td>Domestic</td>\n    </tr>\n    <tr>\n      <td>14</td>\n      <td>Movies</td>\n      <td>Entertainment</td>\n    </tr>\n    <tr>\n      <td>15</td>\n      <td>Music</td>\n      <td>Entertainment</td>\n    </tr>\n    <tr>\n      <td>16</td>\n      <td>Outdoors</td>\n      <td>Outdoors &amp; Garden</td>\n    </tr>\n    <tr>\n      <td>17</td>\n      <td>Shoes</td>\n      <td>Domestic</td>\n    </tr>\n    <tr>\n      <td>18</td>\n      <td>Sports</td>\n      <td>Games &amp; Sports</td>\n    </tr>\n    <tr>\n      <td>19</td>\n      <td>Tools</td>\n      <td>Auto &amp; Hardware</td>\n    </tr>\n    <tr>\n      <td>20</td>\n      <td>Toys</td>\n      <td>Games &amp; Sports</td>\n    </tr>\n  </tbody>\n</table>\n</div>",
      "text/plain": "     department      company_division\n0    Automotive       Auto & Hardware\n1          Baby              Domestic\n2        Beauty              Domestic\n3      Clothing              Domestic\n4     Computers  Electronic Equipment\n5   Electronics  Electronic Equipment\n6         Games              Domestic\n7        Garden     Outdoors & Garden\n8       Grocery              Domestic\n9        Health              Domestic\n10         Home              Domestic\n11   Industrial       Auto & Hardware\n12     Jewelery               Fashion\n13         Kids              Domestic\n14       Movies         Entertainment\n15        Music         Entertainment\n16     Outdoors     Outdoors & Garden\n17        Shoes              Domestic\n18       Sports        Games & Sports\n19        Tools       Auto & Hardware\n20         Toys        Games & Sports"
     },
     "execution_count": 10,
     "metadata": {},
     "output_type": "execute_result"
    }
   ],
   "source": [
    "cmd = \"\"\"SELECT * FROM company_divisions;\"\"\"\n",
    "cur.execute(cmd)\n",
    "cols = [x[0] for x in cur.description]\n",
    "pd.DataFrame(cur.fetchall(), columns=cols)"
   ]
  },
  {
   "cell_type": "code",
   "execution_count": 11,
   "metadata": {},
   "outputs": [
    {
     "data": {
      "text/html": "<div>\n<style scoped>\n    .dataframe tbody tr th:only-of-type {\n        vertical-align: middle;\n    }\n\n    .dataframe tbody tr th {\n        vertical-align: top;\n    }\n\n    .dataframe thead th {\n        text-align: right;\n    }\n</style>\n<table border=\"1\" class=\"dataframe\">\n  <thead>\n    <tr style=\"text-align: right;\">\n      <th></th>\n      <th>region_id</th>\n      <th>company_regions</th>\n      <th>country</th>\n    </tr>\n  </thead>\n  <tbody>\n    <tr>\n      <td>0</td>\n      <td>1</td>\n      <td>Northeast</td>\n      <td>USA</td>\n    </tr>\n    <tr>\n      <td>1</td>\n      <td>2</td>\n      <td>Southeast</td>\n      <td>USA</td>\n    </tr>\n    <tr>\n      <td>2</td>\n      <td>3</td>\n      <td>Northwest</td>\n      <td>USA</td>\n    </tr>\n    <tr>\n      <td>3</td>\n      <td>4</td>\n      <td>Southwest</td>\n      <td>USA</td>\n    </tr>\n    <tr>\n      <td>4</td>\n      <td>5</td>\n      <td>British Columbia</td>\n      <td>Canada</td>\n    </tr>\n    <tr>\n      <td>5</td>\n      <td>6</td>\n      <td>Quebec</td>\n      <td>Canada</td>\n    </tr>\n    <tr>\n      <td>6</td>\n      <td>7</td>\n      <td>Nova Scotia</td>\n      <td>Canada</td>\n    </tr>\n  </tbody>\n</table>\n</div>",
      "text/plain": "   region_id   company_regions country\n0          1         Northeast     USA\n1          2         Southeast     USA\n2          3         Northwest     USA\n3          4         Southwest     USA\n4          5  British Columbia  Canada\n5          6            Quebec  Canada\n6          7       Nova Scotia  Canada"
     },
     "execution_count": 11,
     "metadata": {},
     "output_type": "execute_result"
    }
   ],
   "source": [
    "cmd = \"\"\"SELECT * FROM company_regions;\"\"\"\n",
    "cur.execute(cmd)\n",
    "cols = [x[0] for x in cur.description]\n",
    "pd.DataFrame(cur.fetchall(), columns=cols)"
   ]
  },
  {
   "cell_type": "code",
   "execution_count": 12,
   "metadata": {},
   "outputs": [
    {
     "data": {
      "text/html": "<div>\n<style scoped>\n    .dataframe tbody tr th:only-of-type {\n        vertical-align: middle;\n    }\n\n    .dataframe tbody tr th {\n        vertical-align: top;\n    }\n\n    .dataframe thead th {\n        text-align: right;\n    }\n</style>\n<table border=\"1\" class=\"dataframe\">\n  <thead>\n    <tr style=\"text-align: right;\">\n      <th></th>\n      <th>id</th>\n      <th>last_name</th>\n      <th>email</th>\n      <th>gender</th>\n      <th>department</th>\n      <th>start_date</th>\n      <th>salary</th>\n      <th>job_title</th>\n      <th>region_id</th>\n    </tr>\n  </thead>\n  <tbody>\n    <tr>\n      <td>0</td>\n      <td>1</td>\n      <td>Kelley</td>\n      <td>rkelley0@soundcloud.com</td>\n      <td>Female</td>\n      <td>Computers</td>\n      <td>2009-10-02</td>\n      <td>67470</td>\n      <td>Structural Engineer</td>\n      <td>2</td>\n    </tr>\n    <tr>\n      <td>1</td>\n      <td>2</td>\n      <td>Armstrong</td>\n      <td>sarmstrong1@infoseek.co.jp</td>\n      <td>Male</td>\n      <td>Sports</td>\n      <td>2008-03-31</td>\n      <td>71869</td>\n      <td>Financial Advisor</td>\n      <td>2</td>\n    </tr>\n    <tr>\n      <td>2</td>\n      <td>3</td>\n      <td>Carr</td>\n      <td>fcarr2@woothemes.com</td>\n      <td>Male</td>\n      <td>Automotive</td>\n      <td>2009-07-12</td>\n      <td>101768</td>\n      <td>Recruiting Manager</td>\n      <td>3</td>\n    </tr>\n    <tr>\n      <td>3</td>\n      <td>4</td>\n      <td>Murray</td>\n      <td>jmurray3@gov.uk</td>\n      <td>Female</td>\n      <td>Jewelery</td>\n      <td>2014-12-25</td>\n      <td>96897</td>\n      <td>Desktop Support Technician</td>\n      <td>3</td>\n    </tr>\n    <tr>\n      <td>4</td>\n      <td>5</td>\n      <td>Ellis</td>\n      <td>jellis4@sciencedirect.com</td>\n      <td>Female</td>\n      <td>Grocery</td>\n      <td>2002-09-19</td>\n      <td>63702</td>\n      <td>Software Engineer III</td>\n      <td>7</td>\n    </tr>\n    <tr>\n      <td>...</td>\n      <td>...</td>\n      <td>...</td>\n      <td>...</td>\n      <td>...</td>\n      <td>...</td>\n      <td>...</td>\n      <td>...</td>\n      <td>...</td>\n      <td>...</td>\n    </tr>\n    <tr>\n      <td>995</td>\n      <td>996</td>\n      <td>James</td>\n      <td>tjamesrn@soundcloud.com</td>\n      <td>Female</td>\n      <td>Games</td>\n      <td>2013-11-17</td>\n      <td>78433</td>\n      <td>Accountant II</td>\n      <td>7</td>\n    </tr>\n    <tr>\n      <td>996</td>\n      <td>997</td>\n      <td>Reynolds</td>\n      <td>dreynoldsro@blogtalkradio.com</td>\n      <td>Female</td>\n      <td>Computers</td>\n      <td>2007-04-16</td>\n      <td>120138</td>\n      <td>Statistician IV</td>\n      <td>1</td>\n    </tr>\n    <tr>\n      <td>997</td>\n      <td>998</td>\n      <td>Walker</td>\n      <td>kwalkerrp@unicef.org</td>\n      <td>Female</td>\n      <td>Games</td>\n      <td>2010-02-13</td>\n      <td>60363</td>\n      <td>Account Coordinator</td>\n      <td>1</td>\n    </tr>\n    <tr>\n      <td>998</td>\n      <td>999</td>\n      <td>Kennedy</td>\n      <td>lkennedyrq@edublogs.org</td>\n      <td>Male</td>\n      <td>Industrial</td>\n      <td>2004-09-22</td>\n      <td>48050</td>\n      <td>Graphic Designer</td>\n      <td>2</td>\n    </tr>\n    <tr>\n      <td>999</td>\n      <td>1000</td>\n      <td>Howard</td>\n      <td>showardrr@addtoany.com</td>\n      <td>Male</td>\n      <td>Baby</td>\n      <td>2003-11-07</td>\n      <td>148687</td>\n      <td>General Manager</td>\n      <td>3</td>\n    </tr>\n  </tbody>\n</table>\n<p>1000 rows × 9 columns</p>\n</div>",
      "text/plain": "       id  last_name                          email  gender  department  \\\n0       1     Kelley        rkelley0@soundcloud.com  Female   Computers   \n1       2  Armstrong     sarmstrong1@infoseek.co.jp    Male      Sports   \n2       3       Carr           fcarr2@woothemes.com    Male  Automotive   \n3       4     Murray                jmurray3@gov.uk  Female    Jewelery   \n4       5      Ellis      jellis4@sciencedirect.com  Female     Grocery   \n..    ...        ...                            ...     ...         ...   \n995   996      James        tjamesrn@soundcloud.com  Female       Games   \n996   997   Reynolds  dreynoldsro@blogtalkradio.com  Female   Computers   \n997   998     Walker           kwalkerrp@unicef.org  Female       Games   \n998   999    Kennedy        lkennedyrq@edublogs.org    Male  Industrial   \n999  1000     Howard         showardrr@addtoany.com    Male        Baby   \n\n     start_date  salary                   job_title  region_id  \n0    2009-10-02   67470         Structural Engineer          2  \n1    2008-03-31   71869           Financial Advisor          2  \n2    2009-07-12  101768          Recruiting Manager          3  \n3    2014-12-25   96897  Desktop Support Technician          3  \n4    2002-09-19   63702       Software Engineer III          7  \n..          ...     ...                         ...        ...  \n995  2013-11-17   78433               Accountant II          7  \n996  2007-04-16  120138             Statistician IV          1  \n997  2010-02-13   60363         Account Coordinator          1  \n998  2004-09-22   48050            Graphic Designer          2  \n999  2003-11-07  148687             General Manager          3  \n\n[1000 rows x 9 columns]"
     },
     "execution_count": 12,
     "metadata": {},
     "output_type": "execute_result"
    }
   ],
   "source": [
    "cmd = \"\"\"SELECT * FROM staff;\"\"\"\n",
    "cur.execute(cmd)\n",
    "cols = [x[0] for x in cur.description]\n",
    "pd.DataFrame(cur.fetchall(), columns=cols)"
   ]
  },
  {
   "cell_type": "markdown",
   "metadata": {},
   "source": [
    "# COUNT"
   ]
  },
  {
   "cell_type": "code",
   "execution_count": 13,
   "metadata": {},
   "outputs": [
    {
     "data": {
      "text/html": "<div>\n<style scoped>\n    .dataframe tbody tr th:only-of-type {\n        vertical-align: middle;\n    }\n\n    .dataframe tbody tr th {\n        vertical-align: top;\n    }\n\n    .dataframe thead th {\n        text-align: right;\n    }\n</style>\n<table border=\"1\" class=\"dataframe\">\n  <thead>\n    <tr style=\"text-align: right;\">\n      <th></th>\n      <th>gender</th>\n      <th>count</th>\n    </tr>\n  </thead>\n  <tbody>\n    <tr>\n      <td>0</td>\n      <td>Female</td>\n      <td>496</td>\n    </tr>\n    <tr>\n      <td>1</td>\n      <td>Male</td>\n      <td>504</td>\n    </tr>\n  </tbody>\n</table>\n</div>",
      "text/plain": "   gender  count\n0  Female    496\n1    Male    504"
     },
     "execution_count": 13,
     "metadata": {},
     "output_type": "execute_result"
    }
   ],
   "source": [
    "cmd = \"\"\"SELECT gender, COUNT(gender) FROM staff\n",
    "         GROUP BY gender;\"\"\"\n",
    "cur.execute(cmd)\n",
    "cols = [x[0] for x in cur.description]\n",
    "pd.DataFrame(cur.fetchall(), columns=cols)"
   ]
  },
  {
   "cell_type": "markdown",
   "metadata": {},
   "source": [
    "# MIN, MAX"
   ]
  },
  {
   "cell_type": "code",
   "execution_count": 14,
   "metadata": {},
   "outputs": [
    {
     "data": {
      "text/html": "<div>\n<style scoped>\n    .dataframe tbody tr th:only-of-type {\n        vertical-align: middle;\n    }\n\n    .dataframe tbody tr th {\n        vertical-align: top;\n    }\n\n    .dataframe thead th {\n        text-align: right;\n    }\n</style>\n<table border=\"1\" class=\"dataframe\">\n  <thead>\n    <tr style=\"text-align: right;\">\n      <th></th>\n      <th>department</th>\n      <th>gender</th>\n      <th>min</th>\n      <th>max</th>\n    </tr>\n  </thead>\n  <tbody>\n    <tr>\n      <td>0</td>\n      <td>Automotive</td>\n      <td>Female</td>\n      <td>42602</td>\n      <td>136448</td>\n    </tr>\n    <tr>\n      <td>1</td>\n      <td>Automotive</td>\n      <td>Male</td>\n      <td>44377</td>\n      <td>146167</td>\n    </tr>\n    <tr>\n      <td>2</td>\n      <td>Baby</td>\n      <td>Female</td>\n      <td>50448</td>\n      <td>141464</td>\n    </tr>\n    <tr>\n      <td>3</td>\n      <td>Baby</td>\n      <td>Male</td>\n      <td>42924</td>\n      <td>148687</td>\n    </tr>\n    <tr>\n      <td>4</td>\n      <td>Beauty</td>\n      <td>Female</td>\n      <td>41299</td>\n      <td>143853</td>\n    </tr>\n    <tr>\n      <td>5</td>\n      <td>Beauty</td>\n      <td>Male</td>\n      <td>40254</td>\n      <td>149099</td>\n    </tr>\n    <tr>\n      <td>6</td>\n      <td>Books</td>\n      <td>Female</td>\n      <td>47131</td>\n      <td>145284</td>\n    </tr>\n    <tr>\n      <td>7</td>\n      <td>Books</td>\n      <td>Male</td>\n      <td>42714</td>\n      <td>146745</td>\n    </tr>\n    <tr>\n      <td>8</td>\n      <td>Clothing</td>\n      <td>Female</td>\n      <td>42797</td>\n      <td>148408</td>\n    </tr>\n    <tr>\n      <td>9</td>\n      <td>Clothing</td>\n      <td>Male</td>\n      <td>43067</td>\n      <td>130188</td>\n    </tr>\n    <tr>\n      <td>10</td>\n      <td>Computers</td>\n      <td>Female</td>\n      <td>46960</td>\n      <td>149336</td>\n    </tr>\n    <tr>\n      <td>11</td>\n      <td>Computers</td>\n      <td>Male</td>\n      <td>47541</td>\n      <td>139304</td>\n    </tr>\n    <tr>\n      <td>12</td>\n      <td>Electronics</td>\n      <td>Female</td>\n      <td>41697</td>\n      <td>149597</td>\n    </tr>\n    <tr>\n      <td>13</td>\n      <td>Electronics</td>\n      <td>Male</td>\n      <td>40218</td>\n      <td>144073</td>\n    </tr>\n    <tr>\n      <td>14</td>\n      <td>Games</td>\n      <td>Female</td>\n      <td>42347</td>\n      <td>149221</td>\n    </tr>\n    <tr>\n      <td>15</td>\n      <td>Games</td>\n      <td>Male</td>\n      <td>41516</td>\n      <td>145575</td>\n    </tr>\n    <tr>\n      <td>16</td>\n      <td>Garden</td>\n      <td>Female</td>\n      <td>51792</td>\n      <td>148860</td>\n    </tr>\n    <tr>\n      <td>17</td>\n      <td>Garden</td>\n      <td>Male</td>\n      <td>50057</td>\n      <td>144965</td>\n    </tr>\n    <tr>\n      <td>18</td>\n      <td>Grocery</td>\n      <td>Female</td>\n      <td>45486</td>\n      <td>149929</td>\n    </tr>\n    <tr>\n      <td>19</td>\n      <td>Grocery</td>\n      <td>Male</td>\n      <td>44919</td>\n      <td>148993</td>\n    </tr>\n    <tr>\n      <td>20</td>\n      <td>Health</td>\n      <td>Female</td>\n      <td>43431</td>\n      <td>145962</td>\n    </tr>\n    <tr>\n      <td>21</td>\n      <td>Health</td>\n      <td>Male</td>\n      <td>43986</td>\n      <td>142967</td>\n    </tr>\n    <tr>\n      <td>22</td>\n      <td>Home</td>\n      <td>Female</td>\n      <td>40415</td>\n      <td>149598</td>\n    </tr>\n    <tr>\n      <td>23</td>\n      <td>Home</td>\n      <td>Male</td>\n      <td>44593</td>\n      <td>146432</td>\n    </tr>\n    <tr>\n      <td>24</td>\n      <td>Industrial</td>\n      <td>Female</td>\n      <td>54876</td>\n      <td>140850</td>\n    </tr>\n    <tr>\n      <td>25</td>\n      <td>Industrial</td>\n      <td>Male</td>\n      <td>40194</td>\n      <td>148816</td>\n    </tr>\n    <tr>\n      <td>26</td>\n      <td>Jewelery</td>\n      <td>Female</td>\n      <td>46653</td>\n      <td>145281</td>\n    </tr>\n    <tr>\n      <td>27</td>\n      <td>Jewelery</td>\n      <td>Male</td>\n      <td>41026</td>\n      <td>149114</td>\n    </tr>\n    <tr>\n      <td>28</td>\n      <td>Kids</td>\n      <td>Female</td>\n      <td>43097</td>\n      <td>149351</td>\n    </tr>\n    <tr>\n      <td>29</td>\n      <td>Kids</td>\n      <td>Male</td>\n      <td>44093</td>\n      <td>139163</td>\n    </tr>\n    <tr>\n      <td>30</td>\n      <td>Movies</td>\n      <td>Female</td>\n      <td>51132</td>\n      <td>142840</td>\n    </tr>\n    <tr>\n      <td>31</td>\n      <td>Movies</td>\n      <td>Male</td>\n      <td>41898</td>\n      <td>146970</td>\n    </tr>\n    <tr>\n      <td>32</td>\n      <td>Music</td>\n      <td>Female</td>\n      <td>42759</td>\n      <td>144608</td>\n    </tr>\n    <tr>\n      <td>33</td>\n      <td>Music</td>\n      <td>Male</td>\n      <td>43940</td>\n      <td>138540</td>\n    </tr>\n    <tr>\n      <td>34</td>\n      <td>Outdoors</td>\n      <td>Female</td>\n      <td>43366</td>\n      <td>148906</td>\n    </tr>\n    <tr>\n      <td>35</td>\n      <td>Outdoors</td>\n      <td>Male</td>\n      <td>46072</td>\n      <td>144932</td>\n    </tr>\n    <tr>\n      <td>36</td>\n      <td>Shoes</td>\n      <td>Female</td>\n      <td>52041</td>\n      <td>147739</td>\n    </tr>\n    <tr>\n      <td>37</td>\n      <td>Shoes</td>\n      <td>Male</td>\n      <td>45463</td>\n      <td>140243</td>\n    </tr>\n    <tr>\n      <td>38</td>\n      <td>Sports</td>\n      <td>Female</td>\n      <td>52792</td>\n      <td>146611</td>\n    </tr>\n    <tr>\n      <td>39</td>\n      <td>Sports</td>\n      <td>Male</td>\n      <td>40418</td>\n      <td>147166</td>\n    </tr>\n    <tr>\n      <td>40</td>\n      <td>Tools</td>\n      <td>Female</td>\n      <td>44788</td>\n      <td>149586</td>\n    </tr>\n    <tr>\n      <td>41</td>\n      <td>Tools</td>\n      <td>Male</td>\n      <td>47271</td>\n      <td>144661</td>\n    </tr>\n    <tr>\n      <td>42</td>\n      <td>Toys</td>\n      <td>Female</td>\n      <td>40138</td>\n      <td>144991</td>\n    </tr>\n    <tr>\n      <td>43</td>\n      <td>Toys</td>\n      <td>Male</td>\n      <td>41855</td>\n      <td>149835</td>\n    </tr>\n  </tbody>\n</table>\n</div>",
      "text/plain": "     department  gender    min     max\n0    Automotive  Female  42602  136448\n1    Automotive    Male  44377  146167\n2          Baby  Female  50448  141464\n3          Baby    Male  42924  148687\n4        Beauty  Female  41299  143853\n5        Beauty    Male  40254  149099\n6         Books  Female  47131  145284\n7         Books    Male  42714  146745\n8      Clothing  Female  42797  148408\n9      Clothing    Male  43067  130188\n10    Computers  Female  46960  149336\n11    Computers    Male  47541  139304\n12  Electronics  Female  41697  149597\n13  Electronics    Male  40218  144073\n14        Games  Female  42347  149221\n15        Games    Male  41516  145575\n16       Garden  Female  51792  148860\n17       Garden    Male  50057  144965\n18      Grocery  Female  45486  149929\n19      Grocery    Male  44919  148993\n20       Health  Female  43431  145962\n21       Health    Male  43986  142967\n22         Home  Female  40415  149598\n23         Home    Male  44593  146432\n24   Industrial  Female  54876  140850\n25   Industrial    Male  40194  148816\n26     Jewelery  Female  46653  145281\n27     Jewelery    Male  41026  149114\n28         Kids  Female  43097  149351\n29         Kids    Male  44093  139163\n30       Movies  Female  51132  142840\n31       Movies    Male  41898  146970\n32        Music  Female  42759  144608\n33        Music    Male  43940  138540\n34     Outdoors  Female  43366  148906\n35     Outdoors    Male  46072  144932\n36        Shoes  Female  52041  147739\n37        Shoes    Male  45463  140243\n38       Sports  Female  52792  146611\n39       Sports    Male  40418  147166\n40        Tools  Female  44788  149586\n41        Tools    Male  47271  144661\n42         Toys  Female  40138  144991\n43         Toys    Male  41855  149835"
     },
     "execution_count": 14,
     "metadata": {},
     "output_type": "execute_result"
    }
   ],
   "source": [
    "cmd = \"\"\"SELECT department, gender, MIN(salary), MAX(salary) FROM staff\n",
    "         GROUP BY department, gender\n",
    "         ORDER BY department, gender;\"\"\"\n",
    "cur.execute(cmd)\n",
    "cols = [x[0] for x in cur.description]\n",
    "pd.DataFrame(cur.fetchall(), columns=cols)\n",
    "\n",
    "#Pretty Cool huh! ☜(ﾟヮﾟ☜)"
   ]
  },
  {
   "cell_type": "markdown",
   "metadata": {},
   "source": [
    "# Sum, Average, Variance, Standard Deviation"
   ]
  },
  {
   "cell_type": "code",
   "execution_count": 15,
   "metadata": {},
   "outputs": [
    {
     "data": {
      "text/html": "<div>\n<style scoped>\n    .dataframe tbody tr th:only-of-type {\n        vertical-align: middle;\n    }\n\n    .dataframe tbody tr th {\n        vertical-align: top;\n    }\n\n    .dataframe thead th {\n        text-align: right;\n    }\n</style>\n<table border=\"1\" class=\"dataframe\">\n  <thead>\n    <tr style=\"text-align: right;\">\n      <th></th>\n      <th>department</th>\n      <th>total_salary</th>\n      <th>average_salary</th>\n      <th>variance_salary</th>\n      <th>standard_deviation_salary</th>\n    </tr>\n  </thead>\n  <tbody>\n    <tr>\n      <td>0</td>\n      <td>Music</td>\n      <td>3274767</td>\n      <td>88507.216216216216</td>\n      <td>1001696601.52081812</td>\n      <td>31649.59085866</td>\n    </tr>\n    <tr>\n      <td>1</td>\n      <td>Kids</td>\n      <td>3543027</td>\n      <td>93237.552631578947</td>\n      <td>1072987422.93144044</td>\n      <td>32756.48673059</td>\n    </tr>\n    <tr>\n      <td>2</td>\n      <td>Movies</td>\n      <td>3632825</td>\n      <td>100911.805555555556</td>\n      <td>876898879.10108025</td>\n      <td>29612.47843564</td>\n    </tr>\n    <tr>\n      <td>3</td>\n      <td>Sports</td>\n      <td>3756041</td>\n      <td>93901.025000000000</td>\n      <td>1049150239.87437500</td>\n      <td>32390.58875467</td>\n    </tr>\n    <tr>\n      <td>4</td>\n      <td>Toys</td>\n      <td>3943674</td>\n      <td>96187.170731707317</td>\n      <td>1150709491.31231410</td>\n      <td>33922.10918136</td>\n    </tr>\n    <tr>\n      <td>5</td>\n      <td>Shoes</td>\n      <td>3968118</td>\n      <td>92281.813953488372</td>\n      <td>849306565.17468902</td>\n      <td>29142.86473864</td>\n    </tr>\n    <tr>\n      <td>6</td>\n      <td>Jewelery</td>\n      <td>4039362</td>\n      <td>87812.217391304348</td>\n      <td>875256537.77882798</td>\n      <td>29584.73487762</td>\n    </tr>\n    <tr>\n      <td>7</td>\n      <td>Tools</td>\n      <td>4095808</td>\n      <td>105020.717948717949</td>\n      <td>795868561.02301118</td>\n      <td>28211.14249766</td>\n    </tr>\n    <tr>\n      <td>8</td>\n      <td>Baby</td>\n      <td>4218724</td>\n      <td>93749.422222222222</td>\n      <td>912220932.82172840</td>\n      <td>30202.99542797</td>\n    </tr>\n    <tr>\n      <td>9</td>\n      <td>Industrial</td>\n      <td>4366340</td>\n      <td>92900.851063829787</td>\n      <td>889271955.27569036</td>\n      <td>29820.66322662</td>\n    </tr>\n    <tr>\n      <td>10</td>\n      <td>Books</td>\n      <td>4459837</td>\n      <td>94890.148936170213</td>\n      <td>945765035.82888185</td>\n      <td>30753.29308918</td>\n    </tr>\n    <tr>\n      <td>11</td>\n      <td>Electronics</td>\n      <td>4489141</td>\n      <td>91615.122448979592</td>\n      <td>1073778518.02582257</td>\n      <td>32768.55990162</td>\n    </tr>\n    <tr>\n      <td>12</td>\n      <td>Health</td>\n      <td>4552880</td>\n      <td>98975.652173913043</td>\n      <td>1216304238.79206049</td>\n      <td>34875.55359836</td>\n    </tr>\n    <tr>\n      <td>13</td>\n      <td>Automotive</td>\n      <td>4584268</td>\n      <td>99658.000000000000</td>\n      <td>929902811.86956522</td>\n      <td>30494.30786015</td>\n    </tr>\n    <tr>\n      <td>14</td>\n      <td>Grocery</td>\n      <td>4651241</td>\n      <td>101113.934782608696</td>\n      <td>1161021316.10444234</td>\n      <td>34073.76286976</td>\n    </tr>\n    <tr>\n      <td>15</td>\n      <td>Garden</td>\n      <td>4792085</td>\n      <td>101959.255319148936</td>\n      <td>909562157.08374830</td>\n      <td>30158.94820918</td>\n    </tr>\n    <tr>\n      <td>16</td>\n      <td>Home</td>\n      <td>4822205</td>\n      <td>92734.711538461538</td>\n      <td>1037243300.97448225</td>\n      <td>32206.26182863</td>\n    </tr>\n    <tr>\n      <td>17</td>\n      <td>Clothing</td>\n      <td>5037890</td>\n      <td>95054.528301886792</td>\n      <td>1000324590.36240655</td>\n      <td>31627.90840954</td>\n    </tr>\n    <tr>\n      <td>18</td>\n      <td>Games</td>\n      <td>5090304</td>\n      <td>103883.755102040816</td>\n      <td>1040425239.16451479</td>\n      <td>32255.62337275</td>\n    </tr>\n    <tr>\n      <td>19</td>\n      <td>Computers</td>\n      <td>5152963</td>\n      <td>99095.442307692308</td>\n      <td>930175201.51590237</td>\n      <td>30498.77377069</td>\n    </tr>\n    <tr>\n      <td>20</td>\n      <td>Outdoors</td>\n      <td>5378660</td>\n      <td>112055.416666666667</td>\n      <td>745849798.45138889</td>\n      <td>27310.25079437</td>\n    </tr>\n    <tr>\n      <td>21</td>\n      <td>Beauty</td>\n      <td>5481063</td>\n      <td>103416.283018867925</td>\n      <td>952478558.54254183</td>\n      <td>30862.25135246</td>\n    </tr>\n  </tbody>\n</table>\n</div>",
      "text/plain": "     department  total_salary       average_salary      variance_salary  \\\n0         Music       3274767   88507.216216216216  1001696601.52081812   \n1          Kids       3543027   93237.552631578947  1072987422.93144044   \n2        Movies       3632825  100911.805555555556   876898879.10108025   \n3        Sports       3756041   93901.025000000000  1049150239.87437500   \n4          Toys       3943674   96187.170731707317  1150709491.31231410   \n5         Shoes       3968118   92281.813953488372   849306565.17468902   \n6      Jewelery       4039362   87812.217391304348   875256537.77882798   \n7         Tools       4095808  105020.717948717949   795868561.02301118   \n8          Baby       4218724   93749.422222222222   912220932.82172840   \n9    Industrial       4366340   92900.851063829787   889271955.27569036   \n10        Books       4459837   94890.148936170213   945765035.82888185   \n11  Electronics       4489141   91615.122448979592  1073778518.02582257   \n12       Health       4552880   98975.652173913043  1216304238.79206049   \n13   Automotive       4584268   99658.000000000000   929902811.86956522   \n14      Grocery       4651241  101113.934782608696  1161021316.10444234   \n15       Garden       4792085  101959.255319148936   909562157.08374830   \n16         Home       4822205   92734.711538461538  1037243300.97448225   \n17     Clothing       5037890   95054.528301886792  1000324590.36240655   \n18        Games       5090304  103883.755102040816  1040425239.16451479   \n19    Computers       5152963   99095.442307692308   930175201.51590237   \n20     Outdoors       5378660  112055.416666666667   745849798.45138889   \n21       Beauty       5481063  103416.283018867925   952478558.54254183   \n\n   standard_deviation_salary  \n0             31649.59085866  \n1             32756.48673059  \n2             29612.47843564  \n3             32390.58875467  \n4             33922.10918136  \n5             29142.86473864  \n6             29584.73487762  \n7             28211.14249766  \n8             30202.99542797  \n9             29820.66322662  \n10            30753.29308918  \n11            32768.55990162  \n12            34875.55359836  \n13            30494.30786015  \n14            34073.76286976  \n15            30158.94820918  \n16            32206.26182863  \n17            31627.90840954  \n18            32255.62337275  \n19            30498.77377069  \n20            27310.25079437  \n21            30862.25135246  "
     },
     "execution_count": 15,
     "metadata": {},
     "output_type": "execute_result"
    }
   ],
   "source": [
    "cmd = \"\"\"SELECT \n",
    "         department, \n",
    "         SUM(salary) AS total_salary, \n",
    "         AVG(salary) AS average_salary,\n",
    "         VAR_POP(salary) AS variance_salary,\n",
    "         STDDEV_POP(salary) AS standard_deviation_salary \n",
    "         FROM staff\n",
    "         GROUP BY department\n",
    "         ORDER BY total_salary;\"\"\"\n",
    "cur.execute(cmd)\n",
    "cols = [x[0] for x in cur.description]\n",
    "pd.DataFrame(cur.fetchall(), columns=cols)"
   ]
  },
  {
   "cell_type": "markdown",
   "metadata": {},
   "source": [
    "# ROUND, TRUNC, CEIL\n",
    "- ROUND() rounds the number to the n decimal point, or if n is not decalred then it rounds to the closest integer.  \n",
    "- TRUNC() just gets rid of the decimals, if n is delared for TRUNC, then the remaining decimals gets dropped  \n",
    "- CEIL() rounds the number up to the next integer"
   ]
  },
  {
   "cell_type": "code",
   "execution_count": 16,
   "metadata": {},
   "outputs": [
    {
     "data": {
      "text/html": "<div>\n<style scoped>\n    .dataframe tbody tr th:only-of-type {\n        vertical-align: middle;\n    }\n\n    .dataframe tbody tr th {\n        vertical-align: top;\n    }\n\n    .dataframe thead th {\n        text-align: right;\n    }\n</style>\n<table border=\"1\" class=\"dataframe\">\n  <thead>\n    <tr style=\"text-align: right;\">\n      <th></th>\n      <th>department</th>\n      <th>total_salary</th>\n      <th>average_salary_round_2decimals</th>\n      <th>average_salary_round</th>\n      <th>average_salary_truncated</th>\n      <th>average_salary_ceiling</th>\n    </tr>\n  </thead>\n  <tbody>\n    <tr>\n      <td>0</td>\n      <td>Music</td>\n      <td>3274767</td>\n      <td>88507.22</td>\n      <td>88507</td>\n      <td>88507</td>\n      <td>88508</td>\n    </tr>\n    <tr>\n      <td>1</td>\n      <td>Kids</td>\n      <td>3543027</td>\n      <td>93237.55</td>\n      <td>93238</td>\n      <td>93237</td>\n      <td>93238</td>\n    </tr>\n    <tr>\n      <td>2</td>\n      <td>Movies</td>\n      <td>3632825</td>\n      <td>100911.81</td>\n      <td>100912</td>\n      <td>100911</td>\n      <td>100912</td>\n    </tr>\n    <tr>\n      <td>3</td>\n      <td>Sports</td>\n      <td>3756041</td>\n      <td>93901.03</td>\n      <td>93901</td>\n      <td>93901</td>\n      <td>93902</td>\n    </tr>\n    <tr>\n      <td>4</td>\n      <td>Toys</td>\n      <td>3943674</td>\n      <td>96187.17</td>\n      <td>96187</td>\n      <td>96187</td>\n      <td>96188</td>\n    </tr>\n    <tr>\n      <td>5</td>\n      <td>Shoes</td>\n      <td>3968118</td>\n      <td>92281.81</td>\n      <td>92282</td>\n      <td>92281</td>\n      <td>92282</td>\n    </tr>\n    <tr>\n      <td>6</td>\n      <td>Jewelery</td>\n      <td>4039362</td>\n      <td>87812.22</td>\n      <td>87812</td>\n      <td>87812</td>\n      <td>87813</td>\n    </tr>\n    <tr>\n      <td>7</td>\n      <td>Tools</td>\n      <td>4095808</td>\n      <td>105020.72</td>\n      <td>105021</td>\n      <td>105020</td>\n      <td>105021</td>\n    </tr>\n    <tr>\n      <td>8</td>\n      <td>Baby</td>\n      <td>4218724</td>\n      <td>93749.42</td>\n      <td>93749</td>\n      <td>93749</td>\n      <td>93750</td>\n    </tr>\n    <tr>\n      <td>9</td>\n      <td>Industrial</td>\n      <td>4366340</td>\n      <td>92900.85</td>\n      <td>92901</td>\n      <td>92900</td>\n      <td>92901</td>\n    </tr>\n    <tr>\n      <td>10</td>\n      <td>Books</td>\n      <td>4459837</td>\n      <td>94890.15</td>\n      <td>94890</td>\n      <td>94890</td>\n      <td>94891</td>\n    </tr>\n    <tr>\n      <td>11</td>\n      <td>Electronics</td>\n      <td>4489141</td>\n      <td>91615.12</td>\n      <td>91615</td>\n      <td>91615</td>\n      <td>91616</td>\n    </tr>\n    <tr>\n      <td>12</td>\n      <td>Health</td>\n      <td>4552880</td>\n      <td>98975.65</td>\n      <td>98976</td>\n      <td>98975</td>\n      <td>98976</td>\n    </tr>\n    <tr>\n      <td>13</td>\n      <td>Automotive</td>\n      <td>4584268</td>\n      <td>99658.00</td>\n      <td>99658</td>\n      <td>99658</td>\n      <td>99658</td>\n    </tr>\n    <tr>\n      <td>14</td>\n      <td>Grocery</td>\n      <td>4651241</td>\n      <td>101113.93</td>\n      <td>101114</td>\n      <td>101113</td>\n      <td>101114</td>\n    </tr>\n    <tr>\n      <td>15</td>\n      <td>Garden</td>\n      <td>4792085</td>\n      <td>101959.26</td>\n      <td>101959</td>\n      <td>101959</td>\n      <td>101960</td>\n    </tr>\n    <tr>\n      <td>16</td>\n      <td>Home</td>\n      <td>4822205</td>\n      <td>92734.71</td>\n      <td>92735</td>\n      <td>92734</td>\n      <td>92735</td>\n    </tr>\n    <tr>\n      <td>17</td>\n      <td>Clothing</td>\n      <td>5037890</td>\n      <td>95054.53</td>\n      <td>95055</td>\n      <td>95054</td>\n      <td>95055</td>\n    </tr>\n    <tr>\n      <td>18</td>\n      <td>Games</td>\n      <td>5090304</td>\n      <td>103883.76</td>\n      <td>103884</td>\n      <td>103883</td>\n      <td>103884</td>\n    </tr>\n    <tr>\n      <td>19</td>\n      <td>Computers</td>\n      <td>5152963</td>\n      <td>99095.44</td>\n      <td>99095</td>\n      <td>99095</td>\n      <td>99096</td>\n    </tr>\n    <tr>\n      <td>20</td>\n      <td>Outdoors</td>\n      <td>5378660</td>\n      <td>112055.42</td>\n      <td>112055</td>\n      <td>112055</td>\n      <td>112056</td>\n    </tr>\n    <tr>\n      <td>21</td>\n      <td>Beauty</td>\n      <td>5481063</td>\n      <td>103416.28</td>\n      <td>103416</td>\n      <td>103416</td>\n      <td>103417</td>\n    </tr>\n  </tbody>\n</table>\n</div>",
      "text/plain": "     department  total_salary average_salary_round_2decimals  \\\n0         Music       3274767                       88507.22   \n1          Kids       3543027                       93237.55   \n2        Movies       3632825                      100911.81   \n3        Sports       3756041                       93901.03   \n4          Toys       3943674                       96187.17   \n5         Shoes       3968118                       92281.81   \n6      Jewelery       4039362                       87812.22   \n7         Tools       4095808                      105020.72   \n8          Baby       4218724                       93749.42   \n9    Industrial       4366340                       92900.85   \n10        Books       4459837                       94890.15   \n11  Electronics       4489141                       91615.12   \n12       Health       4552880                       98975.65   \n13   Automotive       4584268                       99658.00   \n14      Grocery       4651241                      101113.93   \n15       Garden       4792085                      101959.26   \n16         Home       4822205                       92734.71   \n17     Clothing       5037890                       95054.53   \n18        Games       5090304                      103883.76   \n19    Computers       5152963                       99095.44   \n20     Outdoors       5378660                      112055.42   \n21       Beauty       5481063                      103416.28   \n\n   average_salary_round average_salary_truncated average_salary_ceiling  \n0                 88507                    88507                  88508  \n1                 93238                    93237                  93238  \n2                100912                   100911                 100912  \n3                 93901                    93901                  93902  \n4                 96187                    96187                  96188  \n5                 92282                    92281                  92282  \n6                 87812                    87812                  87813  \n7                105021                   105020                 105021  \n8                 93749                    93749                  93750  \n9                 92901                    92900                  92901  \n10                94890                    94890                  94891  \n11                91615                    91615                  91616  \n12                98976                    98975                  98976  \n13                99658                    99658                  99658  \n14               101114                   101113                 101114  \n15               101959                   101959                 101960  \n16                92735                    92734                  92735  \n17                95055                    95054                  95055  \n18               103884                   103883                 103884  \n19                99095                    99095                  99096  \n20               112055                   112055                 112056  \n21               103416                   103416                 103417  "
     },
     "execution_count": 16,
     "metadata": {},
     "output_type": "execute_result"
    }
   ],
   "source": [
    "# n = 2 in this case\n",
    "\n",
    "cmd = \"\"\"SELECT \n",
    "         department, \n",
    "         SUM(salary) AS total_salary, \n",
    "         ROUND(AVG(salary),2) AS average_salary_round_2decimals,\n",
    "         ROUND(AVG(salary)) AS average_salary_round,\n",
    "         TRUNC(AVG(salary)) AS average_salary_truncated,\n",
    "         CEIL(AVG(salary)) AS average_salary_ceiling \n",
    "         FROM staff\n",
    "         GROUP BY department\n",
    "         ORDER BY total_salary;\"\"\"\n",
    "cur.execute(cmd)\n",
    "cols = [x[0] for x in cur.description]\n",
    "pd.DataFrame(cur.fetchall(), columns=cols)"
   ]
  },
  {
   "cell_type": "markdown",
   "metadata": {},
   "source": [
    "# Filtering & Joining"
   ]
  },
  {
   "cell_type": "code",
   "execution_count": 17,
   "metadata": {},
   "outputs": [
    {
     "data": {
      "text/html": "<div>\n<style scoped>\n    .dataframe tbody tr th:only-of-type {\n        vertical-align: middle;\n    }\n\n    .dataframe tbody tr th {\n        vertical-align: top;\n    }\n\n    .dataframe thead th {\n        text-align: right;\n    }\n</style>\n<table border=\"1\" class=\"dataframe\">\n  <thead>\n    <tr style=\"text-align: right;\">\n      <th></th>\n      <th>department</th>\n      <th>region_id</th>\n      <th>id</th>\n      <th>last_name</th>\n      <th>email</th>\n      <th>gender</th>\n      <th>start_date</th>\n      <th>salary</th>\n      <th>job_title</th>\n      <th>company_regions</th>\n      <th>country</th>\n      <th>company_division</th>\n    </tr>\n  </thead>\n  <tbody>\n    <tr>\n      <td>0</td>\n      <td>Electronics</td>\n      <td>1</td>\n      <td>985</td>\n      <td>Stevens</td>\n      <td>hstevensrc@hugedomains.com</td>\n      <td>Male</td>\n      <td>2006-02-28</td>\n      <td>118791</td>\n      <td>Safety Technician IV</td>\n      <td>Northeast</td>\n      <td>USA</td>\n      <td>Electronic Equipment</td>\n    </tr>\n    <tr>\n      <td>1</td>\n      <td>Electronics</td>\n      <td>1</td>\n      <td>906</td>\n      <td>Spencer</td>\n      <td>sspencerp5@mtv.com</td>\n      <td>Male</td>\n      <td>2014-04-18</td>\n      <td>110881</td>\n      <td>Electrical Engineer</td>\n      <td>Northeast</td>\n      <td>USA</td>\n      <td>Electronic Equipment</td>\n    </tr>\n    <tr>\n      <td>2</td>\n      <td>Electronics</td>\n      <td>2</td>\n      <td>679</td>\n      <td>Stone</td>\n      <td>pstoneiu@narod.ru</td>\n      <td>Male</td>\n      <td>2014-05-15</td>\n      <td>40218</td>\n      <td>Paralegal</td>\n      <td>Southeast</td>\n      <td>USA</td>\n      <td>Electronic Equipment</td>\n    </tr>\n    <tr>\n      <td>3</td>\n      <td>Electronics</td>\n      <td>7</td>\n      <td>762</td>\n      <td>Stanley</td>\n      <td>cstanleyl5@springer.com</td>\n      <td>Male</td>\n      <td>2013-08-09</td>\n      <td>103237</td>\n      <td>Account Executive</td>\n      <td>Nova Scotia</td>\n      <td>Canada</td>\n      <td>Electronic Equipment</td>\n    </tr>\n  </tbody>\n</table>\n</div>",
      "text/plain": "    department  region_id   id last_name                       email gender  \\\n0  Electronics          1  985   Stevens  hstevensrc@hugedomains.com   Male   \n1  Electronics          1  906   Spencer          sspencerp5@mtv.com   Male   \n2  Electronics          2  679     Stone           pstoneiu@narod.ru   Male   \n3  Electronics          7  762   Stanley     cstanleyl5@springer.com   Male   \n\n   start_date  salary             job_title company_regions country  \\\n0  2006-02-28  118791  Safety Technician IV       Northeast     USA   \n1  2014-04-18  110881   Electrical Engineer       Northeast     USA   \n2  2014-05-15   40218             Paralegal       Southeast     USA   \n3  2013-08-09  103237     Account Executive     Nova Scotia  Canada   \n\n       company_division  \n0  Electronic Equipment  \n1  Electronic Equipment  \n2  Electronic Equipment  \n3  Electronic Equipment  "
     },
     "execution_count": 17,
     "metadata": {},
     "output_type": "execute_result"
    }
   ],
   "source": [
    "cmd = \"\"\"SELECT *\n",
    "         FROM staff\n",
    "         INNER JOIN company_regions\n",
    "         USING (region_id)\n",
    "         INNER JOIN company_divisions\n",
    "         USING (department)\n",
    "         WHERE company_division IN ('Electronic Equipment', 'Games & Sports')\n",
    "         AND\n",
    "         department = 'Electronics'\n",
    "         AND\n",
    "         last_name ILIKE 's%'\"\"\"\n",
    "cur.execute(cmd)\n",
    "cols = [x[0] for x in cur.description]\n",
    "pd.DataFrame(cur.fetchall(), columns=cols)"
   ]
  },
  {
   "cell_type": "code",
   "execution_count": 18,
   "metadata": {},
   "outputs": [
    {
     "data": {
      "text/html": "<div>\n<style scoped>\n    .dataframe tbody tr th:only-of-type {\n        vertical-align: middle;\n    }\n\n    .dataframe tbody tr th {\n        vertical-align: top;\n    }\n\n    .dataframe thead th {\n        text-align: right;\n    }\n</style>\n<table border=\"1\" class=\"dataframe\">\n  <thead>\n    <tr style=\"text-align: right;\">\n      <th></th>\n      <th>id</th>\n      <th>last_name</th>\n      <th>email</th>\n      <th>gender</th>\n      <th>department</th>\n      <th>start_date</th>\n      <th>salary</th>\n      <th>job_title</th>\n      <th>region_id</th>\n      <th>region_id</th>\n      <th>company_regions</th>\n      <th>country</th>\n      <th>department</th>\n      <th>company_division</th>\n    </tr>\n  </thead>\n  <tbody>\n    <tr>\n      <td>0</td>\n      <td>985</td>\n      <td>Stevens</td>\n      <td>hstevensrc@hugedomains.com</td>\n      <td>Male</td>\n      <td>Electronics</td>\n      <td>2006-02-28</td>\n      <td>118791</td>\n      <td>Safety Technician IV</td>\n      <td>1</td>\n      <td>1</td>\n      <td>Northeast</td>\n      <td>USA</td>\n      <td>Electronics</td>\n      <td>Electronic Equipment</td>\n    </tr>\n    <tr>\n      <td>1</td>\n      <td>906</td>\n      <td>Spencer</td>\n      <td>sspencerp5@mtv.com</td>\n      <td>Male</td>\n      <td>Electronics</td>\n      <td>2014-04-18</td>\n      <td>110881</td>\n      <td>Electrical Engineer</td>\n      <td>1</td>\n      <td>1</td>\n      <td>Northeast</td>\n      <td>USA</td>\n      <td>Electronics</td>\n      <td>Electronic Equipment</td>\n    </tr>\n    <tr>\n      <td>2</td>\n      <td>679</td>\n      <td>Stone</td>\n      <td>pstoneiu@narod.ru</td>\n      <td>Male</td>\n      <td>Electronics</td>\n      <td>2014-05-15</td>\n      <td>40218</td>\n      <td>Paralegal</td>\n      <td>2</td>\n      <td>2</td>\n      <td>Southeast</td>\n      <td>USA</td>\n      <td>Electronics</td>\n      <td>Electronic Equipment</td>\n    </tr>\n    <tr>\n      <td>3</td>\n      <td>762</td>\n      <td>Stanley</td>\n      <td>cstanleyl5@springer.com</td>\n      <td>Male</td>\n      <td>Electronics</td>\n      <td>2013-08-09</td>\n      <td>103237</td>\n      <td>Account Executive</td>\n      <td>7</td>\n      <td>7</td>\n      <td>Nova Scotia</td>\n      <td>Canada</td>\n      <td>Electronics</td>\n      <td>Electronic Equipment</td>\n    </tr>\n  </tbody>\n</table>\n</div>",
      "text/plain": "    id last_name                       email gender   department  start_date  \\\n0  985   Stevens  hstevensrc@hugedomains.com   Male  Electronics  2006-02-28   \n1  906   Spencer          sspencerp5@mtv.com   Male  Electronics  2014-04-18   \n2  679     Stone           pstoneiu@narod.ru   Male  Electronics  2014-05-15   \n3  762   Stanley     cstanleyl5@springer.com   Male  Electronics  2013-08-09   \n\n   salary             job_title  region_id  region_id company_regions country  \\\n0  118791  Safety Technician IV          1          1       Northeast     USA   \n1  110881   Electrical Engineer          1          1       Northeast     USA   \n2   40218             Paralegal          2          2       Southeast     USA   \n3  103237     Account Executive          7          7     Nova Scotia  Canada   \n\n    department      company_division  \n0  Electronics  Electronic Equipment  \n1  Electronics  Electronic Equipment  \n2  Electronics  Electronic Equipment  \n3  Electronics  Electronic Equipment  "
     },
     "execution_count": 18,
     "metadata": {},
     "output_type": "execute_result"
    }
   ],
   "source": [
    "#if the joining column names are not the same then:\n",
    "\n",
    "cmd = \"\"\"SELECT *\n",
    "             FROM staff s\n",
    "             INNER JOIN company_regions cr\n",
    "             ON cr.region_id=s.region_id\n",
    "             INNER JOIN company_divisions cd\n",
    "             ON s.department=cd.department\n",
    "             WHERE company_division IN ('Electronic Equipment', 'Games & Sports')\n",
    "\t         AND\n",
    "\t         s.department = 'Electronics'\n",
    "\t         AND\n",
    "\t         last_name ILIKE 's%'\"\"\"\n",
    "cur.execute(cmd)\n",
    "cols = [x[0] for x in cur.description]\n",
    "pd.DataFrame(cur.fetchall(), columns=cols)\n",
    "\n"
   ]
  },
  {
   "cell_type": "markdown",
   "metadata": {},
   "source": [
    "# CONCATENATION, LOWERCASE, UPPERCASE"
   ]
  },
  {
   "cell_type": "code",
   "execution_count": 19,
   "metadata": {},
   "outputs": [
    {
     "data": {
      "text/html": "<div>\n<style scoped>\n    .dataframe tbody tr th:only-of-type {\n        vertical-align: middle;\n    }\n\n    .dataframe tbody tr th {\n        vertical-align: top;\n    }\n\n    .dataframe thead th {\n        text-align: right;\n    }\n</style>\n<table border=\"1\" class=\"dataframe\">\n  <thead>\n    <tr style=\"text-align: right;\">\n      <th></th>\n      <th>fancy_column_name</th>\n    </tr>\n  </thead>\n  <tbody>\n    <tr>\n      <td>0</td>\n      <td>COMPUTERS ⨀⨀⨀ structural engineer</td>\n    </tr>\n    <tr>\n      <td>1</td>\n      <td>SPORTS ⨀⨀⨀ financial advisor</td>\n    </tr>\n    <tr>\n      <td>2</td>\n      <td>AUTOMOTIVE ⨀⨀⨀ recruiting manager</td>\n    </tr>\n    <tr>\n      <td>3</td>\n      <td>JEWELERY ⨀⨀⨀ desktop support technician</td>\n    </tr>\n    <tr>\n      <td>4</td>\n      <td>GROCERY ⨀⨀⨀ software engineer iii</td>\n    </tr>\n    <tr>\n      <td>5</td>\n      <td>TOOLS ⨀⨀⨀ executive secretary</td>\n    </tr>\n    <tr>\n      <td>6</td>\n      <td>COMPUTERS ⨀⨀⨀ dental hygienist</td>\n    </tr>\n    <tr>\n      <td>7</td>\n      <td>TOYS ⨀⨀⨀ safety technician i</td>\n    </tr>\n    <tr>\n      <td>8</td>\n      <td>JEWELERY ⨀⨀⨀ sales associate</td>\n    </tr>\n    <tr>\n      <td>9</td>\n      <td>MOVIES ⨀⨀⨀ sales representative</td>\n    </tr>\n  </tbody>\n</table>\n</div>",
      "text/plain": "                         fancy_column_name\n0        COMPUTERS ⨀⨀⨀ structural engineer\n1             SPORTS ⨀⨀⨀ financial advisor\n2        AUTOMOTIVE ⨀⨀⨀ recruiting manager\n3  JEWELERY ⨀⨀⨀ desktop support technician\n4        GROCERY ⨀⨀⨀ software engineer iii\n5            TOOLS ⨀⨀⨀ executive secretary\n6           COMPUTERS ⨀⨀⨀ dental hygienist\n7             TOYS ⨀⨀⨀ safety technician i\n8             JEWELERY ⨀⨀⨀ sales associate\n9          MOVIES ⨀⨀⨀ sales representative"
     },
     "execution_count": 19,
     "metadata": {},
     "output_type": "execute_result"
    }
   ],
   "source": [
    "cmd = \"\"\"SELECT \n",
    "         UPPER(department) || ' ⨀⨀⨀ ' ||LOWER(job_title) fancy_column_name\n",
    "         FROM staff\n",
    "         LIMIT 10\"\"\"\n",
    "cur.execute(cmd)\n",
    "cols = [x[0] for x in cur.description]\n",
    "pd.DataFrame(cur.fetchall(), columns=cols)"
   ]
  },
  {
   "cell_type": "code",
   "execution_count": 20,
   "metadata": {},
   "outputs": [
    {
     "data": {
      "text/html": "<div>\n<style scoped>\n    .dataframe tbody tr th:only-of-type {\n        vertical-align: middle;\n    }\n\n    .dataframe tbody tr th {\n        vertical-align: top;\n    }\n\n    .dataframe thead th {\n        text-align: right;\n    }\n</style>\n<table border=\"1\" class=\"dataframe\">\n  <thead>\n    <tr style=\"text-align: right;\">\n      <th></th>\n      <th>do_you_even_code_bro</th>\n    </tr>\n  </thead>\n  <tbody>\n    <tr>\n      <td>0</td>\n      <td>COMPUTERS (☞ﾟヮﾟ)☞ 2nd method ☜(ﾟヮﾟ☜)structural...</td>\n    </tr>\n    <tr>\n      <td>1</td>\n      <td>SPORTS (☞ﾟヮﾟ)☞ 2nd method ☜(ﾟヮﾟ☜)financial adv...</td>\n    </tr>\n    <tr>\n      <td>2</td>\n      <td>AUTOMOTIVE (☞ﾟヮﾟ)☞ 2nd method ☜(ﾟヮﾟ☜)recruitin...</td>\n    </tr>\n    <tr>\n      <td>3</td>\n      <td>JEWELERY (☞ﾟヮﾟ)☞ 2nd method ☜(ﾟヮﾟ☜)desktop sup...</td>\n    </tr>\n    <tr>\n      <td>4</td>\n      <td>GROCERY (☞ﾟヮﾟ)☞ 2nd method ☜(ﾟヮﾟ☜)software eng...</td>\n    </tr>\n    <tr>\n      <td>5</td>\n      <td>TOOLS (☞ﾟヮﾟ)☞ 2nd method ☜(ﾟヮﾟ☜)executive secr...</td>\n    </tr>\n    <tr>\n      <td>6</td>\n      <td>COMPUTERS (☞ﾟヮﾟ)☞ 2nd method ☜(ﾟヮﾟ☜)dental hyg...</td>\n    </tr>\n    <tr>\n      <td>7</td>\n      <td>TOYS (☞ﾟヮﾟ)☞ 2nd method ☜(ﾟヮﾟ☜)safety technici...</td>\n    </tr>\n    <tr>\n      <td>8</td>\n      <td>JEWELERY (☞ﾟヮﾟ)☞ 2nd method ☜(ﾟヮﾟ☜)sales assoc...</td>\n    </tr>\n    <tr>\n      <td>9</td>\n      <td>MOVIES (☞ﾟヮﾟ)☞ 2nd method ☜(ﾟヮﾟ☜)sales represe...</td>\n    </tr>\n  </tbody>\n</table>\n</div>",
      "text/plain": "                                do_you_even_code_bro\n0  COMPUTERS (☞ﾟヮﾟ)☞ 2nd method ☜(ﾟヮﾟ☜)structural...\n1  SPORTS (☞ﾟヮﾟ)☞ 2nd method ☜(ﾟヮﾟ☜)financial adv...\n2  AUTOMOTIVE (☞ﾟヮﾟ)☞ 2nd method ☜(ﾟヮﾟ☜)recruitin...\n3  JEWELERY (☞ﾟヮﾟ)☞ 2nd method ☜(ﾟヮﾟ☜)desktop sup...\n4  GROCERY (☞ﾟヮﾟ)☞ 2nd method ☜(ﾟヮﾟ☜)software eng...\n5  TOOLS (☞ﾟヮﾟ)☞ 2nd method ☜(ﾟヮﾟ☜)executive secr...\n6  COMPUTERS (☞ﾟヮﾟ)☞ 2nd method ☜(ﾟヮﾟ☜)dental hyg...\n7  TOYS (☞ﾟヮﾟ)☞ 2nd method ☜(ﾟヮﾟ☜)safety technici...\n8  JEWELERY (☞ﾟヮﾟ)☞ 2nd method ☜(ﾟヮﾟ☜)sales assoc...\n9  MOVIES (☞ﾟヮﾟ)☞ 2nd method ☜(ﾟヮﾟ☜)sales represe..."
     },
     "execution_count": 20,
     "metadata": {},
     "output_type": "execute_result"
    }
   ],
   "source": [
    "cmd = \"\"\"SELECT \n",
    "         CONCAT(UPPER(department), ' (☞ﾟヮﾟ)☞ 2nd method ☜(ﾟヮﾟ☜)', LOWER(job_title)) do_you_even_code_bro\n",
    "         FROM staff\n",
    "         LIMIT 10\"\"\"\n",
    "cur.execute(cmd)\n",
    "cols = [x[0] for x in cur.description]\n",
    "pd.DataFrame(cur.fetchall(), columns=cols)"
   ]
  },
  {
   "cell_type": "markdown",
   "metadata": {},
   "source": [
    "# TRIM, LENGTH, Booleans\n",
    "\n",
    "[Trim Tutorial](https://www.sqltutorial.org/sql-string-functions/sql-trim/)"
   ]
  },
  {
   "cell_type": "code",
   "execution_count": 21,
   "metadata": {},
   "outputs": [
    {
     "data": {
      "text/html": "<div>\n<style scoped>\n    .dataframe tbody tr th:only-of-type {\n        vertical-align: middle;\n    }\n\n    .dataframe tbody tr th {\n        vertical-align: top;\n    }\n\n    .dataframe thead th {\n        text-align: right;\n    }\n</style>\n<table border=\"1\" class=\"dataframe\">\n  <thead>\n    <tr style=\"text-align: right;\">\n      <th></th>\n      <th>veeps</th>\n      <th>department</th>\n      <th>length</th>\n      <th>salary</th>\n      <th>six_digits_baby</th>\n    </tr>\n  </thead>\n  <tbody>\n    <tr>\n      <td>0</td>\n      <td>Marketing Assistant</td>\n      <td>Baby</td>\n      <td>4</td>\n      <td>42924</td>\n      <td>False</td>\n    </tr>\n    <tr>\n      <td>1</td>\n      <td>Research Assistant I</td>\n      <td>Clothing</td>\n      <td>8</td>\n      <td>43067</td>\n      <td>False</td>\n    </tr>\n    <tr>\n      <td>2</td>\n      <td>Administrative Assistant IV</td>\n      <td>Outdoors</td>\n      <td>8</td>\n      <td>43366</td>\n      <td>False</td>\n    </tr>\n    <tr>\n      <td>3</td>\n      <td>Physical Therapy Assistant</td>\n      <td>Health</td>\n      <td>6</td>\n      <td>43431</td>\n      <td>False</td>\n    </tr>\n    <tr>\n      <td>4</td>\n      <td>Office Assistant II</td>\n      <td>Games</td>\n      <td>5</td>\n      <td>48064</td>\n      <td>False</td>\n    </tr>\n    <tr>\n      <td>...</td>\n      <td>...</td>\n      <td>...</td>\n      <td>...</td>\n      <td>...</td>\n      <td>...</td>\n    </tr>\n    <tr>\n      <td>83</td>\n      <td>Marketing Assistant</td>\n      <td>Outdoors</td>\n      <td>8</td>\n      <td>144932</td>\n      <td>True</td>\n    </tr>\n    <tr>\n      <td>84</td>\n      <td>Office Assistant III</td>\n      <td>Toys</td>\n      <td>4</td>\n      <td>145559</td>\n      <td>True</td>\n    </tr>\n    <tr>\n      <td>85</td>\n      <td>Assistant Professor</td>\n      <td>Automotive</td>\n      <td>10</td>\n      <td>146167</td>\n      <td>True</td>\n    </tr>\n    <tr>\n      <td>86</td>\n      <td>Research Assistant II</td>\n      <td>Books</td>\n      <td>5</td>\n      <td>146701</td>\n      <td>True</td>\n    </tr>\n    <tr>\n      <td>87</td>\n      <td>Assistant Media Planner</td>\n      <td>Books</td>\n      <td>5</td>\n      <td>146745</td>\n      <td>True</td>\n    </tr>\n  </tbody>\n</table>\n<p>88 rows × 5 columns</p>\n</div>",
      "text/plain": "                          veeps  department  length  salary  six_digits_baby\n0           Marketing Assistant        Baby       4   42924            False\n1          Research Assistant I    Clothing       8   43067            False\n2   Administrative Assistant IV    Outdoors       8   43366            False\n3    Physical Therapy Assistant      Health       6   43431            False\n4           Office Assistant II       Games       5   48064            False\n..                          ...         ...     ...     ...              ...\n83          Marketing Assistant    Outdoors       8  144932             True\n84         Office Assistant III        Toys       4  145559             True\n85          Assistant Professor  Automotive      10  146167             True\n86        Research Assistant II       Books       5  146701             True\n87      Assistant Media Planner       Books       5  146745             True\n\n[88 rows x 5 columns]"
     },
     "execution_count": 21,
     "metadata": {},
     "output_type": "execute_result"
    }
   ],
   "source": [
    "cmd = \"\"\"SELECT \n",
    "         TRIM(job_title) veeps, \n",
    "         department, LENGTH(department),\n",
    "         salary,\n",
    "         (salary > 100000) six_digits_baby\n",
    "         FROM staff\n",
    "         WHERE job_title ILIKE '%assist%'\n",
    "         ORDER BY salary\"\"\"\n",
    "cur.execute(cmd)\n",
    "cols = [x[0] for x in cur.description]\n",
    "pd.DataFrame(cur.fetchall(), columns=cols)"
   ]
  },
  {
   "cell_type": "markdown",
   "metadata": {},
   "source": [
    "# SUBSTRING, OVERLAY  \n",
    "Both SUBSTRING() and OVERLAY() have the syntax of **FROM** `n` **FOR** `m`\n",
    "\n"
   ]
  },
  {
   "cell_type": "code",
   "execution_count": 22,
   "metadata": {},
   "outputs": [
    {
     "data": {
      "text/html": "<div>\n<style scoped>\n    .dataframe tbody tr th:only-of-type {\n        vertical-align: middle;\n    }\n\n    .dataframe tbody tr th {\n        vertical-align: top;\n    }\n\n    .dataframe thead th {\n        text-align: right;\n    }\n</style>\n<table border=\"1\" class=\"dataframe\">\n  <thead>\n    <tr style=\"text-align: right;\">\n      <th></th>\n      <th>replaced_vp</th>\n      <th>vp_position</th>\n    </tr>\n  </thead>\n  <tbody>\n    <tr>\n      <td>0</td>\n      <td>Vice President Marketing</td>\n      <td>Marketing</td>\n    </tr>\n    <tr>\n      <td>1</td>\n      <td>Vice President Product Management</td>\n      <td>Product Management</td>\n    </tr>\n    <tr>\n      <td>2</td>\n      <td>Vice President Marketing</td>\n      <td>Marketing</td>\n    </tr>\n    <tr>\n      <td>3</td>\n      <td>Vice President Accounting</td>\n      <td>Accounting</td>\n    </tr>\n    <tr>\n      <td>4</td>\n      <td>Vice President Quality Control</td>\n      <td>Quality Control</td>\n    </tr>\n    <tr>\n      <td>5</td>\n      <td>Vice President Sales</td>\n      <td>Sales</td>\n    </tr>\n    <tr>\n      <td>6</td>\n      <td>Vice President Product Management</td>\n      <td>Product Management</td>\n    </tr>\n    <tr>\n      <td>7</td>\n      <td>Vice President Product Management</td>\n      <td>Product Management</td>\n    </tr>\n    <tr>\n      <td>8</td>\n      <td>Vice President Accounting</td>\n      <td>Accounting</td>\n    </tr>\n    <tr>\n      <td>9</td>\n      <td>Vice President Accounting</td>\n      <td>Accounting</td>\n    </tr>\n    <tr>\n      <td>10</td>\n      <td>Vice President Marketing</td>\n      <td>Marketing</td>\n    </tr>\n    <tr>\n      <td>11</td>\n      <td>Vice President Quality Control</td>\n      <td>Quality Control</td>\n    </tr>\n    <tr>\n      <td>12</td>\n      <td>Vice President Product Management</td>\n      <td>Product Management</td>\n    </tr>\n    <tr>\n      <td>13</td>\n      <td>Vice President Product Management</td>\n      <td>Product Management</td>\n    </tr>\n    <tr>\n      <td>14</td>\n      <td>Vice President Quality Control</td>\n      <td>Quality Control</td>\n    </tr>\n    <tr>\n      <td>15</td>\n      <td>Vice President Sales</td>\n      <td>Sales</td>\n    </tr>\n    <tr>\n      <td>16</td>\n      <td>Vice President Product Management</td>\n      <td>Product Management</td>\n    </tr>\n    <tr>\n      <td>17</td>\n      <td>Vice President Accounting</td>\n      <td>Accounting</td>\n    </tr>\n    <tr>\n      <td>18</td>\n      <td>Vice President Marketing</td>\n      <td>Marketing</td>\n    </tr>\n    <tr>\n      <td>19</td>\n      <td>Vice President Product Management</td>\n      <td>Product Management</td>\n    </tr>\n    <tr>\n      <td>20</td>\n      <td>Vice President Accounting</td>\n      <td>Accounting</td>\n    </tr>\n    <tr>\n      <td>21</td>\n      <td>Vice President Accounting</td>\n      <td>Accounting</td>\n    </tr>\n    <tr>\n      <td>22</td>\n      <td>Vice President Quality Control</td>\n      <td>Quality Control</td>\n    </tr>\n    <tr>\n      <td>23</td>\n      <td>Vice President Product Management</td>\n      <td>Product Management</td>\n    </tr>\n    <tr>\n      <td>24</td>\n      <td>Vice President Accounting</td>\n      <td>Accounting</td>\n    </tr>\n    <tr>\n      <td>25</td>\n      <td>Vice President Quality Control</td>\n      <td>Quality Control</td>\n    </tr>\n    <tr>\n      <td>26</td>\n      <td>Vice President Quality Control</td>\n      <td>Quality Control</td>\n    </tr>\n    <tr>\n      <td>27</td>\n      <td>Vice President Marketing</td>\n      <td>Marketing</td>\n    </tr>\n    <tr>\n      <td>28</td>\n      <td>Vice President Quality Control</td>\n      <td>Quality Control</td>\n    </tr>\n    <tr>\n      <td>29</td>\n      <td>Vice President Marketing</td>\n      <td>Marketing</td>\n    </tr>\n    <tr>\n      <td>30</td>\n      <td>Vice President Marketing</td>\n      <td>Marketing</td>\n    </tr>\n    <tr>\n      <td>31</td>\n      <td>Vice President Sales</td>\n      <td>Sales</td>\n    </tr>\n    <tr>\n      <td>32</td>\n      <td>Vice President Quality Control</td>\n      <td>Quality Control</td>\n    </tr>\n    <tr>\n      <td>33</td>\n      <td>Vice President Sales</td>\n      <td>Sales</td>\n    </tr>\n    <tr>\n      <td>34</td>\n      <td>Vice President Quality Control</td>\n      <td>Quality Control</td>\n    </tr>\n    <tr>\n      <td>35</td>\n      <td>Vice President Quality Control</td>\n      <td>Quality Control</td>\n    </tr>\n    <tr>\n      <td>36</td>\n      <td>Vice President Product Management</td>\n      <td>Product Management</td>\n    </tr>\n    <tr>\n      <td>37</td>\n      <td>Vice President Quality Control</td>\n      <td>Quality Control</td>\n    </tr>\n    <tr>\n      <td>38</td>\n      <td>Vice President Accounting</td>\n      <td>Accounting</td>\n    </tr>\n    <tr>\n      <td>39</td>\n      <td>Vice President Accounting</td>\n      <td>Accounting</td>\n    </tr>\n    <tr>\n      <td>40</td>\n      <td>Vice President Product Management</td>\n      <td>Product Management</td>\n    </tr>\n    <tr>\n      <td>41</td>\n      <td>Vice President Sales</td>\n      <td>Sales</td>\n    </tr>\n    <tr>\n      <td>42</td>\n      <td>Vice President Quality Control</td>\n      <td>Quality Control</td>\n    </tr>\n    <tr>\n      <td>43</td>\n      <td>Vice President Accounting</td>\n      <td>Accounting</td>\n    </tr>\n    <tr>\n      <td>44</td>\n      <td>Vice President Accounting</td>\n      <td>Accounting</td>\n    </tr>\n    <tr>\n      <td>45</td>\n      <td>Vice President Quality Control</td>\n      <td>Quality Control</td>\n    </tr>\n    <tr>\n      <td>46</td>\n      <td>Vice President Quality Control</td>\n      <td>Quality Control</td>\n    </tr>\n    <tr>\n      <td>47</td>\n      <td>Vice President Product Management</td>\n      <td>Product Management</td>\n    </tr>\n  </tbody>\n</table>\n</div>",
      "text/plain": "                          replaced_vp         vp_position\n0            Vice President Marketing           Marketing\n1   Vice President Product Management  Product Management\n2            Vice President Marketing           Marketing\n3           Vice President Accounting          Accounting\n4      Vice President Quality Control     Quality Control\n5                Vice President Sales               Sales\n6   Vice President Product Management  Product Management\n7   Vice President Product Management  Product Management\n8           Vice President Accounting          Accounting\n9           Vice President Accounting          Accounting\n10           Vice President Marketing           Marketing\n11     Vice President Quality Control     Quality Control\n12  Vice President Product Management  Product Management\n13  Vice President Product Management  Product Management\n14     Vice President Quality Control     Quality Control\n15               Vice President Sales               Sales\n16  Vice President Product Management  Product Management\n17          Vice President Accounting          Accounting\n18           Vice President Marketing           Marketing\n19  Vice President Product Management  Product Management\n20          Vice President Accounting          Accounting\n21          Vice President Accounting          Accounting\n22     Vice President Quality Control     Quality Control\n23  Vice President Product Management  Product Management\n24          Vice President Accounting          Accounting\n25     Vice President Quality Control     Quality Control\n26     Vice President Quality Control     Quality Control\n27           Vice President Marketing           Marketing\n28     Vice President Quality Control     Quality Control\n29           Vice President Marketing           Marketing\n30           Vice President Marketing           Marketing\n31               Vice President Sales               Sales\n32     Vice President Quality Control     Quality Control\n33               Vice President Sales               Sales\n34     Vice President Quality Control     Quality Control\n35     Vice President Quality Control     Quality Control\n36  Vice President Product Management  Product Management\n37     Vice President Quality Control     Quality Control\n38          Vice President Accounting          Accounting\n39          Vice President Accounting          Accounting\n40  Vice President Product Management  Product Management\n41               Vice President Sales               Sales\n42     Vice President Quality Control     Quality Control\n43          Vice President Accounting          Accounting\n44          Vice President Accounting          Accounting\n45     Vice President Quality Control     Quality Control\n46     Vice President Quality Control     Quality Control\n47  Vice President Product Management  Product Management"
     },
     "execution_count": 22,
     "metadata": {},
     "output_type": "execute_result"
    }
   ],
   "source": [
    "cmd = \"\"\"SELECT\n",
    "         OVERLAY(job_title PLACING 'Vice President ' FROM 1 FOR 3) replaced_vp,\n",
    "         SUBSTRING(job_title FROM 4) vp_position\n",
    "         FROM staff\n",
    "         WHERE job_title ILIKE '%VP%'\n",
    "         ORDER BY salary\"\"\"\n",
    "cur.execute(cmd)\n",
    "cols = [x[0] for x in cur.description]\n",
    "pd.DataFrame(cur.fetchall(), columns=cols)"
   ]
  },
  {
   "cell_type": "markdown",
   "metadata": {},
   "source": [
    "# LIKE, SIMILAR TO\n",
    "Cool Regex Websites:  \n",
    "[Regex101](https://regex101.com/)  \n",
    "[Regexer](https://regexr.com/)"
   ]
  },
  {
   "cell_type": "code",
   "execution_count": 23,
   "metadata": {},
   "outputs": [
    {
     "data": {
      "text/html": "<div>\n<style scoped>\n    .dataframe tbody tr th:only-of-type {\n        vertical-align: middle;\n    }\n\n    .dataframe tbody tr th {\n        vertical-align: top;\n    }\n\n    .dataframe thead th {\n        text-align: right;\n    }\n</style>\n<table border=\"1\" class=\"dataframe\">\n  <thead>\n    <tr style=\"text-align: right;\">\n      <th></th>\n      <th>job_title</th>\n    </tr>\n  </thead>\n  <tbody>\n    <tr>\n      <td>0</td>\n      <td>Software Engineer III</td>\n    </tr>\n    <tr>\n      <td>1</td>\n      <td>Safety Technician I</td>\n    </tr>\n    <tr>\n      <td>2</td>\n      <td>Software Test Engineer III</td>\n    </tr>\n    <tr>\n      <td>3</td>\n      <td>Web Developer III</td>\n    </tr>\n    <tr>\n      <td>4</td>\n      <td>Programmer IV</td>\n    </tr>\n    <tr>\n      <td>...</td>\n      <td>...</td>\n    </tr>\n    <tr>\n      <td>283</td>\n      <td>Health Coach I</td>\n    </tr>\n    <tr>\n      <td>284</td>\n      <td>Safety Technician IV</td>\n    </tr>\n    <tr>\n      <td>285</td>\n      <td>Accountant III</td>\n    </tr>\n    <tr>\n      <td>286</td>\n      <td>Accountant II</td>\n    </tr>\n    <tr>\n      <td>287</td>\n      <td>Statistician IV</td>\n    </tr>\n  </tbody>\n</table>\n<p>288 rows × 1 columns</p>\n</div>",
      "text/plain": "                      job_title\n0         Software Engineer III\n1           Safety Technician I\n2    Software Test Engineer III\n3             Web Developer III\n4                 Programmer IV\n..                          ...\n283              Health Coach I\n284        Safety Technician IV\n285              Accountant III\n286               Accountant II\n287             Statistician IV\n\n[288 rows x 1 columns]"
     },
     "execution_count": 23,
     "metadata": {},
     "output_type": "execute_result"
    }
   ],
   "source": [
    "#not the cool way, repetition causes depletion of life energy and then you get fired! (╯°□°）╯︵ ┻━┻)\n",
    "cmd = \"\"\"SELECT job_title FROM staff\n",
    "         WHERE job_title LIKE '%IV%' \n",
    "         OR job_title LIKE '%III%' \n",
    "         OR job_title LIKE '%II%' \n",
    "         OR job_title LIKE '%I%' \"\"\"\n",
    "cur.execute(cmd)\n",
    "cols = [x[0] for x in cur.description]\n",
    "pd.DataFrame(cur.fetchall(), columns=cols)"
   ]
  },
  {
   "cell_type": "code",
   "execution_count": 24,
   "metadata": {},
   "outputs": [
    {
     "data": {
      "text/html": "<div>\n<style scoped>\n    .dataframe tbody tr th:only-of-type {\n        vertical-align: middle;\n    }\n\n    .dataframe tbody tr th {\n        vertical-align: top;\n    }\n\n    .dataframe thead th {\n        text-align: right;\n    }\n</style>\n<table border=\"1\" class=\"dataframe\">\n  <thead>\n    <tr style=\"text-align: right;\">\n      <th></th>\n      <th>job_title</th>\n    </tr>\n  </thead>\n  <tbody>\n    <tr>\n      <td>0</td>\n      <td>Account Representative I</td>\n    </tr>\n    <tr>\n      <td>1</td>\n      <td>Account Representative I</td>\n    </tr>\n    <tr>\n      <td>2</td>\n      <td>Account Representative I</td>\n    </tr>\n    <tr>\n      <td>3</td>\n      <td>Account Representative I</td>\n    </tr>\n    <tr>\n      <td>4</td>\n      <td>Account Representative II</td>\n    </tr>\n    <tr>\n      <td>...</td>\n      <td>...</td>\n    </tr>\n    <tr>\n      <td>283</td>\n      <td>Web Developer III</td>\n    </tr>\n    <tr>\n      <td>284</td>\n      <td>Web Developer III</td>\n    </tr>\n    <tr>\n      <td>285</td>\n      <td>Web Developer III</td>\n    </tr>\n    <tr>\n      <td>286</td>\n      <td>Web Developer IV</td>\n    </tr>\n    <tr>\n      <td>287</td>\n      <td>Web Developer IV</td>\n    </tr>\n  </tbody>\n</table>\n<p>288 rows × 1 columns</p>\n</div>",
      "text/plain": "                     job_title\n0     Account Representative I\n1     Account Representative I\n2     Account Representative I\n3     Account Representative I\n4    Account Representative II\n..                         ...\n283          Web Developer III\n284          Web Developer III\n285          Web Developer III\n286           Web Developer IV\n287           Web Developer IV\n\n[288 rows x 1 columns]"
     },
     "execution_count": 24,
     "metadata": {},
     "output_type": "execute_result"
    }
   ],
   "source": [
    "#all titles having levels at the end with any character before them\n",
    "#this way has few more computational units as well, yet both of them are 1 loop scans\n",
    "cmd = \"\"\"SELECT job_title FROM staff\n",
    "         WHERE job_title SIMILAR TO '%(I|II|III|IV)%'\n",
    "         ORDER BY job_title\n",
    "      \"\"\"\n",
    "cur.execute(cmd)\n",
    "cols = [x[0] for x in cur.description]\n",
    "pd.DataFrame(cur.fetchall(), columns=cols)"
   ]
  },
  {
   "cell_type": "code",
   "execution_count": 25,
   "metadata": {},
   "outputs": [
    {
     "data": {
      "text/html": "<div>\n<style scoped>\n    .dataframe tbody tr th:only-of-type {\n        vertical-align: middle;\n    }\n\n    .dataframe tbody tr th {\n        vertical-align: top;\n    }\n\n    .dataframe thead th {\n        text-align: right;\n    }\n</style>\n<table border=\"1\" class=\"dataframe\">\n  <thead>\n    <tr style=\"text-align: right;\">\n      <th></th>\n      <th>job_title</th>\n    </tr>\n  </thead>\n  <tbody>\n    <tr>\n      <td>0</td>\n      <td>Developer III</td>\n    </tr>\n    <tr>\n      <td>1</td>\n      <td>Developer IV</td>\n    </tr>\n    <tr>\n      <td>2</td>\n      <td>Developer IV</td>\n    </tr>\n    <tr>\n      <td>3</td>\n      <td>Developer IV</td>\n    </tr>\n    <tr>\n      <td>4</td>\n      <td>Developer IV</td>\n    </tr>\n    <tr>\n      <td>5</td>\n      <td>Developer II</td>\n    </tr>\n    <tr>\n      <td>6</td>\n      <td>Developer III</td>\n    </tr>\n    <tr>\n      <td>7</td>\n      <td>Developer IV</td>\n    </tr>\n    <tr>\n      <td>8</td>\n      <td>Developer I</td>\n    </tr>\n    <tr>\n      <td>9</td>\n      <td>Developer III</td>\n    </tr>\n  </tbody>\n</table>\n</div>",
      "text/plain": "       job_title\n0  Developer III\n1   Developer IV\n2   Developer IV\n3   Developer IV\n4   Developer IV\n5   Developer II\n6  Developer III\n7   Developer IV\n8    Developer I\n9  Developer III"
     },
     "execution_count": 25,
     "metadata": {},
     "output_type": "execute_result"
    }
   ],
   "source": [
    "#only jobs that start with Developer and any words in between and then levels and any words afterwards\n",
    "cmd = \"\"\"SELECT job_title FROM staff\n",
    "             WHERE job_title SIMILAR TO 'Developer%(I|II|III|IV)%'\n",
    "          \"\"\"\n",
    "cur.execute(cmd)\n",
    "cols = [x[0] for x in cur.description]\n",
    "pd.DataFrame(cur.fetchall(), columns=cols)"
   ]
  },
  {
   "cell_type": "code",
   "execution_count": 26,
   "metadata": {},
   "outputs": [
    {
     "data": {
      "text/html": "<div>\n<style scoped>\n    .dataframe tbody tr th:only-of-type {\n        vertical-align: middle;\n    }\n\n    .dataframe tbody tr th {\n        vertical-align: top;\n    }\n\n    .dataframe thead th {\n        text-align: right;\n    }\n</style>\n<table border=\"1\" class=\"dataframe\">\n  <thead>\n    <tr style=\"text-align: right;\">\n      <th></th>\n      <th>job_title</th>\n    </tr>\n  </thead>\n  <tbody>\n    <tr>\n      <td>0</td>\n      <td>Web Developer III</td>\n    </tr>\n    <tr>\n      <td>1</td>\n      <td>Web Developer III</td>\n    </tr>\n    <tr>\n      <td>2</td>\n      <td>Developer III</td>\n    </tr>\n    <tr>\n      <td>3</td>\n      <td>Web Developer I</td>\n    </tr>\n    <tr>\n      <td>4</td>\n      <td>Web Developer III</td>\n    </tr>\n    <tr>\n      <td>5</td>\n      <td>Web Developer II</td>\n    </tr>\n    <tr>\n      <td>6</td>\n      <td>Developer IV</td>\n    </tr>\n    <tr>\n      <td>7</td>\n      <td>Developer IV</td>\n    </tr>\n    <tr>\n      <td>8</td>\n      <td>Web Developer II</td>\n    </tr>\n    <tr>\n      <td>9</td>\n      <td>Web Developer I</td>\n    </tr>\n    <tr>\n      <td>10</td>\n      <td>Web Developer I</td>\n    </tr>\n    <tr>\n      <td>11</td>\n      <td>Developer IV</td>\n    </tr>\n    <tr>\n      <td>12</td>\n      <td>Web Developer IV</td>\n    </tr>\n    <tr>\n      <td>13</td>\n      <td>Developer IV</td>\n    </tr>\n    <tr>\n      <td>14</td>\n      <td>Web Developer III</td>\n    </tr>\n    <tr>\n      <td>15</td>\n      <td>Web Developer III</td>\n    </tr>\n    <tr>\n      <td>16</td>\n      <td>Web Developer I</td>\n    </tr>\n    <tr>\n      <td>17</td>\n      <td>Developer II</td>\n    </tr>\n    <tr>\n      <td>18</td>\n      <td>Developer III</td>\n    </tr>\n    <tr>\n      <td>19</td>\n      <td>Developer IV</td>\n    </tr>\n    <tr>\n      <td>20</td>\n      <td>Developer I</td>\n    </tr>\n    <tr>\n      <td>21</td>\n      <td>Developer III</td>\n    </tr>\n    <tr>\n      <td>22</td>\n      <td>Web Developer I</td>\n    </tr>\n    <tr>\n      <td>23</td>\n      <td>Web Developer IV</td>\n    </tr>\n  </tbody>\n</table>\n</div>",
      "text/plain": "            job_title\n0   Web Developer III\n1   Web Developer III\n2       Developer III\n3     Web Developer I\n4   Web Developer III\n5    Web Developer II\n6        Developer IV\n7        Developer IV\n8    Web Developer II\n9     Web Developer I\n10    Web Developer I\n11       Developer IV\n12   Web Developer IV\n13       Developer IV\n14  Web Developer III\n15  Web Developer III\n16    Web Developer I\n17       Developer II\n18      Developer III\n19       Developer IV\n20        Developer I\n21      Developer III\n22    Web Developer I\n23   Web Developer IV"
     },
     "execution_count": 26,
     "metadata": {},
     "output_type": "execute_result"
    }
   ],
   "source": [
    "#jobs with any character before developer, any character inbetween, levels, any character afterwards\n",
    "cmd = \"\"\"SELECT job_title FROM staff\n",
    "         WHERE job_title SIMILAR TO '%Developer%(I|II|III|IV)%'\n",
    "      \"\"\"\n",
    "cur.execute(cmd)\n",
    "cols = [x[0] for x in cur.description]\n",
    "pd.DataFrame(cur.fetchall(), columns=cols)\n"
   ]
  },
  {
   "cell_type": "code",
   "execution_count": 27,
   "metadata": {},
   "outputs": [
    {
     "data": {
      "text/html": "<div>\n<style scoped>\n    .dataframe tbody tr th:only-of-type {\n        vertical-align: middle;\n    }\n\n    .dataframe tbody tr th {\n        vertical-align: top;\n    }\n\n    .dataframe thead th {\n        text-align: right;\n    }\n</style>\n<table border=\"1\" class=\"dataframe\">\n  <thead>\n    <tr style=\"text-align: right;\">\n      <th></th>\n      <th>job_title</th>\n    </tr>\n  </thead>\n  <tbody>\n    <tr>\n      <td>0</td>\n      <td>Executive Secretary</td>\n    </tr>\n    <tr>\n      <td>1</td>\n      <td>VP Sales</td>\n    </tr>\n    <tr>\n      <td>2</td>\n      <td>VP Quality Control</td>\n    </tr>\n    <tr>\n      <td>3</td>\n      <td>Executive Secretary</td>\n    </tr>\n    <tr>\n      <td>4</td>\n      <td>Librarian</td>\n    </tr>\n    <tr>\n      <td>...</td>\n      <td>...</td>\n    </tr>\n    <tr>\n      <td>150</td>\n      <td>Engineer III</td>\n    </tr>\n    <tr>\n      <td>151</td>\n      <td>Legal Assistant</td>\n    </tr>\n    <tr>\n      <td>152</td>\n      <td>Editor</td>\n    </tr>\n    <tr>\n      <td>153</td>\n      <td>Environmental Tech</td>\n    </tr>\n    <tr>\n      <td>154</td>\n      <td>Librarian</td>\n    </tr>\n  </tbody>\n</table>\n<p>155 rows × 1 columns</p>\n</div>",
      "text/plain": "               job_title\n0    Executive Secretary\n1               VP Sales\n2     VP Quality Control\n3    Executive Secretary\n4              Librarian\n..                   ...\n150         Engineer III\n151      Legal Assistant\n152               Editor\n153   Environmental Tech\n154            Librarian\n\n[155 rows x 1 columns]"
     },
     "execution_count": 27,
     "metadata": {},
     "output_type": "execute_result"
    }
   ],
   "source": [
    "# any word that starts with letters L or O or V or E ಥ_ಥ\n",
    "cmd = \"\"\"SELECT job_title FROM staff\n",
    "         WHERE job_title SIMILAR TO '[LOVE]%'\n",
    "      \"\"\"\n",
    "cur.execute(cmd)\n",
    "cols = [x[0] for x in cur.description]\n",
    "pd.DataFrame(cur.fetchall(), columns=cols)"
   ]
  },
  {
   "cell_type": "code",
   "execution_count": 28,
   "metadata": {},
   "outputs": [
    {
     "data": {
      "text/html": "<div>\n<style scoped>\n    .dataframe tbody tr th:only-of-type {\n        vertical-align: middle;\n    }\n\n    .dataframe tbody tr th {\n        vertical-align: top;\n    }\n\n    .dataframe thead th {\n        text-align: right;\n    }\n</style>\n<table border=\"1\" class=\"dataframe\">\n  <thead>\n    <tr style=\"text-align: right;\">\n      <th></th>\n      <th>job_title</th>\n    </tr>\n  </thead>\n  <tbody>\n    <tr>\n      <td>0</td>\n      <td>Account Coordinator</td>\n    </tr>\n    <tr>\n      <td>1</td>\n      <td>Account Coordinator</td>\n    </tr>\n    <tr>\n      <td>2</td>\n      <td>Account Coordinator</td>\n    </tr>\n    <tr>\n      <td>3</td>\n      <td>Account Coordinator</td>\n    </tr>\n    <tr>\n      <td>4</td>\n      <td>Account Coordinator</td>\n    </tr>\n    <tr>\n      <td>...</td>\n      <td>...</td>\n    </tr>\n    <tr>\n      <td>366</td>\n      <td>Food Chemist</td>\n    </tr>\n    <tr>\n      <td>367</td>\n      <td>Food Chemist</td>\n    </tr>\n    <tr>\n      <td>368</td>\n      <td>Food Chemist</td>\n    </tr>\n    <tr>\n      <td>369</td>\n      <td>Food Chemist</td>\n    </tr>\n    <tr>\n      <td>370</td>\n      <td>Food Chemist</td>\n    </tr>\n  </tbody>\n</table>\n<p>371 rows × 1 columns</p>\n</div>",
      "text/plain": "               job_title\n0    Account Coordinator\n1    Account Coordinator\n2    Account Coordinator\n3    Account Coordinator\n4    Account Coordinator\n..                   ...\n366         Food Chemist\n367         Food Chemist\n368         Food Chemist\n369         Food Chemist\n370         Food Chemist\n\n[371 rows x 1 columns]"
     },
     "execution_count": 28,
     "metadata": {},
     "output_type": "execute_result"
    }
   ],
   "source": [
    "#any word that starts from the range of A to F\n",
    "cmd = \"\"\"SELECT job_title FROM staff\n",
    "         WHERE job_title SIMILAR TO '[A-F]%'\n",
    "         ORDER BY job_title\n",
    "      \"\"\"\n",
    "cur.execute(cmd)\n",
    "cols = [x[0] for x in cur.description]\n",
    "pd.DataFrame(cur.fetchall(), columns=cols)"
   ]
  },
  {
   "cell_type": "markdown",
   "metadata": {},
   "source": [
    "## Cases"
   ]
  },
  {
   "cell_type": "code",
   "execution_count": 29,
   "metadata": {},
   "outputs": [
    {
     "data": {
      "text/html": "<div>\n<style scoped>\n    .dataframe tbody tr th:only-of-type {\n        vertical-align: middle;\n    }\n\n    .dataframe tbody tr th {\n        vertical-align: top;\n    }\n\n    .dataframe thead th {\n        text-align: right;\n    }\n</style>\n<table border=\"1\" class=\"dataframe\">\n  <thead>\n    <tr style=\"text-align: right;\">\n      <th></th>\n      <th>job_title</th>\n      <th>levels</th>\n    </tr>\n  </thead>\n  <tbody>\n    <tr>\n      <td>0</td>\n      <td>Account Representative I</td>\n      <td>I</td>\n    </tr>\n    <tr>\n      <td>1</td>\n      <td>Account Representative I</td>\n      <td>I</td>\n    </tr>\n    <tr>\n      <td>2</td>\n      <td>Account Representative I</td>\n      <td>I</td>\n    </tr>\n    <tr>\n      <td>3</td>\n      <td>Account Representative I</td>\n      <td>I</td>\n    </tr>\n    <tr>\n      <td>4</td>\n      <td>Account Representative II</td>\n      <td>II</td>\n    </tr>\n    <tr>\n      <td>...</td>\n      <td>...</td>\n      <td>...</td>\n    </tr>\n    <tr>\n      <td>193</td>\n      <td>Web Developer III</td>\n      <td>III</td>\n    </tr>\n    <tr>\n      <td>194</td>\n      <td>Web Developer III</td>\n      <td>III</td>\n    </tr>\n    <tr>\n      <td>195</td>\n      <td>Web Developer III</td>\n      <td>III</td>\n    </tr>\n    <tr>\n      <td>196</td>\n      <td>Web Developer III</td>\n      <td>III</td>\n    </tr>\n    <tr>\n      <td>197</td>\n      <td>Web Developer III</td>\n      <td>III</td>\n    </tr>\n  </tbody>\n</table>\n<p>198 rows × 2 columns</p>\n</div>",
      "text/plain": "                     job_title levels\n0     Account Representative I      I\n1     Account Representative I      I\n2     Account Representative I      I\n3     Account Representative I      I\n4    Account Representative II     II\n..                         ...    ...\n193          Web Developer III    III\n194          Web Developer III    III\n195          Web Developer III    III\n196          Web Developer III    III\n197          Web Developer III    III\n\n[198 rows x 2 columns]"
     },
     "execution_count": 29,
     "metadata": {},
     "output_type": "execute_result"
    }
   ],
   "source": [
    "cmd = \"\"\"SELECT job_title, \n",
    "         CASE WHEN job_title SIMILAR TO '%IV' THEN 'IV'\n",
    "\t     WHEN job_title SIMILAR TO '%III' THEN 'III'\n",
    "\t     WHEN job_title SIMILAR TO '%II' THEN 'II'\n",
    "\t     WHEN job_title SIMILAR TO '%I' THEN 'I'\n",
    "         END AS levels\n",
    "         FROM staff\n",
    "         WHERE job_title SIMILAR TO '(%I|II|III|IV)'\n",
    "         ORDER BY job_title\"\"\"\n",
    "cur.execute(cmd)\n",
    "cols = [x[0] for x in cur.description]\n",
    "pd.DataFrame(cur.fetchall(), columns=cols)\n"
   ]
  },
  {
   "cell_type": "markdown",
   "metadata": {},
   "source": [
    "# Subqueries"
   ]
  },
  {
   "cell_type": "markdown",
   "metadata": {},
   "source": [
    "## SELECT Clause Subquery (New Column)"
   ]
  },
  {
   "cell_type": "code",
   "execution_count": 30,
   "metadata": {},
   "outputs": [
    {
     "data": {
      "text/html": "<div>\n<style scoped>\n    .dataframe tbody tr th:only-of-type {\n        vertical-align: middle;\n    }\n\n    .dataframe tbody tr th {\n        vertical-align: top;\n    }\n\n    .dataframe thead th {\n        text-align: right;\n    }\n</style>\n<table border=\"1\" class=\"dataframe\">\n  <thead>\n    <tr style=\"text-align: right;\">\n      <th></th>\n      <th>last_name</th>\n      <th>job_title</th>\n      <th>salary</th>\n      <th>department</th>\n      <th>round</th>\n    </tr>\n  </thead>\n  <tbody>\n    <tr>\n      <td>0</td>\n      <td>Meyer</td>\n      <td>Programmer IV</td>\n      <td>42602</td>\n      <td>Automotive</td>\n      <td>99658</td>\n    </tr>\n    <tr>\n      <td>1</td>\n      <td>Burns</td>\n      <td>Technical Writer</td>\n      <td>44377</td>\n      <td>Automotive</td>\n      <td>99658</td>\n    </tr>\n    <tr>\n      <td>2</td>\n      <td>Duncan</td>\n      <td>Electrical Engineer</td>\n      <td>45774</td>\n      <td>Automotive</td>\n      <td>99658</td>\n    </tr>\n    <tr>\n      <td>3</td>\n      <td>Marshall</td>\n      <td>VP Sales</td>\n      <td>47281</td>\n      <td>Automotive</td>\n      <td>99658</td>\n    </tr>\n    <tr>\n      <td>4</td>\n      <td>Peterson</td>\n      <td>Pharmacist</td>\n      <td>53964</td>\n      <td>Automotive</td>\n      <td>99658</td>\n    </tr>\n    <tr>\n      <td>...</td>\n      <td>...</td>\n      <td>...</td>\n      <td>...</td>\n      <td>...</td>\n      <td>...</td>\n    </tr>\n    <tr>\n      <td>995</td>\n      <td>Hansen</td>\n      <td>Office Assistant III</td>\n      <td>145559</td>\n      <td>Toys</td>\n      <td>96187</td>\n    </tr>\n    <tr>\n      <td>996</td>\n      <td>Holmes</td>\n      <td>Analog Circuit Design manager</td>\n      <td>147150</td>\n      <td>Toys</td>\n      <td>96187</td>\n    </tr>\n    <tr>\n      <td>997</td>\n      <td>Ramirez</td>\n      <td>Chemical Engineer</td>\n      <td>147862</td>\n      <td>Toys</td>\n      <td>96187</td>\n    </tr>\n    <tr>\n      <td>998</td>\n      <td>Stewart</td>\n      <td>Data Coordiator</td>\n      <td>148144</td>\n      <td>Toys</td>\n      <td>96187</td>\n    </tr>\n    <tr>\n      <td>999</td>\n      <td>Greene</td>\n      <td>Geologist III</td>\n      <td>149835</td>\n      <td>Toys</td>\n      <td>96187</td>\n    </tr>\n  </tbody>\n</table>\n<p>1000 rows × 5 columns</p>\n</div>",
      "text/plain": "    last_name                      job_title  salary  department  round\n0       Meyer                  Programmer IV   42602  Automotive  99658\n1       Burns               Technical Writer   44377  Automotive  99658\n2      Duncan            Electrical Engineer   45774  Automotive  99658\n3    Marshall                       VP Sales   47281  Automotive  99658\n4    Peterson                     Pharmacist   53964  Automotive  99658\n..        ...                            ...     ...         ...    ...\n995    Hansen           Office Assistant III  145559        Toys  96187\n996    Holmes  Analog Circuit Design manager  147150        Toys  96187\n997   Ramirez              Chemical Engineer  147862        Toys  96187\n998   Stewart                Data Coordiator  148144        Toys  96187\n999    Greene                  Geologist III  149835        Toys  96187\n\n[1000 rows x 5 columns]"
     },
     "execution_count": 30,
     "metadata": {},
     "output_type": "execute_result"
    }
   ],
   "source": [
    "#getting the per department average for each employee( •_•)>⌐■-■\n",
    "cmd = \"\"\"SELECT \n",
    "         s1.last_name,\n",
    "         s1.job_title, \n",
    "         s1.salary, \n",
    "         s1.department, \n",
    "         (SELECT ROUND(AVG(SALARY)) FROM staff s2 WHERE s2.department =                s1.department)\n",
    "         FROM staff s1\n",
    "         ORDER BY s1.department, s1.salary\n",
    "      \"\"\"\n",
    "cur.execute(cmd)\n",
    "cols = [x[0] for x in cur.description]\n",
    "pd.DataFrame(cur.fetchall(), columns=cols)"
   ]
  },
  {
   "cell_type": "markdown",
   "metadata": {},
   "source": [
    "## FROM Clause Subquery"
   ]
  },
  {
   "cell_type": "code",
   "execution_count": 31,
   "metadata": {},
   "outputs": [
    {
     "data": {
      "text/html": "<div>\n<style scoped>\n    .dataframe tbody tr th:only-of-type {\n        vertical-align: middle;\n    }\n\n    .dataframe tbody tr th {\n        vertical-align: top;\n    }\n\n    .dataframe thead th {\n        text-align: right;\n    }\n</style>\n<table border=\"1\" class=\"dataframe\">\n  <thead>\n    <tr style=\"text-align: right;\">\n      <th></th>\n      <th>department</th>\n      <th>standard_deviation_salary_lower_50k</th>\n    </tr>\n  </thead>\n  <tbody>\n    <tr>\n      <td>0</td>\n      <td>Tools</td>\n      <td>1755.75</td>\n    </tr>\n    <tr>\n      <td>1</td>\n      <td>Electronics</td>\n      <td>3029.66</td>\n    </tr>\n    <tr>\n      <td>2</td>\n      <td>Sports</td>\n      <td>5935.45</td>\n    </tr>\n    <tr>\n      <td>3</td>\n      <td>Books</td>\n      <td>2229.88</td>\n    </tr>\n    <tr>\n      <td>4</td>\n      <td>Clothing</td>\n      <td>732.50</td>\n    </tr>\n    <tr>\n      <td>5</td>\n      <td>Kids</td>\n      <td>3043.24</td>\n    </tr>\n    <tr>\n      <td>6</td>\n      <td>Music</td>\n      <td>3127.45</td>\n    </tr>\n    <tr>\n      <td>7</td>\n      <td>Automotive</td>\n      <td>1995.02</td>\n    </tr>\n    <tr>\n      <td>8</td>\n      <td>Outdoors</td>\n      <td>1913.43</td>\n    </tr>\n    <tr>\n      <td>9</td>\n      <td>Toys</td>\n      <td>2686.47</td>\n    </tr>\n    <tr>\n      <td>10</td>\n      <td>Industrial</td>\n      <td>4260.74</td>\n    </tr>\n    <tr>\n      <td>11</td>\n      <td>Health</td>\n      <td>2437.21</td>\n    </tr>\n    <tr>\n      <td>12</td>\n      <td>Grocery</td>\n      <td>342.06</td>\n    </tr>\n    <tr>\n      <td>13</td>\n      <td>Movies</td>\n      <td>4281.94</td>\n    </tr>\n    <tr>\n      <td>14</td>\n      <td>Jewelery</td>\n      <td>3258.09</td>\n    </tr>\n    <tr>\n      <td>15</td>\n      <td>Home</td>\n      <td>3003.46</td>\n    </tr>\n    <tr>\n      <td>16</td>\n      <td>Baby</td>\n      <td>3460.07</td>\n    </tr>\n    <tr>\n      <td>17</td>\n      <td>Shoes</td>\n      <td>2380.12</td>\n    </tr>\n    <tr>\n      <td>18</td>\n      <td>Games</td>\n      <td>3564.90</td>\n    </tr>\n    <tr>\n      <td>19</td>\n      <td>Beauty</td>\n      <td>4360.02</td>\n    </tr>\n    <tr>\n      <td>20</td>\n      <td>Computers</td>\n      <td>1124.72</td>\n    </tr>\n  </tbody>\n</table>\n</div>",
      "text/plain": "     department standard_deviation_salary_lower_50k\n0         Tools                             1755.75\n1   Electronics                             3029.66\n2        Sports                             5935.45\n3         Books                             2229.88\n4      Clothing                              732.50\n5          Kids                             3043.24\n6         Music                             3127.45\n7    Automotive                             1995.02\n8      Outdoors                             1913.43\n9          Toys                             2686.47\n10   Industrial                             4260.74\n11       Health                             2437.21\n12      Grocery                              342.06\n13       Movies                             4281.94\n14     Jewelery                             3258.09\n15         Home                             3003.46\n16         Baby                             3460.07\n17        Shoes                             2380.12\n18        Games                             3564.90\n19       Beauty                             4360.02\n20    Computers                             1124.72"
     },
     "execution_count": 31,
     "metadata": {},
     "output_type": "execute_result"
    }
   ],
   "source": [
    "#standard_deviation of salaries lower than 50k per department\n",
    "cmd =\"\"\"SELECT s1.department, \n",
    "        ROUND(STDDEV(s1.salary),2) standard_deviation_salary_lower_50k\n",
    "        FROM (SELECT department, salary FROM staff\n",
    "        WHERE salary < 50000)s1\n",
    "        GROUP BY s1.department\n",
    "     \"\"\" \n",
    "cur.execute(cmd)\n",
    "cols = [x[0] for x in cur.description]\n",
    "pd.DataFrame(cur.fetchall(), columns=cols)"
   ]
  },
  {
   "cell_type": "markdown",
   "metadata": {},
   "source": [
    "## WHERE Clause Subquery"
   ]
  },
  {
   "cell_type": "code",
   "execution_count": 32,
   "metadata": {},
   "outputs": [
    {
     "data": {
      "text/html": "<div>\n<style scoped>\n    .dataframe tbody tr th:only-of-type {\n        vertical-align: middle;\n    }\n\n    .dataframe tbody tr th {\n        vertical-align: top;\n    }\n\n    .dataframe thead th {\n        text-align: right;\n    }\n</style>\n<table border=\"1\" class=\"dataframe\">\n  <thead>\n    <tr style=\"text-align: right;\">\n      <th></th>\n      <th>last_name</th>\n      <th>job_title</th>\n      <th>department</th>\n      <th>salary</th>\n    </tr>\n  </thead>\n  <tbody>\n    <tr>\n      <td>0</td>\n      <td>Price</td>\n      <td>Graphic Designer</td>\n      <td>Baby</td>\n      <td>96388</td>\n    </tr>\n    <tr>\n      <td>1</td>\n      <td>Mason</td>\n      <td>Accounting Assistant I</td>\n      <td>Beauty</td>\n      <td>96673</td>\n    </tr>\n    <tr>\n      <td>2</td>\n      <td>Cole</td>\n      <td>Product Engineer</td>\n      <td>Sports</td>\n      <td>96739</td>\n    </tr>\n    <tr>\n      <td>3</td>\n      <td>Ruiz</td>\n      <td>Database Administrator II</td>\n      <td>Outdoors</td>\n      <td>96782</td>\n    </tr>\n    <tr>\n      <td>4</td>\n      <td>Murray</td>\n      <td>Desktop Support Technician</td>\n      <td>Jewelery</td>\n      <td>96897</td>\n    </tr>\n    <tr>\n      <td>...</td>\n      <td>...</td>\n      <td>...</td>\n      <td>...</td>\n      <td>...</td>\n    </tr>\n    <tr>\n      <td>104</td>\n      <td>Wright</td>\n      <td>Mechanical Systems Engineer</td>\n      <td>Shoes</td>\n      <td>109233</td>\n    </tr>\n    <tr>\n      <td>105</td>\n      <td>Cook</td>\n      <td>Chief Design Engineer</td>\n      <td>Music</td>\n      <td>109404</td>\n    </tr>\n    <tr>\n      <td>106</td>\n      <td>Gibson</td>\n      <td>Engineer II</td>\n      <td>Computers</td>\n      <td>109449</td>\n    </tr>\n    <tr>\n      <td>107</td>\n      <td>Washington</td>\n      <td>VP Quality Control</td>\n      <td>Kids</td>\n      <td>109828</td>\n    </tr>\n    <tr>\n      <td>108</td>\n      <td>Day</td>\n      <td>VP Sales</td>\n      <td>Electronics</td>\n      <td>109890</td>\n    </tr>\n  </tbody>\n</table>\n<p>109 rows × 4 columns</p>\n</div>",
      "text/plain": "      last_name                    job_title   department  salary\n0         Price             Graphic Designer         Baby   96388\n1         Mason       Accounting Assistant I       Beauty   96673\n2          Cole             Product Engineer       Sports   96739\n3          Ruiz    Database Administrator II     Outdoors   96782\n4        Murray   Desktop Support Technician     Jewelery   96897\n..          ...                          ...          ...     ...\n104      Wright  Mechanical Systems Engineer        Shoes  109233\n105        Cook        Chief Design Engineer        Music  109404\n106      Gibson                  Engineer II    Computers  109449\n107  Washington           VP Quality Control         Kids  109828\n108         Day                     VP Sales  Electronics  109890\n\n[109 rows x 4 columns]"
     },
     "execution_count": 32,
     "metadata": {},
     "output_type": "execute_result"
    }
   ],
   "source": [
    "#selecting employees where their salary is between the average salary of the Toys department and 110k\n",
    "\n",
    "cmd = \"\"\"SELECT last_name, job_title, department, salary\n",
    "         FROM staff\n",
    "         WHERE salary \n",
    "         BETWEEN\n",
    "         (SELECT AVG(salary) FROM staff\n",
    "         WHERE department='Toys'\n",
    "         GROUP BY department) \n",
    "         AND 110000\n",
    "         ORDER BY salary\n",
    "      \"\"\"\n",
    "cur.execute(cmd)\n",
    "cols = [x[0] for x in cur.description]\n",
    "pd.DataFrame(cur.fetchall(), columns=cols)"
   ]
  },
  {
   "cell_type": "markdown",
   "metadata": {},
   "source": [
    "# Joins"
   ]
  },
  {
   "cell_type": "code",
   "execution_count": 33,
   "metadata": {},
   "outputs": [
    {
     "data": {
      "text/html": "<div>\n<style scoped>\n    .dataframe tbody tr th:only-of-type {\n        vertical-align: middle;\n    }\n\n    .dataframe tbody tr th {\n        vertical-align: top;\n    }\n\n    .dataframe thead th {\n        text-align: right;\n    }\n</style>\n<table border=\"1\" class=\"dataframe\">\n  <thead>\n    <tr style=\"text-align: right;\">\n      <th></th>\n      <th>region_id</th>\n      <th>department</th>\n      <th>id</th>\n      <th>last_name</th>\n      <th>email</th>\n      <th>gender</th>\n      <th>start_date</th>\n      <th>salary</th>\n      <th>job_title</th>\n      <th>company_division</th>\n      <th>company_regions</th>\n      <th>country</th>\n    </tr>\n  </thead>\n  <tbody>\n    <tr>\n      <td>0</td>\n      <td>5</td>\n      <td>Shoes</td>\n      <td>637</td>\n      <td>Knight</td>\n      <td>dknightho@buzzfeed.com</td>\n      <td>Female</td>\n      <td>2007-07-25</td>\n      <td>84549</td>\n      <td>Senior Cost Accountant</td>\n      <td>Domestic</td>\n      <td>British Columbia</td>\n      <td>Canada</td>\n    </tr>\n    <tr>\n      <td>1</td>\n      <td>5</td>\n      <td>Grocery</td>\n      <td>290</td>\n      <td>Carter</td>\n      <td>scarter81@cargocollective.com</td>\n      <td>Male</td>\n      <td>2007-02-09</td>\n      <td>120800</td>\n      <td>Accountant III</td>\n      <td>Domestic</td>\n      <td>British Columbia</td>\n      <td>Canada</td>\n    </tr>\n    <tr>\n      <td>2</td>\n      <td>5</td>\n      <td>Outdoors</td>\n      <td>630</td>\n      <td>Pierce</td>\n      <td>spiercehh@google.nl</td>\n      <td>Male</td>\n      <td>2002-02-09</td>\n      <td>96107</td>\n      <td>Actuary</td>\n      <td>Outdoors &amp; Garden</td>\n      <td>British Columbia</td>\n      <td>Canada</td>\n    </tr>\n    <tr>\n      <td>3</td>\n      <td>5</td>\n      <td>Jewelery</td>\n      <td>628</td>\n      <td>Diaz</td>\n      <td>rdiazhf@nih.gov</td>\n      <td>Male</td>\n      <td>2008-08-11</td>\n      <td>65110</td>\n      <td>Compensation Analyst</td>\n      <td>Fashion</td>\n      <td>British Columbia</td>\n      <td>Canada</td>\n    </tr>\n    <tr>\n      <td>4</td>\n      <td>5</td>\n      <td>Industrial</td>\n      <td>895</td>\n      <td>Moore</td>\n      <td>kmooreou@slate.com</td>\n      <td>Male</td>\n      <td>2014-02-23</td>\n      <td>40194</td>\n      <td>Environmental Specialist</td>\n      <td>Auto &amp; Hardware</td>\n      <td>British Columbia</td>\n      <td>Canada</td>\n    </tr>\n    <tr>\n      <td>...</td>\n      <td>...</td>\n      <td>...</td>\n      <td>...</td>\n      <td>...</td>\n      <td>...</td>\n      <td>...</td>\n      <td>...</td>\n      <td>...</td>\n      <td>...</td>\n      <td>...</td>\n      <td>...</td>\n      <td>...</td>\n    </tr>\n    <tr>\n      <td>995</td>\n      <td>4</td>\n      <td>Baby</td>\n      <td>827</td>\n      <td>Fowler</td>\n      <td>hfowlermy@nps.gov</td>\n      <td>Male</td>\n      <td>2009-05-07</td>\n      <td>110383</td>\n      <td>Chief Design Engineer</td>\n      <td>Domestic</td>\n      <td>Southwest</td>\n      <td>USA</td>\n    </tr>\n    <tr>\n      <td>996</td>\n      <td>4</td>\n      <td>Garden</td>\n      <td>693</td>\n      <td>Carr</td>\n      <td>hcarrj8@latimes.com</td>\n      <td>Male</td>\n      <td>2005-01-17</td>\n      <td>143570</td>\n      <td>Actuary</td>\n      <td>Outdoors &amp; Garden</td>\n      <td>Southwest</td>\n      <td>USA</td>\n    </tr>\n    <tr>\n      <td>997</td>\n      <td>4</td>\n      <td>Books</td>\n      <td>472</td>\n      <td>Arnold</td>\n      <td>larnoldd3@webeden.co.uk</td>\n      <td>Female</td>\n      <td>2012-02-25</td>\n      <td>133781</td>\n      <td>Office Assistant I</td>\n      <td>None</td>\n      <td>Southwest</td>\n      <td>USA</td>\n    </tr>\n    <tr>\n      <td>998</td>\n      <td>4</td>\n      <td>Computers</td>\n      <td>140</td>\n      <td>Wheeler</td>\n      <td>bwheeler3v@google.co.uk</td>\n      <td>Male</td>\n      <td>2001-01-22</td>\n      <td>82358</td>\n      <td>Information Systems Manager</td>\n      <td>Electronic Equipment</td>\n      <td>Southwest</td>\n      <td>USA</td>\n    </tr>\n    <tr>\n      <td>999</td>\n      <td>4</td>\n      <td>Music</td>\n      <td>690</td>\n      <td>Perkins</td>\n      <td>rperkinsj5@ehow.com</td>\n      <td>Male</td>\n      <td>2000-05-09</td>\n      <td>57988</td>\n      <td>Web Developer I</td>\n      <td>Entertainment</td>\n      <td>Southwest</td>\n      <td>USA</td>\n    </tr>\n  </tbody>\n</table>\n<p>1000 rows × 12 columns</p>\n</div>",
      "text/plain": "     region_id  department   id last_name                          email  \\\n0            5       Shoes  637    Knight         dknightho@buzzfeed.com   \n1            5     Grocery  290    Carter  scarter81@cargocollective.com   \n2            5    Outdoors  630    Pierce            spiercehh@google.nl   \n3            5    Jewelery  628      Diaz                rdiazhf@nih.gov   \n4            5  Industrial  895     Moore             kmooreou@slate.com   \n..         ...         ...  ...       ...                            ...   \n995          4        Baby  827    Fowler              hfowlermy@nps.gov   \n996          4      Garden  693      Carr            hcarrj8@latimes.com   \n997          4       Books  472    Arnold        larnoldd3@webeden.co.uk   \n998          4   Computers  140   Wheeler        bwheeler3v@google.co.uk   \n999          4       Music  690   Perkins            rperkinsj5@ehow.com   \n\n     gender  start_date  salary                    job_title  \\\n0    Female  2007-07-25   84549       Senior Cost Accountant   \n1      Male  2007-02-09  120800               Accountant III   \n2      Male  2002-02-09   96107                      Actuary   \n3      Male  2008-08-11   65110         Compensation Analyst   \n4      Male  2014-02-23   40194     Environmental Specialist   \n..      ...         ...     ...                          ...   \n995    Male  2009-05-07  110383        Chief Design Engineer   \n996    Male  2005-01-17  143570                      Actuary   \n997  Female  2012-02-25  133781           Office Assistant I   \n998    Male  2001-01-22   82358  Information Systems Manager   \n999    Male  2000-05-09   57988              Web Developer I   \n\n         company_division   company_regions country  \n0                Domestic  British Columbia  Canada  \n1                Domestic  British Columbia  Canada  \n2       Outdoors & Garden  British Columbia  Canada  \n3                 Fashion  British Columbia  Canada  \n4         Auto & Hardware  British Columbia  Canada  \n..                    ...               ...     ...  \n995              Domestic         Southwest     USA  \n996     Outdoors & Garden         Southwest     USA  \n997                  None         Southwest     USA  \n998  Electronic Equipment         Southwest     USA  \n999         Entertainment         Southwest     USA  \n\n[1000 rows x 12 columns]"
     },
     "execution_count": 33,
     "metadata": {},
     "output_type": "execute_result"
    }
   ],
   "source": [
    "#we can use USING(shared_column_name) when the column names are the same\n",
    "cmd = \"\"\"SELECT *\n",
    "         FROM staff\n",
    "         LEFT JOIN company_divisions\n",
    "         USING (department)\n",
    "         LEFT JOIN company_regions\n",
    "         USING (region_id)\n",
    "         ORDER BY country, company_regions\n",
    "      \"\"\"\n",
    "cur.execute(cmd)\n",
    "cols = [x[0] for x in cur.description]\n",
    "pd.DataFrame(cur.fetchall(), columns=cols)"
   ]
  },
  {
   "cell_type": "markdown",
   "metadata": {},
   "source": [
    "# Creating Views"
   ]
  },
  {
   "cell_type": "markdown",
   "metadata": {},
   "source": [
    "Views can help us preserve the tables we created and additionally save us processing power and cause less strain on the server. "
   ]
  },
  {
   "cell_type": "code",
   "execution_count": 34,
   "metadata": {},
   "outputs": [],
   "source": [
    "#instead of typing the same command for the upper table we can create view:\n",
    "#CREATE OR REPLACE makes sure the table gets overwritten if it already exists use it wisely\n",
    "#if table already exists and you try to create with same name, you get error.\n",
    "cmd = \"\"\"CREATE OR REPLACE VIEW staff_div_reg AS\n",
    "         SELECT *\n",
    "         FROM staff\n",
    "         LEFT JOIN company_divisions\n",
    "         USING (department)\n",
    "         LEFT JOIN company_regions\n",
    "         USING (region_id)\n",
    "         ORDER BY country, company_regions\n",
    "      \"\"\"\n",
    "cur.execute(cmd)\n",
    "conn.commit()"
   ]
  },
  {
   "cell_type": "code",
   "execution_count": 35,
   "metadata": {},
   "outputs": [
    {
     "data": {
      "text/html": "<div>\n<style scoped>\n    .dataframe tbody tr th:only-of-type {\n        vertical-align: middle;\n    }\n\n    .dataframe tbody tr th {\n        vertical-align: top;\n    }\n\n    .dataframe thead th {\n        text-align: right;\n    }\n</style>\n<table border=\"1\" class=\"dataframe\">\n  <thead>\n    <tr style=\"text-align: right;\">\n      <th></th>\n      <th>region_id</th>\n      <th>department</th>\n      <th>id</th>\n      <th>last_name</th>\n      <th>email</th>\n      <th>gender</th>\n      <th>start_date</th>\n      <th>salary</th>\n      <th>job_title</th>\n      <th>company_division</th>\n      <th>company_regions</th>\n      <th>country</th>\n    </tr>\n  </thead>\n  <tbody>\n    <tr>\n      <td>0</td>\n      <td>5</td>\n      <td>Shoes</td>\n      <td>637</td>\n      <td>Knight</td>\n      <td>dknightho@buzzfeed.com</td>\n      <td>Female</td>\n      <td>2007-07-25</td>\n      <td>84549</td>\n      <td>Senior Cost Accountant</td>\n      <td>Domestic</td>\n      <td>British Columbia</td>\n      <td>Canada</td>\n    </tr>\n    <tr>\n      <td>1</td>\n      <td>5</td>\n      <td>Grocery</td>\n      <td>290</td>\n      <td>Carter</td>\n      <td>scarter81@cargocollective.com</td>\n      <td>Male</td>\n      <td>2007-02-09</td>\n      <td>120800</td>\n      <td>Accountant III</td>\n      <td>Domestic</td>\n      <td>British Columbia</td>\n      <td>Canada</td>\n    </tr>\n    <tr>\n      <td>2</td>\n      <td>5</td>\n      <td>Outdoors</td>\n      <td>630</td>\n      <td>Pierce</td>\n      <td>spiercehh@google.nl</td>\n      <td>Male</td>\n      <td>2002-02-09</td>\n      <td>96107</td>\n      <td>Actuary</td>\n      <td>Outdoors &amp; Garden</td>\n      <td>British Columbia</td>\n      <td>Canada</td>\n    </tr>\n    <tr>\n      <td>3</td>\n      <td>5</td>\n      <td>Jewelery</td>\n      <td>628</td>\n      <td>Diaz</td>\n      <td>rdiazhf@nih.gov</td>\n      <td>Male</td>\n      <td>2008-08-11</td>\n      <td>65110</td>\n      <td>Compensation Analyst</td>\n      <td>Fashion</td>\n      <td>British Columbia</td>\n      <td>Canada</td>\n    </tr>\n    <tr>\n      <td>4</td>\n      <td>5</td>\n      <td>Industrial</td>\n      <td>895</td>\n      <td>Moore</td>\n      <td>kmooreou@slate.com</td>\n      <td>Male</td>\n      <td>2014-02-23</td>\n      <td>40194</td>\n      <td>Environmental Specialist</td>\n      <td>Auto &amp; Hardware</td>\n      <td>British Columbia</td>\n      <td>Canada</td>\n    </tr>\n    <tr>\n      <td>...</td>\n      <td>...</td>\n      <td>...</td>\n      <td>...</td>\n      <td>...</td>\n      <td>...</td>\n      <td>...</td>\n      <td>...</td>\n      <td>...</td>\n      <td>...</td>\n      <td>...</td>\n      <td>...</td>\n      <td>...</td>\n    </tr>\n    <tr>\n      <td>995</td>\n      <td>4</td>\n      <td>Baby</td>\n      <td>827</td>\n      <td>Fowler</td>\n      <td>hfowlermy@nps.gov</td>\n      <td>Male</td>\n      <td>2009-05-07</td>\n      <td>110383</td>\n      <td>Chief Design Engineer</td>\n      <td>Domestic</td>\n      <td>Southwest</td>\n      <td>USA</td>\n    </tr>\n    <tr>\n      <td>996</td>\n      <td>4</td>\n      <td>Garden</td>\n      <td>693</td>\n      <td>Carr</td>\n      <td>hcarrj8@latimes.com</td>\n      <td>Male</td>\n      <td>2005-01-17</td>\n      <td>143570</td>\n      <td>Actuary</td>\n      <td>Outdoors &amp; Garden</td>\n      <td>Southwest</td>\n      <td>USA</td>\n    </tr>\n    <tr>\n      <td>997</td>\n      <td>4</td>\n      <td>Books</td>\n      <td>472</td>\n      <td>Arnold</td>\n      <td>larnoldd3@webeden.co.uk</td>\n      <td>Female</td>\n      <td>2012-02-25</td>\n      <td>133781</td>\n      <td>Office Assistant I</td>\n      <td>None</td>\n      <td>Southwest</td>\n      <td>USA</td>\n    </tr>\n    <tr>\n      <td>998</td>\n      <td>4</td>\n      <td>Computers</td>\n      <td>140</td>\n      <td>Wheeler</td>\n      <td>bwheeler3v@google.co.uk</td>\n      <td>Male</td>\n      <td>2001-01-22</td>\n      <td>82358</td>\n      <td>Information Systems Manager</td>\n      <td>Electronic Equipment</td>\n      <td>Southwest</td>\n      <td>USA</td>\n    </tr>\n    <tr>\n      <td>999</td>\n      <td>4</td>\n      <td>Music</td>\n      <td>690</td>\n      <td>Perkins</td>\n      <td>rperkinsj5@ehow.com</td>\n      <td>Male</td>\n      <td>2000-05-09</td>\n      <td>57988</td>\n      <td>Web Developer I</td>\n      <td>Entertainment</td>\n      <td>Southwest</td>\n      <td>USA</td>\n    </tr>\n  </tbody>\n</table>\n<p>1000 rows × 12 columns</p>\n</div>",
      "text/plain": "     region_id  department   id last_name                          email  \\\n0            5       Shoes  637    Knight         dknightho@buzzfeed.com   \n1            5     Grocery  290    Carter  scarter81@cargocollective.com   \n2            5    Outdoors  630    Pierce            spiercehh@google.nl   \n3            5    Jewelery  628      Diaz                rdiazhf@nih.gov   \n4            5  Industrial  895     Moore             kmooreou@slate.com   \n..         ...         ...  ...       ...                            ...   \n995          4        Baby  827    Fowler              hfowlermy@nps.gov   \n996          4      Garden  693      Carr            hcarrj8@latimes.com   \n997          4       Books  472    Arnold        larnoldd3@webeden.co.uk   \n998          4   Computers  140   Wheeler        bwheeler3v@google.co.uk   \n999          4       Music  690   Perkins            rperkinsj5@ehow.com   \n\n     gender  start_date  salary                    job_title  \\\n0    Female  2007-07-25   84549       Senior Cost Accountant   \n1      Male  2007-02-09  120800               Accountant III   \n2      Male  2002-02-09   96107                      Actuary   \n3      Male  2008-08-11   65110         Compensation Analyst   \n4      Male  2014-02-23   40194     Environmental Specialist   \n..      ...         ...     ...                          ...   \n995    Male  2009-05-07  110383        Chief Design Engineer   \n996    Male  2005-01-17  143570                      Actuary   \n997  Female  2012-02-25  133781           Office Assistant I   \n998    Male  2001-01-22   82358  Information Systems Manager   \n999    Male  2000-05-09   57988              Web Developer I   \n\n         company_division   company_regions country  \n0                Domestic  British Columbia  Canada  \n1                Domestic  British Columbia  Canada  \n2       Outdoors & Garden  British Columbia  Canada  \n3                 Fashion  British Columbia  Canada  \n4         Auto & Hardware  British Columbia  Canada  \n..                    ...               ...     ...  \n995              Domestic         Southwest     USA  \n996     Outdoors & Garden         Southwest     USA  \n997                  None         Southwest     USA  \n998  Electronic Equipment         Southwest     USA  \n999         Entertainment         Southwest     USA  \n\n[1000 rows x 12 columns]"
     },
     "execution_count": 35,
     "metadata": {},
     "output_type": "execute_result"
    }
   ],
   "source": [
    "cmd = \"\"\"SELECT * FROM staff_div_reg\"\"\"\n",
    "cur.execute(cmd)\n",
    "cols = [x[0] for x in cur.description]\n",
    "pd.DataFrame(cur.fetchall(), columns=cols)"
   ]
  },
  {
   "cell_type": "code",
   "execution_count": 36,
   "metadata": {},
   "outputs": [
    {
     "data": {
      "text/html": "<div>\n<style scoped>\n    .dataframe tbody tr th:only-of-type {\n        vertical-align: middle;\n    }\n\n    .dataframe tbody tr th {\n        vertical-align: top;\n    }\n\n    .dataframe thead th {\n        text-align: right;\n    }\n</style>\n<table border=\"1\" class=\"dataframe\">\n  <thead>\n    <tr style=\"text-align: right;\">\n      <th></th>\n      <th>country</th>\n      <th>company_regions</th>\n      <th>count</th>\n      <th>gender</th>\n      <th>avg_salary</th>\n    </tr>\n  </thead>\n  <tbody>\n    <tr>\n      <td>0</td>\n      <td>Canada</td>\n      <td>British Columbia</td>\n      <td>72</td>\n      <td>Male</td>\n      <td>95605.78</td>\n    </tr>\n    <tr>\n      <td>1</td>\n      <td>Canada</td>\n      <td>British Columbia</td>\n      <td>57</td>\n      <td>Female</td>\n      <td>95677.95</td>\n    </tr>\n    <tr>\n      <td>2</td>\n      <td>Canada</td>\n      <td>Nova Scotia</td>\n      <td>76</td>\n      <td>Male</td>\n      <td>97003.25</td>\n    </tr>\n    <tr>\n      <td>3</td>\n      <td>Canada</td>\n      <td>Nova Scotia</td>\n      <td>83</td>\n      <td>Female</td>\n      <td>101421.61</td>\n    </tr>\n    <tr>\n      <td>4</td>\n      <td>Canada</td>\n      <td>Quebec</td>\n      <td>66</td>\n      <td>Male</td>\n      <td>98259.64</td>\n    </tr>\n    <tr>\n      <td>5</td>\n      <td>Canada</td>\n      <td>Quebec</td>\n      <td>51</td>\n      <td>Female</td>\n      <td>95084.75</td>\n    </tr>\n    <tr>\n      <td>6</td>\n      <td>USA</td>\n      <td>Northeast</td>\n      <td>67</td>\n      <td>Male</td>\n      <td>95078.01</td>\n    </tr>\n    <tr>\n      <td>7</td>\n      <td>USA</td>\n      <td>Northeast</td>\n      <td>77</td>\n      <td>Female</td>\n      <td>99341.40</td>\n    </tr>\n    <tr>\n      <td>8</td>\n      <td>USA</td>\n      <td>Northwest</td>\n      <td>67</td>\n      <td>Female</td>\n      <td>97732.54</td>\n    </tr>\n    <tr>\n      <td>9</td>\n      <td>USA</td>\n      <td>Northwest</td>\n      <td>62</td>\n      <td>Male</td>\n      <td>96546.98</td>\n    </tr>\n    <tr>\n      <td>10</td>\n      <td>USA</td>\n      <td>Southeast</td>\n      <td>82</td>\n      <td>Male</td>\n      <td>94350.26</td>\n    </tr>\n    <tr>\n      <td>11</td>\n      <td>USA</td>\n      <td>Southeast</td>\n      <td>72</td>\n      <td>Female</td>\n      <td>93156.57</td>\n    </tr>\n    <tr>\n      <td>12</td>\n      <td>USA</td>\n      <td>Southwest</td>\n      <td>89</td>\n      <td>Female</td>\n      <td>98939.35</td>\n    </tr>\n    <tr>\n      <td>13</td>\n      <td>USA</td>\n      <td>Southwest</td>\n      <td>79</td>\n      <td>Male</td>\n      <td>102103.30</td>\n    </tr>\n  </tbody>\n</table>\n</div>",
      "text/plain": "   country   company_regions  count  gender avg_salary\n0   Canada  British Columbia     72    Male   95605.78\n1   Canada  British Columbia     57  Female   95677.95\n2   Canada       Nova Scotia     76    Male   97003.25\n3   Canada       Nova Scotia     83  Female  101421.61\n4   Canada            Quebec     66    Male   98259.64\n5   Canada            Quebec     51  Female   95084.75\n6      USA         Northeast     67    Male   95078.01\n7      USA         Northeast     77  Female   99341.40\n8      USA         Northwest     67  Female   97732.54\n9      USA         Northwest     62    Male   96546.98\n10     USA         Southeast     82    Male   94350.26\n11     USA         Southeast     72  Female   93156.57\n12     USA         Southwest     89  Female   98939.35\n13     USA         Southwest     79    Male  102103.30"
     },
     "execution_count": 36,
     "metadata": {},
     "output_type": "execute_result"
    }
   ],
   "source": [
    "#count of employee genders per company_regions\n",
    "cmd = \"\"\"SELECT country, company_regions, COUNT(*), gender, ROUND(AVG(salary),2) avg_salary\n",
    "         FROM staff_div_reg\n",
    "         GROUP BY country, company_regions, gender\n",
    "         ORDER BY country, company_regions\n",
    "      \"\"\"\n",
    "cur.execute(cmd)\n",
    "cols = [x[0] for x in cur.description]\n",
    "pd.DataFrame(cur.fetchall(), columns=cols)"
   ]
  },
  {
   "cell_type": "markdown",
   "metadata": {},
   "source": [
    "# Grouping & Totaling"
   ]
  },
  {
   "cell_type": "markdown",
   "metadata": {},
   "source": [
    "## GROUPING SETS\n",
    "This will allows us to get breakdown per any group we want.   \n",
    "Gender Equality Breakdown: (⌐■_■)"
   ]
  },
  {
   "cell_type": "code",
   "execution_count": 37,
   "metadata": {},
   "outputs": [
    {
     "data": {
      "text/html": "<div>\n<style scoped>\n    .dataframe tbody tr th:only-of-type {\n        vertical-align: middle;\n    }\n\n    .dataframe tbody tr th {\n        vertical-align: top;\n    }\n\n    .dataframe thead th {\n        text-align: right;\n    }\n</style>\n<table border=\"1\" class=\"dataframe\">\n  <thead>\n    <tr style=\"text-align: right;\">\n      <th></th>\n      <th>country</th>\n      <th>company_division</th>\n      <th>company_regions</th>\n      <th>gender</th>\n      <th>count</th>\n      <th>avg_salary</th>\n    </tr>\n  </thead>\n  <tbody>\n    <tr>\n      <td>0</td>\n      <td>Canada</td>\n      <td>None</td>\n      <td>None</td>\n      <td>Female</td>\n      <td>191</td>\n      <td>98015.49</td>\n    </tr>\n    <tr>\n      <td>1</td>\n      <td>Canada</td>\n      <td>None</td>\n      <td>None</td>\n      <td>Male</td>\n      <td>214</td>\n      <td>96920.56</td>\n    </tr>\n    <tr>\n      <td>2</td>\n      <td>USA</td>\n      <td>None</td>\n      <td>None</td>\n      <td>Female</td>\n      <td>305</td>\n      <td>97410.63</td>\n    </tr>\n    <tr>\n      <td>3</td>\n      <td>USA</td>\n      <td>None</td>\n      <td>None</td>\n      <td>Male</td>\n      <td>290</td>\n      <td>97100.08</td>\n    </tr>\n    <tr>\n      <td>4</td>\n      <td>None</td>\n      <td>None</td>\n      <td>British Columbia</td>\n      <td>Female</td>\n      <td>57</td>\n      <td>95677.95</td>\n    </tr>\n    <tr>\n      <td>5</td>\n      <td>None</td>\n      <td>None</td>\n      <td>British Columbia</td>\n      <td>Male</td>\n      <td>72</td>\n      <td>95605.78</td>\n    </tr>\n    <tr>\n      <td>6</td>\n      <td>None</td>\n      <td>None</td>\n      <td>Northeast</td>\n      <td>Female</td>\n      <td>77</td>\n      <td>99341.40</td>\n    </tr>\n    <tr>\n      <td>7</td>\n      <td>None</td>\n      <td>None</td>\n      <td>Northeast</td>\n      <td>Male</td>\n      <td>67</td>\n      <td>95078.01</td>\n    </tr>\n    <tr>\n      <td>8</td>\n      <td>None</td>\n      <td>None</td>\n      <td>Northwest</td>\n      <td>Female</td>\n      <td>67</td>\n      <td>97732.54</td>\n    </tr>\n    <tr>\n      <td>9</td>\n      <td>None</td>\n      <td>None</td>\n      <td>Northwest</td>\n      <td>Male</td>\n      <td>62</td>\n      <td>96546.98</td>\n    </tr>\n    <tr>\n      <td>10</td>\n      <td>None</td>\n      <td>None</td>\n      <td>Nova Scotia</td>\n      <td>Female</td>\n      <td>83</td>\n      <td>101421.61</td>\n    </tr>\n    <tr>\n      <td>11</td>\n      <td>None</td>\n      <td>None</td>\n      <td>Nova Scotia</td>\n      <td>Male</td>\n      <td>76</td>\n      <td>97003.25</td>\n    </tr>\n    <tr>\n      <td>12</td>\n      <td>None</td>\n      <td>None</td>\n      <td>Quebec</td>\n      <td>Female</td>\n      <td>51</td>\n      <td>95084.75</td>\n    </tr>\n    <tr>\n      <td>13</td>\n      <td>None</td>\n      <td>None</td>\n      <td>Quebec</td>\n      <td>Male</td>\n      <td>66</td>\n      <td>98259.64</td>\n    </tr>\n    <tr>\n      <td>14</td>\n      <td>None</td>\n      <td>None</td>\n      <td>Southeast</td>\n      <td>Female</td>\n      <td>72</td>\n      <td>93156.57</td>\n    </tr>\n    <tr>\n      <td>15</td>\n      <td>None</td>\n      <td>None</td>\n      <td>Southeast</td>\n      <td>Male</td>\n      <td>82</td>\n      <td>94350.26</td>\n    </tr>\n    <tr>\n      <td>16</td>\n      <td>None</td>\n      <td>None</td>\n      <td>Southwest</td>\n      <td>Female</td>\n      <td>89</td>\n      <td>98939.35</td>\n    </tr>\n    <tr>\n      <td>17</td>\n      <td>None</td>\n      <td>None</td>\n      <td>Southwest</td>\n      <td>Male</td>\n      <td>79</td>\n      <td>102103.30</td>\n    </tr>\n    <tr>\n      <td>18</td>\n      <td>None</td>\n      <td>Auto &amp; Hardware</td>\n      <td>None</td>\n      <td>Female</td>\n      <td>59</td>\n      <td>99611.46</td>\n    </tr>\n    <tr>\n      <td>19</td>\n      <td>None</td>\n      <td>Auto &amp; Hardware</td>\n      <td>None</td>\n      <td>Male</td>\n      <td>73</td>\n      <td>98210.14</td>\n    </tr>\n    <tr>\n      <td>20</td>\n      <td>None</td>\n      <td>Domestic</td>\n      <td>None</td>\n      <td>Female</td>\n      <td>221</td>\n      <td>98206.00</td>\n    </tr>\n    <tr>\n      <td>21</td>\n      <td>None</td>\n      <td>Domestic</td>\n      <td>None</td>\n      <td>Male</td>\n      <td>204</td>\n      <td>96381.99</td>\n    </tr>\n    <tr>\n      <td>22</td>\n      <td>None</td>\n      <td>Electronic Equipment</td>\n      <td>None</td>\n      <td>Female</td>\n      <td>49</td>\n      <td>94066.06</td>\n    </tr>\n    <tr>\n      <td>23</td>\n      <td>None</td>\n      <td>Electronic Equipment</td>\n      <td>None</td>\n      <td>Male</td>\n      <td>52</td>\n      <td>96785.90</td>\n    </tr>\n    <tr>\n      <td>24</td>\n      <td>None</td>\n      <td>Entertainment</td>\n      <td>None</td>\n      <td>Female</td>\n      <td>33</td>\n      <td>93534.15</td>\n    </tr>\n    <tr>\n      <td>25</td>\n      <td>None</td>\n      <td>Entertainment</td>\n      <td>None</td>\n      <td>Male</td>\n      <td>40</td>\n      <td>95524.13</td>\n    </tr>\n    <tr>\n      <td>26</td>\n      <td>None</td>\n      <td>Fashion</td>\n      <td>None</td>\n      <td>Female</td>\n      <td>20</td>\n      <td>86788.50</td>\n    </tr>\n    <tr>\n      <td>27</td>\n      <td>None</td>\n      <td>Fashion</td>\n      <td>None</td>\n      <td>Male</td>\n      <td>26</td>\n      <td>88599.69</td>\n    </tr>\n    <tr>\n      <td>28</td>\n      <td>None</td>\n      <td>Games &amp; Sports</td>\n      <td>None</td>\n      <td>Female</td>\n      <td>39</td>\n      <td>93591.62</td>\n    </tr>\n    <tr>\n      <td>29</td>\n      <td>None</td>\n      <td>Games &amp; Sports</td>\n      <td>None</td>\n      <td>Male</td>\n      <td>42</td>\n      <td>96420.05</td>\n    </tr>\n    <tr>\n      <td>30</td>\n      <td>None</td>\n      <td>Outdoors &amp; Garden</td>\n      <td>None</td>\n      <td>Female</td>\n      <td>51</td>\n      <td>106586.27</td>\n    </tr>\n    <tr>\n      <td>31</td>\n      <td>None</td>\n      <td>Outdoors &amp; Garden</td>\n      <td>None</td>\n      <td>Male</td>\n      <td>44</td>\n      <td>107610.11</td>\n    </tr>\n    <tr>\n      <td>32</td>\n      <td>None</td>\n      <td>None</td>\n      <td>None</td>\n      <td>Female</td>\n      <td>24</td>\n      <td>97208.04</td>\n    </tr>\n    <tr>\n      <td>33</td>\n      <td>None</td>\n      <td>None</td>\n      <td>None</td>\n      <td>Male</td>\n      <td>23</td>\n      <td>92471.48</td>\n    </tr>\n  </tbody>\n</table>\n</div>",
      "text/plain": "   country      company_division   company_regions  gender  count avg_salary\n0   Canada                  None              None  Female    191   98015.49\n1   Canada                  None              None    Male    214   96920.56\n2      USA                  None              None  Female    305   97410.63\n3      USA                  None              None    Male    290   97100.08\n4     None                  None  British Columbia  Female     57   95677.95\n5     None                  None  British Columbia    Male     72   95605.78\n6     None                  None         Northeast  Female     77   99341.40\n7     None                  None         Northeast    Male     67   95078.01\n8     None                  None         Northwest  Female     67   97732.54\n9     None                  None         Northwest    Male     62   96546.98\n10    None                  None       Nova Scotia  Female     83  101421.61\n11    None                  None       Nova Scotia    Male     76   97003.25\n12    None                  None            Quebec  Female     51   95084.75\n13    None                  None            Quebec    Male     66   98259.64\n14    None                  None         Southeast  Female     72   93156.57\n15    None                  None         Southeast    Male     82   94350.26\n16    None                  None         Southwest  Female     89   98939.35\n17    None                  None         Southwest    Male     79  102103.30\n18    None       Auto & Hardware              None  Female     59   99611.46\n19    None       Auto & Hardware              None    Male     73   98210.14\n20    None              Domestic              None  Female    221   98206.00\n21    None              Domestic              None    Male    204   96381.99\n22    None  Electronic Equipment              None  Female     49   94066.06\n23    None  Electronic Equipment              None    Male     52   96785.90\n24    None         Entertainment              None  Female     33   93534.15\n25    None         Entertainment              None    Male     40   95524.13\n26    None               Fashion              None  Female     20   86788.50\n27    None               Fashion              None    Male     26   88599.69\n28    None        Games & Sports              None  Female     39   93591.62\n29    None        Games & Sports              None    Male     42   96420.05\n30    None     Outdoors & Garden              None  Female     51  106586.27\n31    None     Outdoors & Garden              None    Male     44  107610.11\n32    None                  None              None  Female     24   97208.04\n33    None                  None              None    Male     23   92471.48"
     },
     "execution_count": 37,
     "metadata": {},
     "output_type": "execute_result"
    }
   ],
   "source": [
    "cmd = \"\"\"SELECT\n",
    "         country, company_division, company_regions, gender, COUNT(*), ROUND(AVG(salary),2) avg_salary\n",
    "         FROM staff_div_reg\n",
    "         GROUP BY gender, GROUPING SETS (country, company_division, company_regions)\n",
    "         ORDER BY country, company_regions, company_division, gender;\n",
    "   \"\"\"\n",
    "cur.execute(cmd)\n",
    "cols = [x[0] for x in cur.description]\n",
    "pd.DataFrame(cur.fetchall(), columns=cols)\n",
    "#the last two rows with nulls are because the books department didn't have any division named, hence the nulls. nvm¯\\_(ツ)_/¯."
   ]
  },
  {
   "cell_type": "markdown",
   "metadata": {},
   "source": [
    "## ROLLUP: Aggregates in Hierarchy"
   ]
  },
  {
   "cell_type": "code",
   "execution_count": 38,
   "metadata": {},
   "outputs": [
    {
     "data": {
      "text/html": "<div>\n<style scoped>\n    .dataframe tbody tr th:only-of-type {\n        vertical-align: middle;\n    }\n\n    .dataframe tbody tr th {\n        vertical-align: top;\n    }\n\n    .dataframe thead th {\n        text-align: right;\n    }\n</style>\n<table border=\"1\" class=\"dataframe\">\n  <thead>\n    <tr style=\"text-align: right;\">\n      <th></th>\n      <th>country</th>\n      <th>company_regions</th>\n      <th>count</th>\n    </tr>\n  </thead>\n  <tbody>\n    <tr>\n      <td>0</td>\n      <td>Canada</td>\n      <td>British Columbia</td>\n      <td>129</td>\n    </tr>\n    <tr>\n      <td>1</td>\n      <td>Canada</td>\n      <td>Nova Scotia</td>\n      <td>159</td>\n    </tr>\n    <tr>\n      <td>2</td>\n      <td>Canada</td>\n      <td>Quebec</td>\n      <td>117</td>\n    </tr>\n    <tr>\n      <td>3</td>\n      <td>USA</td>\n      <td>Northeast</td>\n      <td>144</td>\n    </tr>\n    <tr>\n      <td>4</td>\n      <td>USA</td>\n      <td>Northwest</td>\n      <td>129</td>\n    </tr>\n    <tr>\n      <td>5</td>\n      <td>USA</td>\n      <td>Southeast</td>\n      <td>154</td>\n    </tr>\n    <tr>\n      <td>6</td>\n      <td>USA</td>\n      <td>Southwest</td>\n      <td>168</td>\n    </tr>\n  </tbody>\n</table>\n</div>",
      "text/plain": "  country   company_regions  count\n0  Canada  British Columbia    129\n1  Canada       Nova Scotia    159\n2  Canada            Quebec    117\n3     USA         Northeast    144\n4     USA         Northwest    129\n5     USA         Southeast    154\n6     USA         Southwest    168"
     },
     "execution_count": 38,
     "metadata": {},
     "output_type": "execute_result"
    }
   ],
   "source": [
    "#compare this normal group by to the ones below\n",
    "cmd = \"\"\"SELECT country,company_regions, count(*)\n",
    "         FROM staff_div_reg\n",
    "         GROUP BY country, company_regions\n",
    "         ORDER BY country, company_regions\n",
    "      \"\"\"\n",
    "cur.execute(cmd)\n",
    "cols = [x[0] for x in cur.description]\n",
    "pd.DataFrame(cur.fetchall(), columns=cols)"
   ]
  },
  {
   "cell_type": "code",
   "execution_count": 39,
   "metadata": {},
   "outputs": [
    {
     "data": {
      "text/html": "<div>\n<style scoped>\n    .dataframe tbody tr th:only-of-type {\n        vertical-align: middle;\n    }\n\n    .dataframe tbody tr th {\n        vertical-align: top;\n    }\n\n    .dataframe thead th {\n        text-align: right;\n    }\n</style>\n<table border=\"1\" class=\"dataframe\">\n  <thead>\n    <tr style=\"text-align: right;\">\n      <th></th>\n      <th>country</th>\n      <th>company_regions</th>\n      <th>count</th>\n    </tr>\n  </thead>\n  <tbody>\n    <tr>\n      <td>0</td>\n      <td>Canada</td>\n      <td>British Columbia</td>\n      <td>129</td>\n    </tr>\n    <tr>\n      <td>1</td>\n      <td>Canada</td>\n      <td>Nova Scotia</td>\n      <td>159</td>\n    </tr>\n    <tr>\n      <td>2</td>\n      <td>Canada</td>\n      <td>Quebec</td>\n      <td>117</td>\n    </tr>\n    <tr>\n      <td>3</td>\n      <td>Canada</td>\n      <td>None</td>\n      <td>405</td>\n    </tr>\n    <tr>\n      <td>4</td>\n      <td>USA</td>\n      <td>Northeast</td>\n      <td>144</td>\n    </tr>\n    <tr>\n      <td>5</td>\n      <td>USA</td>\n      <td>Northwest</td>\n      <td>129</td>\n    </tr>\n    <tr>\n      <td>6</td>\n      <td>USA</td>\n      <td>Southeast</td>\n      <td>154</td>\n    </tr>\n    <tr>\n      <td>7</td>\n      <td>USA</td>\n      <td>Southwest</td>\n      <td>168</td>\n    </tr>\n    <tr>\n      <td>8</td>\n      <td>USA</td>\n      <td>None</td>\n      <td>595</td>\n    </tr>\n    <tr>\n      <td>9</td>\n      <td>None</td>\n      <td>None</td>\n      <td>1000</td>\n    </tr>\n  </tbody>\n</table>\n</div>",
      "text/plain": "  country   company_regions  count\n0  Canada  British Columbia    129\n1  Canada       Nova Scotia    159\n2  Canada            Quebec    117\n3  Canada              None    405\n4     USA         Northeast    144\n5     USA         Northwest    129\n6     USA         Southeast    154\n7     USA         Southwest    168\n8     USA              None    595\n9    None              None   1000"
     },
     "execution_count": 39,
     "metadata": {},
     "output_type": "execute_result"
    }
   ],
   "source": [
    "cmd = \"\"\"SELECT country, company_regions, count(*)\n",
    "         FROM staff_div_reg\n",
    "         GROUP BY ROLLUP(country, company_regions)\n",
    "         ORDER BY country, company_regions\n",
    "      \"\"\"\n",
    "cur.execute(cmd)\n",
    "cols = [x[0] for x in cur.description]\n",
    "pd.DataFrame(cur.fetchall(), columns=cols)\n",
    "\n",
    "#So in the following table we have the total of all canada regions, all USA regions, and also USA + Canada: So Hierarchical!"
   ]
  },
  {
   "cell_type": "markdown",
   "metadata": {},
   "source": [
    "## CUBE: All groupings and totals"
   ]
  },
  {
   "cell_type": "code",
   "execution_count": 40,
   "metadata": {},
   "outputs": [
    {
     "data": {
      "text/html": "<div>\n<style scoped>\n    .dataframe tbody tr th:only-of-type {\n        vertical-align: middle;\n    }\n\n    .dataframe tbody tr th {\n        vertical-align: top;\n    }\n\n    .dataframe thead th {\n        text-align: right;\n    }\n</style>\n<table border=\"1\" class=\"dataframe\">\n  <thead>\n    <tr style=\"text-align: right;\">\n      <th></th>\n      <th>country</th>\n      <th>company_regions</th>\n      <th>round</th>\n    </tr>\n  </thead>\n  <tbody>\n    <tr>\n      <td>0</td>\n      <td>Canada</td>\n      <td>British Columbia</td>\n      <td>95637.67</td>\n    </tr>\n    <tr>\n      <td>1</td>\n      <td>Canada</td>\n      <td>Nova Scotia</td>\n      <td>99309.69</td>\n    </tr>\n    <tr>\n      <td>2</td>\n      <td>Canada</td>\n      <td>Quebec</td>\n      <td>96875.71</td>\n    </tr>\n    <tr>\n      <td>3</td>\n      <td>Canada</td>\n      <td>None</td>\n      <td>97436.93</td>\n    </tr>\n    <tr>\n      <td>4</td>\n      <td>USA</td>\n      <td>Northeast</td>\n      <td>97357.74</td>\n    </tr>\n    <tr>\n      <td>5</td>\n      <td>USA</td>\n      <td>Northwest</td>\n      <td>97162.74</td>\n    </tr>\n    <tr>\n      <td>6</td>\n      <td>USA</td>\n      <td>Southeast</td>\n      <td>93792.17</td>\n    </tr>\n    <tr>\n      <td>7</td>\n      <td>USA</td>\n      <td>Southwest</td>\n      <td>100427.16</td>\n    </tr>\n    <tr>\n      <td>8</td>\n      <td>USA</td>\n      <td>None</td>\n      <td>97259.27</td>\n    </tr>\n    <tr>\n      <td>9</td>\n      <td>None</td>\n      <td>None</td>\n      <td>97331.22</td>\n    </tr>\n    <tr>\n      <td>10</td>\n      <td>None</td>\n      <td>British Columbia</td>\n      <td>95637.67</td>\n    </tr>\n    <tr>\n      <td>11</td>\n      <td>None</td>\n      <td>Nova Scotia</td>\n      <td>99309.69</td>\n    </tr>\n    <tr>\n      <td>12</td>\n      <td>None</td>\n      <td>Southeast</td>\n      <td>93792.17</td>\n    </tr>\n    <tr>\n      <td>13</td>\n      <td>None</td>\n      <td>Quebec</td>\n      <td>96875.71</td>\n    </tr>\n    <tr>\n      <td>14</td>\n      <td>None</td>\n      <td>Northwest</td>\n      <td>97162.74</td>\n    </tr>\n    <tr>\n      <td>15</td>\n      <td>None</td>\n      <td>Northeast</td>\n      <td>97357.74</td>\n    </tr>\n    <tr>\n      <td>16</td>\n      <td>None</td>\n      <td>Southwest</td>\n      <td>100427.16</td>\n    </tr>\n  </tbody>\n</table>\n</div>",
      "text/plain": "   country   company_regions      round\n0   Canada  British Columbia   95637.67\n1   Canada       Nova Scotia   99309.69\n2   Canada            Quebec   96875.71\n3   Canada              None   97436.93\n4      USA         Northeast   97357.74\n5      USA         Northwest   97162.74\n6      USA         Southeast   93792.17\n7      USA         Southwest  100427.16\n8      USA              None   97259.27\n9     None              None   97331.22\n10    None  British Columbia   95637.67\n11    None       Nova Scotia   99309.69\n12    None         Southeast   93792.17\n13    None            Quebec   96875.71\n14    None         Northwest   97162.74\n15    None         Northeast   97357.74\n16    None         Southwest  100427.16"
     },
     "execution_count": 40,
     "metadata": {},
     "output_type": "execute_result"
    }
   ],
   "source": [
    "cmd = \"\"\"SELECT country, company_regions, ROUND(AVG(salary),2)\n",
    "         FROM staff_div_reg\n",
    "         GROUP BY CUBE(country, company_regions)\n",
    "      \"\"\"\n",
    "cur.execute(cmd)\n",
    "cols = [x[0] for x in cur.description]\n",
    "pd.DataFrame(cur.fetchall(), columns=cols)\n",
    "\n"
   ]
  },
  {
   "cell_type": "markdown",
   "metadata": {},
   "source": [
    "# Window Functions  \n",
    "Window functions allow us to make SQL statements about rows related to the current row during processing.\n"
   ]
  },
  {
   "cell_type": "markdown",
   "metadata": {},
   "source": [
    "## OVER (PARTITION BY . . . )\n",
    "Helps us to get the same aggregate or result instead of using a new subquery"
   ]
  },
  {
   "cell_type": "code",
   "execution_count": 41,
   "metadata": {},
   "outputs": [
    {
     "data": {
      "text/html": "<div>\n<style scoped>\n    .dataframe tbody tr th:only-of-type {\n        vertical-align: middle;\n    }\n\n    .dataframe tbody tr th {\n        vertical-align: top;\n    }\n\n    .dataframe thead th {\n        text-align: right;\n    }\n</style>\n<table border=\"1\" class=\"dataframe\">\n  <thead>\n    <tr style=\"text-align: right;\">\n      <th></th>\n      <th>department</th>\n      <th>last_name</th>\n      <th>salary</th>\n      <th>round</th>\n    </tr>\n  </thead>\n  <tbody>\n    <tr>\n      <td>0</td>\n      <td>Automotive</td>\n      <td>Reed</td>\n      <td>126001</td>\n      <td>99658.00</td>\n    </tr>\n    <tr>\n      <td>1</td>\n      <td>Automotive</td>\n      <td>Ortiz</td>\n      <td>91296</td>\n      <td>99658.00</td>\n    </tr>\n    <tr>\n      <td>2</td>\n      <td>Automotive</td>\n      <td>Mcdonald</td>\n      <td>111041</td>\n      <td>99658.00</td>\n    </tr>\n    <tr>\n      <td>3</td>\n      <td>Automotive</td>\n      <td>Torres</td>\n      <td>120875</td>\n      <td>99658.00</td>\n    </tr>\n    <tr>\n      <td>4</td>\n      <td>Automotive</td>\n      <td>Peterson</td>\n      <td>53964</td>\n      <td>99658.00</td>\n    </tr>\n    <tr>\n      <td>...</td>\n      <td>...</td>\n      <td>...</td>\n      <td>...</td>\n      <td>...</td>\n    </tr>\n    <tr>\n      <td>995</td>\n      <td>Toys</td>\n      <td>Larson</td>\n      <td>144991</td>\n      <td>96187.17</td>\n    </tr>\n    <tr>\n      <td>996</td>\n      <td>Toys</td>\n      <td>Wagner</td>\n      <td>142516</td>\n      <td>96187.17</td>\n    </tr>\n    <tr>\n      <td>997</td>\n      <td>Toys</td>\n      <td>Nichols</td>\n      <td>43537</td>\n      <td>96187.17</td>\n    </tr>\n    <tr>\n      <td>998</td>\n      <td>Toys</td>\n      <td>Alexander</td>\n      <td>140078</td>\n      <td>96187.17</td>\n    </tr>\n    <tr>\n      <td>999</td>\n      <td>Toys</td>\n      <td>Riley</td>\n      <td>61992</td>\n      <td>96187.17</td>\n    </tr>\n  </tbody>\n</table>\n<p>1000 rows × 4 columns</p>\n</div>",
      "text/plain": "     department  last_name  salary     round\n0    Automotive       Reed  126001  99658.00\n1    Automotive      Ortiz   91296  99658.00\n2    Automotive   Mcdonald  111041  99658.00\n3    Automotive     Torres  120875  99658.00\n4    Automotive   Peterson   53964  99658.00\n..          ...        ...     ...       ...\n995        Toys     Larson  144991  96187.17\n996        Toys     Wagner  142516  96187.17\n997        Toys    Nichols   43537  96187.17\n998        Toys  Alexander  140078  96187.17\n999        Toys      Riley   61992  96187.17\n\n[1000 rows x 4 columns]"
     },
     "execution_count": 41,
     "metadata": {},
     "output_type": "execute_result"
    }
   ],
   "source": [
    "#compare this one to below:\n",
    "cmd = \"\"\"SELECT s1.department, s1.last_name, s1.salary,\n",
    "         (SELECT ROUND(AVG(salary),2) \n",
    "         FROM staff s2 \n",
    "         WHERE s1.department = s2.department)\n",
    "         FROM staff s1\n",
    "         ORDER BY department\"\"\"\n",
    "cur.execute(cmd)\n",
    "cols = [x[0] for x in cur.description]\n",
    "pd.DataFrame(cur.fetchall(), columns=cols)"
   ]
  },
  {
   "cell_type": "code",
   "execution_count": 42,
   "metadata": {},
   "outputs": [
    {
     "data": {
      "text/plain": "[('Sort  (cost=26701.33..26703.83 rows=1000 width=50) (actual time=112.594..112.623 rows=1000 loops=1)',),\n ('  Sort Key: s1.department',),\n ('  Sort Method: quicksort  Memory: 103kB',),\n ('  ->  Seq Scan on staff s1  (cost=0.00..26651.50 rows=1000 width=50) (actual time=0.511..111.678 rows=1000 loops=1)',),\n ('        SubPlan 1',),\n ('          ->  Aggregate  (cost=26.62..26.63 rows=1 width=32) (actual time=0.111..0.111 rows=1 loops=1000)',),\n ('                ->  Seq Scan on staff s2  (cost=0.00..26.50 rows=45 width=4) (actual time=0.003..0.100 rows=46 loops=1000)',),\n ('                      Filter: ((s1.department)::text = (department)::text)',),\n ('                      Rows Removed by Filter: 954',),\n ('Planning Time: 0.313 ms',),\n ('Execution Time: 112.734 ms',)]"
     },
     "execution_count": 42,
     "metadata": {},
     "output_type": "execute_result"
    }
   ],
   "source": [
    "cmd = \"\"\"EXPLAIN ANALYZE SELECT s1.department, s1.last_name, s1.salary,\n",
    "         (SELECT ROUND(AVG(salary),2) \n",
    "         FROM staff s2 \n",
    "         WHERE s1.department = s2.department)\n",
    "         FROM staff s1\n",
    "         ORDER BY department\"\"\"\n",
    "cur.execute(cmd)\n",
    "cols = [x[0] for x in cur.description]\n",
    "cur.fetchall()"
   ]
  },
  {
   "cell_type": "code",
   "execution_count": 43,
   "metadata": {},
   "outputs": [
    {
     "data": {
      "text/html": "<div>\n<style scoped>\n    .dataframe tbody tr th:only-of-type {\n        vertical-align: middle;\n    }\n\n    .dataframe tbody tr th {\n        vertical-align: top;\n    }\n\n    .dataframe thead th {\n        text-align: right;\n    }\n</style>\n<table border=\"1\" class=\"dataframe\">\n  <thead>\n    <tr style=\"text-align: right;\">\n      <th></th>\n      <th>department</th>\n      <th>last_name</th>\n      <th>salary</th>\n      <th>average_department_salary</th>\n    </tr>\n  </thead>\n  <tbody>\n    <tr>\n      <td>0</td>\n      <td>Automotive</td>\n      <td>Reed</td>\n      <td>126001</td>\n      <td>99658.00</td>\n    </tr>\n    <tr>\n      <td>1</td>\n      <td>Automotive</td>\n      <td>Ortiz</td>\n      <td>91296</td>\n      <td>99658.00</td>\n    </tr>\n    <tr>\n      <td>2</td>\n      <td>Automotive</td>\n      <td>Mcdonald</td>\n      <td>111041</td>\n      <td>99658.00</td>\n    </tr>\n    <tr>\n      <td>3</td>\n      <td>Automotive</td>\n      <td>Torres</td>\n      <td>120875</td>\n      <td>99658.00</td>\n    </tr>\n    <tr>\n      <td>4</td>\n      <td>Automotive</td>\n      <td>Peterson</td>\n      <td>53964</td>\n      <td>99658.00</td>\n    </tr>\n    <tr>\n      <td>...</td>\n      <td>...</td>\n      <td>...</td>\n      <td>...</td>\n      <td>...</td>\n    </tr>\n    <tr>\n      <td>995</td>\n      <td>Toys</td>\n      <td>Larson</td>\n      <td>144991</td>\n      <td>96187.17</td>\n    </tr>\n    <tr>\n      <td>996</td>\n      <td>Toys</td>\n      <td>Wagner</td>\n      <td>142516</td>\n      <td>96187.17</td>\n    </tr>\n    <tr>\n      <td>997</td>\n      <td>Toys</td>\n      <td>Nichols</td>\n      <td>43537</td>\n      <td>96187.17</td>\n    </tr>\n    <tr>\n      <td>998</td>\n      <td>Toys</td>\n      <td>Alexander</td>\n      <td>140078</td>\n      <td>96187.17</td>\n    </tr>\n    <tr>\n      <td>999</td>\n      <td>Toys</td>\n      <td>Riley</td>\n      <td>61992</td>\n      <td>96187.17</td>\n    </tr>\n  </tbody>\n</table>\n<p>1000 rows × 4 columns</p>\n</div>",
      "text/plain": "     department  last_name  salary average_department_salary\n0    Automotive       Reed  126001                  99658.00\n1    Automotive      Ortiz   91296                  99658.00\n2    Automotive   Mcdonald  111041                  99658.00\n3    Automotive     Torres  120875                  99658.00\n4    Automotive   Peterson   53964                  99658.00\n..          ...        ...     ...                       ...\n995        Toys     Larson  144991                  96187.17\n996        Toys     Wagner  142516                  96187.17\n997        Toys    Nichols   43537                  96187.17\n998        Toys  Alexander  140078                  96187.17\n999        Toys      Riley   61992                  96187.17\n\n[1000 rows x 4 columns]"
     },
     "execution_count": 43,
     "metadata": {},
     "output_type": "execute_result"
    }
   ],
   "source": [
    "#much shorter, life saver\n",
    "cmd = \"\"\"SELECT department, last_name, salary, \n",
    "         ROUND(AVG(salary) OVER(PARTITION BY department),2)            average_department_salary\n",
    "         FROM staff\"\"\"\n",
    "cur.execute(cmd)\n",
    "cols = [x[0] for x in cur.description]\n",
    "pd.DataFrame(cur.fetchall(), columns=cols)"
   ]
  },
  {
   "cell_type": "code",
   "execution_count": 44,
   "metadata": {},
   "outputs": [
    {
     "data": {
      "text/plain": "[('WindowAgg  (cost=73.83..93.83 rows=1000 width=50) (actual time=2.197..3.389 rows=1000 loops=1)',),\n ('  ->  Sort  (cost=73.83..76.33 rows=1000 width=18) (actual time=2.136..2.216 rows=1000 loops=1)',),\n ('        Sort Key: department',),\n ('        Sort Method: quicksort  Memory: 96kB',),\n ('        ->  Seq Scan on staff  (cost=0.00..24.00 rows=1000 width=18) (actual time=0.021..0.290 rows=1000 loops=1)',),\n ('Planning Time: 0.087 ms',),\n ('Execution Time: 3.472 ms',)]"
     },
     "execution_count": 44,
     "metadata": {},
     "output_type": "execute_result"
    }
   ],
   "source": [
    "#less computational cost and shorter execution time\n",
    "cmd = \"\"\"EXPLAIN ANALYZE SELECT department, last_name, salary,\n",
    "         ROUND(AVG(salary) OVER(PARTITION BY department),2) average_department_salary\n",
    "         FROM staff\"\"\"\n",
    "cur.execute(cmd)\n",
    "cols = [x[0] for x in cur.description]\n",
    "cur.fetchall()"
   ]
  },
  {
   "cell_type": "markdown",
   "metadata": {},
   "source": [
    "## FIRST_VALUE()"
   ]
  },
  {
   "cell_type": "code",
   "execution_count": 45,
   "metadata": {},
   "outputs": [
    {
     "data": {
      "text/html": "<div>\n<style scoped>\n    .dataframe tbody tr th:only-of-type {\n        vertical-align: middle;\n    }\n\n    .dataframe tbody tr th {\n        vertical-align: top;\n    }\n\n    .dataframe thead th {\n        text-align: right;\n    }\n</style>\n<table border=\"1\" class=\"dataframe\">\n  <thead>\n    <tr style=\"text-align: right;\">\n      <th></th>\n      <th>department</th>\n      <th>last_name</th>\n      <th>salary</th>\n      <th>first_value</th>\n    </tr>\n  </thead>\n  <tbody>\n    <tr>\n      <td>0</td>\n      <td>Automotive</td>\n      <td>Sanchez</td>\n      <td>146167</td>\n      <td>146167</td>\n    </tr>\n    <tr>\n      <td>1</td>\n      <td>Automotive</td>\n      <td>Alexander</td>\n      <td>144724</td>\n      <td>146167</td>\n    </tr>\n    <tr>\n      <td>2</td>\n      <td>Automotive</td>\n      <td>George</td>\n      <td>141505</td>\n      <td>146167</td>\n    </tr>\n    <tr>\n      <td>3</td>\n      <td>Automotive</td>\n      <td>Edwards</td>\n      <td>140194</td>\n      <td>146167</td>\n    </tr>\n    <tr>\n      <td>4</td>\n      <td>Automotive</td>\n      <td>Gordon</td>\n      <td>136448</td>\n      <td>146167</td>\n    </tr>\n    <tr>\n      <td>...</td>\n      <td>...</td>\n      <td>...</td>\n      <td>...</td>\n      <td>...</td>\n    </tr>\n    <tr>\n      <td>995</td>\n      <td>Toys</td>\n      <td>Austin</td>\n      <td>50161</td>\n      <td>149835</td>\n    </tr>\n    <tr>\n      <td>996</td>\n      <td>Toys</td>\n      <td>Simpson</td>\n      <td>46444</td>\n      <td>149835</td>\n    </tr>\n    <tr>\n      <td>997</td>\n      <td>Toys</td>\n      <td>Nichols</td>\n      <td>43537</td>\n      <td>149835</td>\n    </tr>\n    <tr>\n      <td>998</td>\n      <td>Toys</td>\n      <td>Adams</td>\n      <td>41855</td>\n      <td>149835</td>\n    </tr>\n    <tr>\n      <td>999</td>\n      <td>Toys</td>\n      <td>Long</td>\n      <td>40138</td>\n      <td>149835</td>\n    </tr>\n  </tbody>\n</table>\n<p>1000 rows × 4 columns</p>\n</div>",
      "text/plain": "     department  last_name  salary  first_value\n0    Automotive    Sanchez  146167       146167\n1    Automotive  Alexander  144724       146167\n2    Automotive     George  141505       146167\n3    Automotive    Edwards  140194       146167\n4    Automotive     Gordon  136448       146167\n..          ...        ...     ...          ...\n995        Toys     Austin   50161       149835\n996        Toys    Simpson   46444       149835\n997        Toys    Nichols   43537       149835\n998        Toys      Adams   41855       149835\n999        Toys       Long   40138       149835\n\n[1000 rows x 4 columns]"
     },
     "execution_count": 45,
     "metadata": {},
     "output_type": "execute_result"
    }
   ],
   "source": [
    "# the following table will give us the comparison of each employee's salary vs the max salary of that department\n",
    "# this is again both computaionally and time wise more efficient\n",
    "cmd = \"\"\"SELECT department, last_name, salary, \n",
    "         FIRST_VALUE(salary) OVER (PARTITION BY department ORDER BY salary DESC)\n",
    "         FROM staff\"\"\"\n",
    "cur.execute(cmd)\n",
    "cols = [x[0] for x in cur.description]\n",
    "pd.DataFrame(cur.fetchall(), columns=cols)"
   ]
  },
  {
   "cell_type": "code",
   "execution_count": 46,
   "metadata": {},
   "outputs": [
    {
     "data": {
      "text/html": "<div>\n<style scoped>\n    .dataframe tbody tr th:only-of-type {\n        vertical-align: middle;\n    }\n\n    .dataframe tbody tr th {\n        vertical-align: top;\n    }\n\n    .dataframe thead th {\n        text-align: right;\n    }\n</style>\n<table border=\"1\" class=\"dataframe\">\n  <thead>\n    <tr style=\"text-align: right;\">\n      <th></th>\n      <th>department</th>\n      <th>last_name</th>\n      <th>salary</th>\n      <th>first_value</th>\n    </tr>\n  </thead>\n  <tbody>\n    <tr>\n      <td>0</td>\n      <td>Automotive</td>\n      <td>Adams</td>\n      <td>79045</td>\n      <td>79045</td>\n    </tr>\n    <tr>\n      <td>1</td>\n      <td>Automotive</td>\n      <td>Alexander</td>\n      <td>144724</td>\n      <td>79045</td>\n    </tr>\n    <tr>\n      <td>2</td>\n      <td>Automotive</td>\n      <td>Anderson</td>\n      <td>126485</td>\n      <td>79045</td>\n    </tr>\n    <tr>\n      <td>3</td>\n      <td>Automotive</td>\n      <td>Armstrong</td>\n      <td>89969</td>\n      <td>79045</td>\n    </tr>\n    <tr>\n      <td>4</td>\n      <td>Automotive</td>\n      <td>Boyd</td>\n      <td>69936</td>\n      <td>79045</td>\n    </tr>\n    <tr>\n      <td>...</td>\n      <td>...</td>\n      <td>...</td>\n      <td>...</td>\n      <td>...</td>\n    </tr>\n    <tr>\n      <td>995</td>\n      <td>Toys</td>\n      <td>Stewart</td>\n      <td>148144</td>\n      <td>41855</td>\n    </tr>\n    <tr>\n      <td>996</td>\n      <td>Toys</td>\n      <td>Wagner</td>\n      <td>142516</td>\n      <td>41855</td>\n    </tr>\n    <tr>\n      <td>997</td>\n      <td>Toys</td>\n      <td>Wallace</td>\n      <td>118793</td>\n      <td>41855</td>\n    </tr>\n    <tr>\n      <td>998</td>\n      <td>Toys</td>\n      <td>Watkins</td>\n      <td>104444</td>\n      <td>41855</td>\n    </tr>\n    <tr>\n      <td>999</td>\n      <td>Toys</td>\n      <td>Welch</td>\n      <td>87422</td>\n      <td>41855</td>\n    </tr>\n  </tbody>\n</table>\n<p>1000 rows × 4 columns</p>\n</div>",
      "text/plain": "     department  last_name  salary  first_value\n0    Automotive      Adams   79045        79045\n1    Automotive  Alexander  144724        79045\n2    Automotive   Anderson  126485        79045\n3    Automotive  Armstrong   89969        79045\n4    Automotive       Boyd   69936        79045\n..          ...        ...     ...          ...\n995        Toys    Stewart  148144        41855\n996        Toys     Wagner  142516        41855\n997        Toys    Wallace  118793        41855\n998        Toys    Watkins  104444        41855\n999        Toys      Welch   87422        41855\n\n[1000 rows x 4 columns]"
     },
     "execution_count": 46,
     "metadata": {},
     "output_type": "execute_result"
    }
   ],
   "source": [
    "# in this case the first value is the salary of the person with the first last_name in their department : Mr. Adams in Automotive, etc.\n",
    "cmd = \"\"\"SELECT department, last_name, salary, \n",
    "         FIRST_VALUE(salary) OVER (PARTITION BY department ORDER BY last_name)\n",
    "         FROM staff\"\"\"\n",
    "cur.execute(cmd)\n",
    "cols = [x[0] for x in cur.description]\n",
    "pd.DataFrame(cur.fetchall(), columns=cols)"
   ]
  },
  {
   "cell_type": "markdown",
   "metadata": {},
   "source": [
    "## RANK  \n",
    "It helps to get the ranking for the order by value in each partition.  \n",
    "Results are ordered both by the PARTITION BY AND ORDER BY values. "
   ]
  },
  {
   "cell_type": "code",
   "execution_count": 47,
   "metadata": {},
   "outputs": [
    {
     "data": {
      "text/html": "<div>\n<style scoped>\n    .dataframe tbody tr th:only-of-type {\n        vertical-align: middle;\n    }\n\n    .dataframe tbody tr th {\n        vertical-align: top;\n    }\n\n    .dataframe thead th {\n        text-align: right;\n    }\n</style>\n<table border=\"1\" class=\"dataframe\">\n  <thead>\n    <tr style=\"text-align: right;\">\n      <th></th>\n      <th>department</th>\n      <th>last_name</th>\n      <th>salary</th>\n      <th>rank</th>\n    </tr>\n  </thead>\n  <tbody>\n    <tr>\n      <td>0</td>\n      <td>Automotive</td>\n      <td>Sanchez</td>\n      <td>146167</td>\n      <td>1</td>\n    </tr>\n    <tr>\n      <td>1</td>\n      <td>Automotive</td>\n      <td>Alexander</td>\n      <td>144724</td>\n      <td>2</td>\n    </tr>\n    <tr>\n      <td>2</td>\n      <td>Automotive</td>\n      <td>George</td>\n      <td>141505</td>\n      <td>3</td>\n    </tr>\n    <tr>\n      <td>3</td>\n      <td>Automotive</td>\n      <td>Edwards</td>\n      <td>140194</td>\n      <td>4</td>\n    </tr>\n    <tr>\n      <td>4</td>\n      <td>Automotive</td>\n      <td>Gordon</td>\n      <td>136448</td>\n      <td>5</td>\n    </tr>\n    <tr>\n      <td>...</td>\n      <td>...</td>\n      <td>...</td>\n      <td>...</td>\n      <td>...</td>\n    </tr>\n    <tr>\n      <td>995</td>\n      <td>Toys</td>\n      <td>Austin</td>\n      <td>50161</td>\n      <td>37</td>\n    </tr>\n    <tr>\n      <td>996</td>\n      <td>Toys</td>\n      <td>Simpson</td>\n      <td>46444</td>\n      <td>38</td>\n    </tr>\n    <tr>\n      <td>997</td>\n      <td>Toys</td>\n      <td>Nichols</td>\n      <td>43537</td>\n      <td>39</td>\n    </tr>\n    <tr>\n      <td>998</td>\n      <td>Toys</td>\n      <td>Adams</td>\n      <td>41855</td>\n      <td>40</td>\n    </tr>\n    <tr>\n      <td>999</td>\n      <td>Toys</td>\n      <td>Long</td>\n      <td>40138</td>\n      <td>41</td>\n    </tr>\n  </tbody>\n</table>\n<p>1000 rows × 4 columns</p>\n</div>",
      "text/plain": "     department  last_name  salary  rank\n0    Automotive    Sanchez  146167     1\n1    Automotive  Alexander  144724     2\n2    Automotive     George  141505     3\n3    Automotive    Edwards  140194     4\n4    Automotive     Gordon  136448     5\n..          ...        ...     ...   ...\n995        Toys     Austin   50161    37\n996        Toys    Simpson   46444    38\n997        Toys    Nichols   43537    39\n998        Toys      Adams   41855    40\n999        Toys       Long   40138    41\n\n[1000 rows x 4 columns]"
     },
     "execution_count": 47,
     "metadata": {},
     "output_type": "execute_result"
    }
   ],
   "source": [
    "cmd = \"\"\"SELECT department, last_name, salary, \n",
    "         RANK() OVER (PARTITION BY department ORDER BY salary DESC)\n",
    "         FROM staff\n",
    "      \"\"\"\n",
    "cur.execute(cmd)\n",
    "cols = [x[0] for x in cur.description]\n",
    "pd.DataFrame(cur.fetchall(), columns=cols)"
   ]
  },
  {
   "cell_type": "markdown",
   "metadata": {},
   "source": [
    "## LAG\n",
    "\n",
    "Gives you the row before the processed row"
   ]
  },
  {
   "cell_type": "code",
   "execution_count": 48,
   "metadata": {},
   "outputs": [
    {
     "data": {
      "text/html": "<div>\n<style scoped>\n    .dataframe tbody tr th:only-of-type {\n        vertical-align: middle;\n    }\n\n    .dataframe tbody tr th {\n        vertical-align: top;\n    }\n\n    .dataframe thead th {\n        text-align: right;\n    }\n</style>\n<table border=\"1\" class=\"dataframe\">\n  <thead>\n    <tr style=\"text-align: right;\">\n      <th></th>\n      <th>department</th>\n      <th>last_name</th>\n      <th>salary</th>\n      <th>lag</th>\n    </tr>\n  </thead>\n  <tbody>\n    <tr>\n      <td>0</td>\n      <td>Automotive</td>\n      <td>Sanchez</td>\n      <td>146167</td>\n      <td>NaN</td>\n    </tr>\n    <tr>\n      <td>1</td>\n      <td>Automotive</td>\n      <td>Alexander</td>\n      <td>144724</td>\n      <td>146167.0</td>\n    </tr>\n    <tr>\n      <td>2</td>\n      <td>Automotive</td>\n      <td>George</td>\n      <td>141505</td>\n      <td>144724.0</td>\n    </tr>\n    <tr>\n      <td>3</td>\n      <td>Automotive</td>\n      <td>Edwards</td>\n      <td>140194</td>\n      <td>141505.0</td>\n    </tr>\n    <tr>\n      <td>4</td>\n      <td>Automotive</td>\n      <td>Gordon</td>\n      <td>136448</td>\n      <td>140194.0</td>\n    </tr>\n    <tr>\n      <td>...</td>\n      <td>...</td>\n      <td>...</td>\n      <td>...</td>\n      <td>...</td>\n    </tr>\n    <tr>\n      <td>995</td>\n      <td>Toys</td>\n      <td>Austin</td>\n      <td>50161</td>\n      <td>54007.0</td>\n    </tr>\n    <tr>\n      <td>996</td>\n      <td>Toys</td>\n      <td>Simpson</td>\n      <td>46444</td>\n      <td>50161.0</td>\n    </tr>\n    <tr>\n      <td>997</td>\n      <td>Toys</td>\n      <td>Nichols</td>\n      <td>43537</td>\n      <td>46444.0</td>\n    </tr>\n    <tr>\n      <td>998</td>\n      <td>Toys</td>\n      <td>Adams</td>\n      <td>41855</td>\n      <td>43537.0</td>\n    </tr>\n    <tr>\n      <td>999</td>\n      <td>Toys</td>\n      <td>Long</td>\n      <td>40138</td>\n      <td>41855.0</td>\n    </tr>\n  </tbody>\n</table>\n<p>1000 rows × 4 columns</p>\n</div>",
      "text/plain": "     department  last_name  salary       lag\n0    Automotive    Sanchez  146167       NaN\n1    Automotive  Alexander  144724  146167.0\n2    Automotive     George  141505  144724.0\n3    Automotive    Edwards  140194  141505.0\n4    Automotive     Gordon  136448  140194.0\n..          ...        ...     ...       ...\n995        Toys     Austin   50161   54007.0\n996        Toys    Simpson   46444   50161.0\n997        Toys    Nichols   43537   46444.0\n998        Toys      Adams   41855   43537.0\n999        Toys       Long   40138   41855.0\n\n[1000 rows x 4 columns]"
     },
     "execution_count": 48,
     "metadata": {},
     "output_type": "execute_result"
    }
   ],
   "source": [
    "cmd = \"\"\"SELECT department, last_name, salary, \n",
    "         LAG(salary) OVER (PARTITION BY department ORDER BY            salary DESC)\n",
    "         FROM staff\"\"\"\n",
    "cur.execute(cmd)\n",
    "cols = [x[0] for x in cur.description]\n",
    "pd.DataFrame(cur.fetchall(), columns=cols)"
   ]
  },
  {
   "cell_type": "markdown",
   "metadata": {},
   "source": [
    "## LEAD\n",
    "Opposite of LAG. Second row to the first, third to the second, ... ."
   ]
  },
  {
   "cell_type": "code",
   "execution_count": 49,
   "metadata": {},
   "outputs": [
    {
     "data": {
      "text/html": "<div>\n<style scoped>\n    .dataframe tbody tr th:only-of-type {\n        vertical-align: middle;\n    }\n\n    .dataframe tbody tr th {\n        vertical-align: top;\n    }\n\n    .dataframe thead th {\n        text-align: right;\n    }\n</style>\n<table border=\"1\" class=\"dataframe\">\n  <thead>\n    <tr style=\"text-align: right;\">\n      <th></th>\n      <th>department</th>\n      <th>last_name</th>\n      <th>salary</th>\n      <th>lead</th>\n    </tr>\n  </thead>\n  <tbody>\n    <tr>\n      <td>0</td>\n      <td>Automotive</td>\n      <td>Sanchez</td>\n      <td>146167</td>\n      <td>144724.0</td>\n    </tr>\n    <tr>\n      <td>1</td>\n      <td>Automotive</td>\n      <td>Alexander</td>\n      <td>144724</td>\n      <td>141505.0</td>\n    </tr>\n    <tr>\n      <td>2</td>\n      <td>Automotive</td>\n      <td>George</td>\n      <td>141505</td>\n      <td>140194.0</td>\n    </tr>\n    <tr>\n      <td>3</td>\n      <td>Automotive</td>\n      <td>Edwards</td>\n      <td>140194</td>\n      <td>136448.0</td>\n    </tr>\n    <tr>\n      <td>4</td>\n      <td>Automotive</td>\n      <td>Gordon</td>\n      <td>136448</td>\n      <td>135326.0</td>\n    </tr>\n    <tr>\n      <td>...</td>\n      <td>...</td>\n      <td>...</td>\n      <td>...</td>\n      <td>...</td>\n    </tr>\n    <tr>\n      <td>995</td>\n      <td>Toys</td>\n      <td>Austin</td>\n      <td>50161</td>\n      <td>46444.0</td>\n    </tr>\n    <tr>\n      <td>996</td>\n      <td>Toys</td>\n      <td>Simpson</td>\n      <td>46444</td>\n      <td>43537.0</td>\n    </tr>\n    <tr>\n      <td>997</td>\n      <td>Toys</td>\n      <td>Nichols</td>\n      <td>43537</td>\n      <td>41855.0</td>\n    </tr>\n    <tr>\n      <td>998</td>\n      <td>Toys</td>\n      <td>Adams</td>\n      <td>41855</td>\n      <td>40138.0</td>\n    </tr>\n    <tr>\n      <td>999</td>\n      <td>Toys</td>\n      <td>Long</td>\n      <td>40138</td>\n      <td>NaN</td>\n    </tr>\n  </tbody>\n</table>\n<p>1000 rows × 4 columns</p>\n</div>",
      "text/plain": "     department  last_name  salary      lead\n0    Automotive    Sanchez  146167  144724.0\n1    Automotive  Alexander  144724  141505.0\n2    Automotive     George  141505  140194.0\n3    Automotive    Edwards  140194  136448.0\n4    Automotive     Gordon  136448  135326.0\n..          ...        ...     ...       ...\n995        Toys     Austin   50161   46444.0\n996        Toys    Simpson   46444   43537.0\n997        Toys    Nichols   43537   41855.0\n998        Toys      Adams   41855   40138.0\n999        Toys       Long   40138       NaN\n\n[1000 rows x 4 columns]"
     },
     "execution_count": 49,
     "metadata": {},
     "output_type": "execute_result"
    }
   ],
   "source": [
    "cmd = \"\"\"SELECT department, last_name, salary, \n",
    "         LEAD(salary) OVER (PARTITION BY department ORDER BY          salary DESC)\n",
    "         FROM staff\"\"\"\n",
    "cur.execute(cmd)\n",
    "cols = [x[0] for x in cur.description]\n",
    "pd.DataFrame(cur.fetchall(), columns=cols)"
   ]
  },
  {
   "cell_type": "markdown",
   "metadata": {},
   "source": [
    "## NTILE\n",
    "Assigns buckets/bins to the values"
   ]
  },
  {
   "cell_type": "code",
   "execution_count": 50,
   "metadata": {},
   "outputs": [
    {
     "data": {
      "text/html": "<div>\n<style scoped>\n    .dataframe tbody tr th:only-of-type {\n        vertical-align: middle;\n    }\n\n    .dataframe tbody tr th {\n        vertical-align: top;\n    }\n\n    .dataframe thead th {\n        text-align: right;\n    }\n</style>\n<table border=\"1\" class=\"dataframe\">\n  <thead>\n    <tr style=\"text-align: right;\">\n      <th></th>\n      <th>department</th>\n      <th>last_name</th>\n      <th>salary</th>\n      <th>ntile</th>\n    </tr>\n  </thead>\n  <tbody>\n    <tr>\n      <td>0</td>\n      <td>Automotive</td>\n      <td>Sanchez</td>\n      <td>146167</td>\n      <td>1</td>\n    </tr>\n    <tr>\n      <td>1</td>\n      <td>Automotive</td>\n      <td>Alexander</td>\n      <td>144724</td>\n      <td>1</td>\n    </tr>\n    <tr>\n      <td>2</td>\n      <td>Automotive</td>\n      <td>George</td>\n      <td>141505</td>\n      <td>1</td>\n    </tr>\n    <tr>\n      <td>3</td>\n      <td>Automotive</td>\n      <td>Edwards</td>\n      <td>140194</td>\n      <td>1</td>\n    </tr>\n    <tr>\n      <td>4</td>\n      <td>Automotive</td>\n      <td>Gordon</td>\n      <td>136448</td>\n      <td>1</td>\n    </tr>\n    <tr>\n      <td>...</td>\n      <td>...</td>\n      <td>...</td>\n      <td>...</td>\n      <td>...</td>\n    </tr>\n    <tr>\n      <td>995</td>\n      <td>Toys</td>\n      <td>Austin</td>\n      <td>50161</td>\n      <td>4</td>\n    </tr>\n    <tr>\n      <td>996</td>\n      <td>Toys</td>\n      <td>Simpson</td>\n      <td>46444</td>\n      <td>4</td>\n    </tr>\n    <tr>\n      <td>997</td>\n      <td>Toys</td>\n      <td>Nichols</td>\n      <td>43537</td>\n      <td>4</td>\n    </tr>\n    <tr>\n      <td>998</td>\n      <td>Toys</td>\n      <td>Adams</td>\n      <td>41855</td>\n      <td>4</td>\n    </tr>\n    <tr>\n      <td>999</td>\n      <td>Toys</td>\n      <td>Long</td>\n      <td>40138</td>\n      <td>4</td>\n    </tr>\n  </tbody>\n</table>\n<p>1000 rows × 4 columns</p>\n</div>",
      "text/plain": "     department  last_name  salary  ntile\n0    Automotive    Sanchez  146167      1\n1    Automotive  Alexander  144724      1\n2    Automotive     George  141505      1\n3    Automotive    Edwards  140194      1\n4    Automotive     Gordon  136448      1\n..          ...        ...     ...    ...\n995        Toys     Austin   50161      4\n996        Toys    Simpson   46444      4\n997        Toys    Nichols   43537      4\n998        Toys      Adams   41855      4\n999        Toys       Long   40138      4\n\n[1000 rows x 4 columns]"
     },
     "execution_count": 50,
     "metadata": {},
     "output_type": "execute_result"
    }
   ],
   "source": [
    "cmd = \"\"\"SELECT department, last_name, salary, \n",
    "         NTILE(4) OVER (PARTITION BY department ORDER BY          salary DESC)\n",
    "         FROM staff\"\"\"\n",
    "cur.execute(cmd)\n",
    "cols = [x[0] for x in cur.description]\n",
    "pd.DataFrame(cur.fetchall(), columns=cols)"
   ]
  },
  {
   "cell_type": "code",
   "execution_count": 51,
   "metadata": {},
   "outputs": [],
   "source": [
    "cur.close()\n",
    "conn.close()\n"
   ]
  }
 ]
}