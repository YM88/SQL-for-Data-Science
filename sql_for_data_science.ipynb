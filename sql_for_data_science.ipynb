{
 "nbformat": 4,
 "nbformat_minor": 2,
 "metadata": {
  "language_info": {
   "name": "python",
   "codemirror_mode": {
    "name": "ipython",
    "version": 3
   },
   "version": "3.7.4-final"
  },
  "orig_nbformat": 2,
  "file_extension": ".py",
  "mimetype": "text/x-python",
  "name": "python",
  "npconvert_exporter": "python",
  "pygments_lexer": "ipython3",
  "version": 3,
  "kernelspec": {
   "name": "python3",
   "display_name": "Python 3"
  }
 },
 "cells": [
  {
   "cell_type": "markdown",
   "metadata": {},
   "source": [
    "# SQL for Data Science"
   ]
  },
  {
   "cell_type": "markdown",
   "metadata": {},
   "source": [
    "## Connection"
   ]
  },
  {
   "cell_type": "markdown",
   "metadata": {},
   "source": [
    "[PostgresSQL Tutorial](https://www.postgresqltutorial.com/postgresql-python/connect/)"
   ]
  },
  {
   "cell_type": "markdown",
   "metadata": {},
   "source": [
    "### Import libraries"
   ]
  },
  {
   "cell_type": "code",
   "execution_count": 18,
   "metadata": {},
   "outputs": [],
   "source": [
    "# !pip install psycopg2\n",
    "import psycopg2\n",
    "import pandas as pd"
   ]
  },
  {
   "cell_type": "markdown",
   "metadata": {},
   "source": [
    "### Create Connection & Cursor"
   ]
  },
  {
   "cell_type": "code",
   "execution_count": 61,
   "metadata": {},
   "outputs": [],
   "source": [
    "#change user and password to your settings ☜(ﾟヮﾟ☜)\n",
    "# port: the port number that defaults to 5432 if it is not provided.\n",
    "conn = psycopg2.connect(host=\"localhost\",database=\"data_sci\", user=\"postgres\", password=\"password\", port=5432)\n",
    "cur = conn.cursor()"
   ]
  },
  {
   "cell_type": "markdown",
   "metadata": {},
   "source": [
    "Code Template:\n",
    "```python\n",
    "cur = conn.cursor()\n",
    "command = \"\"\"SQL DDL/DML Command\"\"\"\n",
    "cur.execute(command)\n",
    "cur.fetchone()\n",
    "cur.fetchall()\n",
    "cur.close()\n",
    "con.commit()\n",
    "con.close()\n",
    "```"
   ]
  },
  {
   "cell_type": "markdown",
   "metadata": {},
   "source": [
    "## Executing Commands"
   ]
  },
  {
   "cell_type": "markdown",
   "metadata": {},
   "source": [
    "Version Check and Connection"
   ]
  },
  {
   "cell_type": "code",
   "execution_count": 20,
   "metadata": {},
   "outputs": [
    {
     "data": {
      "text/plain": "('PostgreSQL 12.2, compiled by Visual C++ build 1914, 64-bit',)"
     },
     "execution_count": 20,
     "metadata": {},
     "output_type": "execute_result"
    }
   ],
   "source": [
    "cur.execute(\"\"\"SELECT version()\n",
    "                \"\"\")\n",
    "cur.fetchone()"
   ]
  },
  {
   "cell_type": "markdown",
   "metadata": {},
   "source": [
    "To check whether the cursor or the connection is connected:"
   ]
  },
  {
   "cell_type": "code",
   "execution_count": 21,
   "metadata": {},
   "outputs": [
    {
     "data": {
      "text/plain": "False"
     },
     "execution_count": 21,
     "metadata": {},
     "output_type": "execute_result"
    }
   ],
   "source": [
    "conn is None and cur is None"
   ]
  },
  {
   "cell_type": "code",
   "execution_count": 22,
   "metadata": {},
   "outputs": [
    {
     "data": {
      "text/plain": "<cursor object at 0x00000202B38A32E8; closed: 0>"
     },
     "execution_count": 22,
     "metadata": {},
     "output_type": "execute_result"
    }
   ],
   "source": [
    "cur"
   ]
  },
  {
   "cell_type": "code",
   "execution_count": 23,
   "metadata": {},
   "outputs": [
    {
     "data": {
      "text/plain": "<connection object at 0x00000202B37D89D8; dsn: 'user=postgres password=xxx dbname=data_sci host=localhost port=5432', closed: 0>"
     },
     "execution_count": 23,
     "metadata": {},
     "output_type": "execute_result"
    }
   ],
   "source": [
    "conn"
   ]
  },
  {
   "cell_type": "markdown",
   "metadata": {},
   "source": [
    "## Show Tables using PostgreSQL\n",
    "\n",
    "If you are coming from MySQL, you may miss the SHOW TABLES statement that displays all tables in a specific database. PostgreSQL does not provide the SHOW TABLES statement directly but give you something similar ¯\\_(ツ)_/¯."
   ]
  },
  {
   "cell_type": "code",
   "execution_count": 29,
   "metadata": {},
   "outputs": [
    {
     "data": {
      "text/html": "<div>\n<style scoped>\n    .dataframe tbody tr th:only-of-type {\n        vertical-align: middle;\n    }\n\n    .dataframe tbody tr th {\n        vertical-align: top;\n    }\n\n    .dataframe thead th {\n        text-align: right;\n    }\n</style>\n<table border=\"1\" class=\"dataframe\">\n  <thead>\n    <tr style=\"text-align: right;\">\n      <th></th>\n      <th>schemaname</th>\n      <th>tablename</th>\n      <th>tableowner</th>\n      <th>tablespace</th>\n      <th>hasindexes</th>\n      <th>hasrules</th>\n      <th>hastriggers</th>\n      <th>rowsecurity</th>\n    </tr>\n  </thead>\n  <tbody>\n    <tr>\n      <td>0</td>\n      <td>public</td>\n      <td>company_divisions</td>\n      <td>postgres</td>\n      <td>None</td>\n      <td>True</td>\n      <td>False</td>\n      <td>False</td>\n      <td>False</td>\n    </tr>\n    <tr>\n      <td>1</td>\n      <td>public</td>\n      <td>company_regions</td>\n      <td>postgres</td>\n      <td>None</td>\n      <td>True</td>\n      <td>False</td>\n      <td>False</td>\n      <td>False</td>\n    </tr>\n    <tr>\n      <td>2</td>\n      <td>public</td>\n      <td>staff</td>\n      <td>postgres</td>\n      <td>None</td>\n      <td>True</td>\n      <td>False</td>\n      <td>False</td>\n      <td>False</td>\n    </tr>\n  </tbody>\n</table>\n</div>",
      "text/plain": "  schemaname          tablename tableowner tablespace  hasindexes  hasrules  \\\n0     public  company_divisions   postgres       None        True     False   \n1     public    company_regions   postgres       None        True     False   \n2     public              staff   postgres       None        True     False   \n\n   hastriggers  rowsecurity  \n0        False        False  \n1        False        False  \n2        False        False  "
     },
     "execution_count": 29,
     "metadata": {},
     "output_type": "execute_result"
    }
   ],
   "source": [
    "command = \"\"\"SELECT\n",
    "   *\n",
    "FROM\n",
    "   pg_catalog.pg_tables\n",
    "WHERE\n",
    "   schemaname != 'pg_catalog'\n",
    "AND schemaname != 'information_schema';\"\"\"\n",
    "cur.execute(command)\n",
    "cols = [x[0] for x in cur.description]\n",
    "pd.DataFrame(cur.fetchall(), columns=cols)"
   ]
  },
  {
   "cell_type": "markdown",
   "metadata": {},
   "source": [
    "## Checking the Tables"
   ]
  },
  {
   "cell_type": "code",
   "execution_count": 30,
   "metadata": {},
   "outputs": [
    {
     "data": {
      "text/html": "<div>\n<style scoped>\n    .dataframe tbody tr th:only-of-type {\n        vertical-align: middle;\n    }\n\n    .dataframe tbody tr th {\n        vertical-align: top;\n    }\n\n    .dataframe thead th {\n        text-align: right;\n    }\n</style>\n<table border=\"1\" class=\"dataframe\">\n  <thead>\n    <tr style=\"text-align: right;\">\n      <th></th>\n      <th>department</th>\n      <th>company_division</th>\n    </tr>\n  </thead>\n  <tbody>\n    <tr>\n      <td>0</td>\n      <td>Automotive</td>\n      <td>Auto &amp; Hardware</td>\n    </tr>\n    <tr>\n      <td>1</td>\n      <td>Baby</td>\n      <td>Domestic</td>\n    </tr>\n    <tr>\n      <td>2</td>\n      <td>Beauty</td>\n      <td>Domestic</td>\n    </tr>\n    <tr>\n      <td>3</td>\n      <td>Clothing</td>\n      <td>Domestic</td>\n    </tr>\n    <tr>\n      <td>4</td>\n      <td>Computers</td>\n      <td>Electronic Equipment</td>\n    </tr>\n    <tr>\n      <td>5</td>\n      <td>Electronics</td>\n      <td>Electronic Equipment</td>\n    </tr>\n    <tr>\n      <td>6</td>\n      <td>Games</td>\n      <td>Domestic</td>\n    </tr>\n    <tr>\n      <td>7</td>\n      <td>Garden</td>\n      <td>Outdoors &amp; Garden</td>\n    </tr>\n    <tr>\n      <td>8</td>\n      <td>Grocery</td>\n      <td>Domestic</td>\n    </tr>\n    <tr>\n      <td>9</td>\n      <td>Health</td>\n      <td>Domestic</td>\n    </tr>\n    <tr>\n      <td>10</td>\n      <td>Home</td>\n      <td>Domestic</td>\n    </tr>\n    <tr>\n      <td>11</td>\n      <td>Industrial</td>\n      <td>Auto &amp; Hardware</td>\n    </tr>\n    <tr>\n      <td>12</td>\n      <td>Jewelery</td>\n      <td>Fashion</td>\n    </tr>\n    <tr>\n      <td>13</td>\n      <td>Kids</td>\n      <td>Domestic</td>\n    </tr>\n    <tr>\n      <td>14</td>\n      <td>Movies</td>\n      <td>Entertainment</td>\n    </tr>\n    <tr>\n      <td>15</td>\n      <td>Music</td>\n      <td>Entertainment</td>\n    </tr>\n    <tr>\n      <td>16</td>\n      <td>Outdoors</td>\n      <td>Outdoors &amp; Garden</td>\n    </tr>\n    <tr>\n      <td>17</td>\n      <td>Shoes</td>\n      <td>Domestic</td>\n    </tr>\n    <tr>\n      <td>18</td>\n      <td>Sports</td>\n      <td>Games &amp; Sports</td>\n    </tr>\n    <tr>\n      <td>19</td>\n      <td>Tools</td>\n      <td>Auto &amp; Hardware</td>\n    </tr>\n    <tr>\n      <td>20</td>\n      <td>Toys</td>\n      <td>Games &amp; Sports</td>\n    </tr>\n  </tbody>\n</table>\n</div>",
      "text/plain": "     department      company_division\n0    Automotive       Auto & Hardware\n1          Baby              Domestic\n2        Beauty              Domestic\n3      Clothing              Domestic\n4     Computers  Electronic Equipment\n5   Electronics  Electronic Equipment\n6         Games              Domestic\n7        Garden     Outdoors & Garden\n8       Grocery              Domestic\n9        Health              Domestic\n10         Home              Domestic\n11   Industrial       Auto & Hardware\n12     Jewelery               Fashion\n13         Kids              Domestic\n14       Movies         Entertainment\n15        Music         Entertainment\n16     Outdoors     Outdoors & Garden\n17        Shoes              Domestic\n18       Sports        Games & Sports\n19        Tools       Auto & Hardware\n20         Toys        Games & Sports"
     },
     "execution_count": 30,
     "metadata": {},
     "output_type": "execute_result"
    }
   ],
   "source": [
    "command = \"\"\"SELECT * FROM company_divisions;\"\"\"\n",
    "cur.execute(command)\n",
    "cols = [x[0] for x in cur.description]\n",
    "pd.DataFrame(cur.fetchall(), columns=cols)"
   ]
  },
  {
   "cell_type": "code",
   "execution_count": 31,
   "metadata": {},
   "outputs": [
    {
     "data": {
      "text/html": "<div>\n<style scoped>\n    .dataframe tbody tr th:only-of-type {\n        vertical-align: middle;\n    }\n\n    .dataframe tbody tr th {\n        vertical-align: top;\n    }\n\n    .dataframe thead th {\n        text-align: right;\n    }\n</style>\n<table border=\"1\" class=\"dataframe\">\n  <thead>\n    <tr style=\"text-align: right;\">\n      <th></th>\n      <th>region_id</th>\n      <th>company_regions</th>\n      <th>country</th>\n    </tr>\n  </thead>\n  <tbody>\n    <tr>\n      <td>0</td>\n      <td>1</td>\n      <td>Northeast</td>\n      <td>USA</td>\n    </tr>\n    <tr>\n      <td>1</td>\n      <td>2</td>\n      <td>Southeast</td>\n      <td>USA</td>\n    </tr>\n    <tr>\n      <td>2</td>\n      <td>3</td>\n      <td>Northwest</td>\n      <td>USA</td>\n    </tr>\n    <tr>\n      <td>3</td>\n      <td>4</td>\n      <td>Southwest</td>\n      <td>USA</td>\n    </tr>\n    <tr>\n      <td>4</td>\n      <td>5</td>\n      <td>British Columbia</td>\n      <td>Canada</td>\n    </tr>\n    <tr>\n      <td>5</td>\n      <td>6</td>\n      <td>Quebec</td>\n      <td>Canada</td>\n    </tr>\n    <tr>\n      <td>6</td>\n      <td>7</td>\n      <td>Nova Scotia</td>\n      <td>Canada</td>\n    </tr>\n  </tbody>\n</table>\n</div>",
      "text/plain": "   region_id   company_regions country\n0          1         Northeast     USA\n1          2         Southeast     USA\n2          3         Northwest     USA\n3          4         Southwest     USA\n4          5  British Columbia  Canada\n5          6            Quebec  Canada\n6          7       Nova Scotia  Canada"
     },
     "execution_count": 31,
     "metadata": {},
     "output_type": "execute_result"
    }
   ],
   "source": [
    "command = \"\"\"SELECT * FROM company_regions;\"\"\"\n",
    "cur.execute(command)\n",
    "cols = [x[0] for x in cur.description]\n",
    "pd.DataFrame(cur.fetchall(), columns=cols)"
   ]
  },
  {
   "cell_type": "code",
   "execution_count": 32,
   "metadata": {},
   "outputs": [
    {
     "data": {
      "text/html": "<div>\n<style scoped>\n    .dataframe tbody tr th:only-of-type {\n        vertical-align: middle;\n    }\n\n    .dataframe tbody tr th {\n        vertical-align: top;\n    }\n\n    .dataframe thead th {\n        text-align: right;\n    }\n</style>\n<table border=\"1\" class=\"dataframe\">\n  <thead>\n    <tr style=\"text-align: right;\">\n      <th></th>\n      <th>id</th>\n      <th>last_name</th>\n      <th>email</th>\n      <th>gender</th>\n      <th>department</th>\n      <th>start_date</th>\n      <th>salary</th>\n      <th>job_title</th>\n      <th>region_id</th>\n    </tr>\n  </thead>\n  <tbody>\n    <tr>\n      <td>0</td>\n      <td>1</td>\n      <td>Kelley</td>\n      <td>rkelley0@soundcloud.com</td>\n      <td>Female</td>\n      <td>Computers</td>\n      <td>2009-10-02</td>\n      <td>67470</td>\n      <td>Structural Engineer</td>\n      <td>2</td>\n    </tr>\n    <tr>\n      <td>1</td>\n      <td>2</td>\n      <td>Armstrong</td>\n      <td>sarmstrong1@infoseek.co.jp</td>\n      <td>Male</td>\n      <td>Sports</td>\n      <td>2008-03-31</td>\n      <td>71869</td>\n      <td>Financial Advisor</td>\n      <td>2</td>\n    </tr>\n    <tr>\n      <td>2</td>\n      <td>3</td>\n      <td>Carr</td>\n      <td>fcarr2@woothemes.com</td>\n      <td>Male</td>\n      <td>Automotive</td>\n      <td>2009-07-12</td>\n      <td>101768</td>\n      <td>Recruiting Manager</td>\n      <td>3</td>\n    </tr>\n    <tr>\n      <td>3</td>\n      <td>4</td>\n      <td>Murray</td>\n      <td>jmurray3@gov.uk</td>\n      <td>Female</td>\n      <td>Jewelery</td>\n      <td>2014-12-25</td>\n      <td>96897</td>\n      <td>Desktop Support Technician</td>\n      <td>3</td>\n    </tr>\n    <tr>\n      <td>4</td>\n      <td>5</td>\n      <td>Ellis</td>\n      <td>jellis4@sciencedirect.com</td>\n      <td>Female</td>\n      <td>Grocery</td>\n      <td>2002-09-19</td>\n      <td>63702</td>\n      <td>Software Engineer III</td>\n      <td>7</td>\n    </tr>\n    <tr>\n      <td>...</td>\n      <td>...</td>\n      <td>...</td>\n      <td>...</td>\n      <td>...</td>\n      <td>...</td>\n      <td>...</td>\n      <td>...</td>\n      <td>...</td>\n      <td>...</td>\n    </tr>\n    <tr>\n      <td>995</td>\n      <td>996</td>\n      <td>James</td>\n      <td>tjamesrn@soundcloud.com</td>\n      <td>Female</td>\n      <td>Games</td>\n      <td>2013-11-17</td>\n      <td>78433</td>\n      <td>Accountant II</td>\n      <td>7</td>\n    </tr>\n    <tr>\n      <td>996</td>\n      <td>997</td>\n      <td>Reynolds</td>\n      <td>dreynoldsro@blogtalkradio.com</td>\n      <td>Female</td>\n      <td>Computers</td>\n      <td>2007-04-16</td>\n      <td>120138</td>\n      <td>Statistician IV</td>\n      <td>1</td>\n    </tr>\n    <tr>\n      <td>997</td>\n      <td>998</td>\n      <td>Walker</td>\n      <td>kwalkerrp@unicef.org</td>\n      <td>Female</td>\n      <td>Games</td>\n      <td>2010-02-13</td>\n      <td>60363</td>\n      <td>Account Coordinator</td>\n      <td>1</td>\n    </tr>\n    <tr>\n      <td>998</td>\n      <td>999</td>\n      <td>Kennedy</td>\n      <td>lkennedyrq@edublogs.org</td>\n      <td>Male</td>\n      <td>Industrial</td>\n      <td>2004-09-22</td>\n      <td>48050</td>\n      <td>Graphic Designer</td>\n      <td>2</td>\n    </tr>\n    <tr>\n      <td>999</td>\n      <td>1000</td>\n      <td>Howard</td>\n      <td>showardrr@addtoany.com</td>\n      <td>Male</td>\n      <td>Baby</td>\n      <td>2003-11-07</td>\n      <td>148687</td>\n      <td>General Manager</td>\n      <td>3</td>\n    </tr>\n  </tbody>\n</table>\n<p>1000 rows × 9 columns</p>\n</div>",
      "text/plain": "       id  last_name                          email  gender  department  \\\n0       1     Kelley        rkelley0@soundcloud.com  Female   Computers   \n1       2  Armstrong     sarmstrong1@infoseek.co.jp    Male      Sports   \n2       3       Carr           fcarr2@woothemes.com    Male  Automotive   \n3       4     Murray                jmurray3@gov.uk  Female    Jewelery   \n4       5      Ellis      jellis4@sciencedirect.com  Female     Grocery   \n..    ...        ...                            ...     ...         ...   \n995   996      James        tjamesrn@soundcloud.com  Female       Games   \n996   997   Reynolds  dreynoldsro@blogtalkradio.com  Female   Computers   \n997   998     Walker           kwalkerrp@unicef.org  Female       Games   \n998   999    Kennedy        lkennedyrq@edublogs.org    Male  Industrial   \n999  1000     Howard         showardrr@addtoany.com    Male        Baby   \n\n     start_date  salary                   job_title  region_id  \n0    2009-10-02   67470         Structural Engineer          2  \n1    2008-03-31   71869           Financial Advisor          2  \n2    2009-07-12  101768          Recruiting Manager          3  \n3    2014-12-25   96897  Desktop Support Technician          3  \n4    2002-09-19   63702       Software Engineer III          7  \n..          ...     ...                         ...        ...  \n995  2013-11-17   78433               Accountant II          7  \n996  2007-04-16  120138             Statistician IV          1  \n997  2010-02-13   60363         Account Coordinator          1  \n998  2004-09-22   48050            Graphic Designer          2  \n999  2003-11-07  148687             General Manager          3  \n\n[1000 rows x 9 columns]"
     },
     "execution_count": 32,
     "metadata": {},
     "output_type": "execute_result"
    }
   ],
   "source": [
    "command = \"\"\"SELECT * FROM staff;\"\"\"\n",
    "cur.execute(command)\n",
    "cols = [x[0] for x in cur.description]\n",
    "pd.DataFrame(cur.fetchall(), columns=cols)"
   ]
  },
  {
   "cell_type": "markdown",
   "metadata": {},
   "source": [
    "# Count"
   ]
  },
  {
   "cell_type": "code",
   "execution_count": 39,
   "metadata": {},
   "outputs": [
    {
     "data": {
      "text/html": "<div>\n<style scoped>\n    .dataframe tbody tr th:only-of-type {\n        vertical-align: middle;\n    }\n\n    .dataframe tbody tr th {\n        vertical-align: top;\n    }\n\n    .dataframe thead th {\n        text-align: right;\n    }\n</style>\n<table border=\"1\" class=\"dataframe\">\n  <thead>\n    <tr style=\"text-align: right;\">\n      <th></th>\n      <th>gender</th>\n      <th>count</th>\n    </tr>\n  </thead>\n  <tbody>\n    <tr>\n      <td>0</td>\n      <td>Female</td>\n      <td>496</td>\n    </tr>\n    <tr>\n      <td>1</td>\n      <td>Male</td>\n      <td>504</td>\n    </tr>\n  </tbody>\n</table>\n</div>",
      "text/plain": "   gender  count\n0  Female    496\n1    Male    504"
     },
     "execution_count": 39,
     "metadata": {},
     "output_type": "execute_result"
    }
   ],
   "source": [
    "command = \"\"\"SELECT gender, COUNT(gender) FROM staff\n",
    "             GROUP BY gender;\"\"\"\n",
    "cur.execute(command)\n",
    "cols = [x[0] for x in cur.description]\n",
    "pd.DataFrame(cur.fetchall(), columns=cols)"
   ]
  },
  {
   "cell_type": "markdown",
   "metadata": {},
   "source": [
    "# MIN, MAX"
   ]
  },
  {
   "cell_type": "code",
   "execution_count": 43,
   "metadata": {},
   "outputs": [
    {
     "data": {
      "text/html": "<div>\n<style scoped>\n    .dataframe tbody tr th:only-of-type {\n        vertical-align: middle;\n    }\n\n    .dataframe tbody tr th {\n        vertical-align: top;\n    }\n\n    .dataframe thead th {\n        text-align: right;\n    }\n</style>\n<table border=\"1\" class=\"dataframe\">\n  <thead>\n    <tr style=\"text-align: right;\">\n      <th></th>\n      <th>department</th>\n      <th>gender</th>\n      <th>min</th>\n      <th>max</th>\n    </tr>\n  </thead>\n  <tbody>\n    <tr>\n      <td>0</td>\n      <td>Automotive</td>\n      <td>Female</td>\n      <td>42602</td>\n      <td>136448</td>\n    </tr>\n    <tr>\n      <td>1</td>\n      <td>Automotive</td>\n      <td>Male</td>\n      <td>44377</td>\n      <td>146167</td>\n    </tr>\n    <tr>\n      <td>2</td>\n      <td>Baby</td>\n      <td>Female</td>\n      <td>50448</td>\n      <td>141464</td>\n    </tr>\n    <tr>\n      <td>3</td>\n      <td>Baby</td>\n      <td>Male</td>\n      <td>42924</td>\n      <td>148687</td>\n    </tr>\n    <tr>\n      <td>4</td>\n      <td>Beauty</td>\n      <td>Female</td>\n      <td>41299</td>\n      <td>143853</td>\n    </tr>\n    <tr>\n      <td>5</td>\n      <td>Beauty</td>\n      <td>Male</td>\n      <td>40254</td>\n      <td>149099</td>\n    </tr>\n    <tr>\n      <td>6</td>\n      <td>Books</td>\n      <td>Female</td>\n      <td>47131</td>\n      <td>145284</td>\n    </tr>\n    <tr>\n      <td>7</td>\n      <td>Books</td>\n      <td>Male</td>\n      <td>42714</td>\n      <td>146745</td>\n    </tr>\n    <tr>\n      <td>8</td>\n      <td>Clothing</td>\n      <td>Female</td>\n      <td>42797</td>\n      <td>148408</td>\n    </tr>\n    <tr>\n      <td>9</td>\n      <td>Clothing</td>\n      <td>Male</td>\n      <td>43067</td>\n      <td>130188</td>\n    </tr>\n    <tr>\n      <td>10</td>\n      <td>Computers</td>\n      <td>Female</td>\n      <td>46960</td>\n      <td>149336</td>\n    </tr>\n    <tr>\n      <td>11</td>\n      <td>Computers</td>\n      <td>Male</td>\n      <td>47541</td>\n      <td>139304</td>\n    </tr>\n    <tr>\n      <td>12</td>\n      <td>Electronics</td>\n      <td>Female</td>\n      <td>41697</td>\n      <td>149597</td>\n    </tr>\n    <tr>\n      <td>13</td>\n      <td>Electronics</td>\n      <td>Male</td>\n      <td>40218</td>\n      <td>144073</td>\n    </tr>\n    <tr>\n      <td>14</td>\n      <td>Games</td>\n      <td>Female</td>\n      <td>42347</td>\n      <td>149221</td>\n    </tr>\n    <tr>\n      <td>15</td>\n      <td>Games</td>\n      <td>Male</td>\n      <td>41516</td>\n      <td>145575</td>\n    </tr>\n    <tr>\n      <td>16</td>\n      <td>Garden</td>\n      <td>Female</td>\n      <td>51792</td>\n      <td>148860</td>\n    </tr>\n    <tr>\n      <td>17</td>\n      <td>Garden</td>\n      <td>Male</td>\n      <td>50057</td>\n      <td>144965</td>\n    </tr>\n    <tr>\n      <td>18</td>\n      <td>Grocery</td>\n      <td>Female</td>\n      <td>45486</td>\n      <td>149929</td>\n    </tr>\n    <tr>\n      <td>19</td>\n      <td>Grocery</td>\n      <td>Male</td>\n      <td>44919</td>\n      <td>148993</td>\n    </tr>\n    <tr>\n      <td>20</td>\n      <td>Health</td>\n      <td>Female</td>\n      <td>43431</td>\n      <td>145962</td>\n    </tr>\n    <tr>\n      <td>21</td>\n      <td>Health</td>\n      <td>Male</td>\n      <td>43986</td>\n      <td>142967</td>\n    </tr>\n    <tr>\n      <td>22</td>\n      <td>Home</td>\n      <td>Female</td>\n      <td>40415</td>\n      <td>149598</td>\n    </tr>\n    <tr>\n      <td>23</td>\n      <td>Home</td>\n      <td>Male</td>\n      <td>44593</td>\n      <td>146432</td>\n    </tr>\n    <tr>\n      <td>24</td>\n      <td>Industrial</td>\n      <td>Female</td>\n      <td>54876</td>\n      <td>140850</td>\n    </tr>\n    <tr>\n      <td>25</td>\n      <td>Industrial</td>\n      <td>Male</td>\n      <td>40194</td>\n      <td>148816</td>\n    </tr>\n    <tr>\n      <td>26</td>\n      <td>Jewelery</td>\n      <td>Female</td>\n      <td>46653</td>\n      <td>145281</td>\n    </tr>\n    <tr>\n      <td>27</td>\n      <td>Jewelery</td>\n      <td>Male</td>\n      <td>41026</td>\n      <td>149114</td>\n    </tr>\n    <tr>\n      <td>28</td>\n      <td>Kids</td>\n      <td>Female</td>\n      <td>43097</td>\n      <td>149351</td>\n    </tr>\n    <tr>\n      <td>29</td>\n      <td>Kids</td>\n      <td>Male</td>\n      <td>44093</td>\n      <td>139163</td>\n    </tr>\n    <tr>\n      <td>30</td>\n      <td>Movies</td>\n      <td>Female</td>\n      <td>51132</td>\n      <td>142840</td>\n    </tr>\n    <tr>\n      <td>31</td>\n      <td>Movies</td>\n      <td>Male</td>\n      <td>41898</td>\n      <td>146970</td>\n    </tr>\n    <tr>\n      <td>32</td>\n      <td>Music</td>\n      <td>Female</td>\n      <td>42759</td>\n      <td>144608</td>\n    </tr>\n    <tr>\n      <td>33</td>\n      <td>Music</td>\n      <td>Male</td>\n      <td>43940</td>\n      <td>138540</td>\n    </tr>\n    <tr>\n      <td>34</td>\n      <td>Outdoors</td>\n      <td>Female</td>\n      <td>43366</td>\n      <td>148906</td>\n    </tr>\n    <tr>\n      <td>35</td>\n      <td>Outdoors</td>\n      <td>Male</td>\n      <td>46072</td>\n      <td>144932</td>\n    </tr>\n    <tr>\n      <td>36</td>\n      <td>Shoes</td>\n      <td>Female</td>\n      <td>52041</td>\n      <td>147739</td>\n    </tr>\n    <tr>\n      <td>37</td>\n      <td>Shoes</td>\n      <td>Male</td>\n      <td>45463</td>\n      <td>140243</td>\n    </tr>\n    <tr>\n      <td>38</td>\n      <td>Sports</td>\n      <td>Female</td>\n      <td>52792</td>\n      <td>146611</td>\n    </tr>\n    <tr>\n      <td>39</td>\n      <td>Sports</td>\n      <td>Male</td>\n      <td>40418</td>\n      <td>147166</td>\n    </tr>\n    <tr>\n      <td>40</td>\n      <td>Tools</td>\n      <td>Female</td>\n      <td>44788</td>\n      <td>149586</td>\n    </tr>\n    <tr>\n      <td>41</td>\n      <td>Tools</td>\n      <td>Male</td>\n      <td>47271</td>\n      <td>144661</td>\n    </tr>\n    <tr>\n      <td>42</td>\n      <td>Toys</td>\n      <td>Female</td>\n      <td>40138</td>\n      <td>144991</td>\n    </tr>\n    <tr>\n      <td>43</td>\n      <td>Toys</td>\n      <td>Male</td>\n      <td>41855</td>\n      <td>149835</td>\n    </tr>\n  </tbody>\n</table>\n</div>",
      "text/plain": "     department  gender    min     max\n0    Automotive  Female  42602  136448\n1    Automotive    Male  44377  146167\n2          Baby  Female  50448  141464\n3          Baby    Male  42924  148687\n4        Beauty  Female  41299  143853\n5        Beauty    Male  40254  149099\n6         Books  Female  47131  145284\n7         Books    Male  42714  146745\n8      Clothing  Female  42797  148408\n9      Clothing    Male  43067  130188\n10    Computers  Female  46960  149336\n11    Computers    Male  47541  139304\n12  Electronics  Female  41697  149597\n13  Electronics    Male  40218  144073\n14        Games  Female  42347  149221\n15        Games    Male  41516  145575\n16       Garden  Female  51792  148860\n17       Garden    Male  50057  144965\n18      Grocery  Female  45486  149929\n19      Grocery    Male  44919  148993\n20       Health  Female  43431  145962\n21       Health    Male  43986  142967\n22         Home  Female  40415  149598\n23         Home    Male  44593  146432\n24   Industrial  Female  54876  140850\n25   Industrial    Male  40194  148816\n26     Jewelery  Female  46653  145281\n27     Jewelery    Male  41026  149114\n28         Kids  Female  43097  149351\n29         Kids    Male  44093  139163\n30       Movies  Female  51132  142840\n31       Movies    Male  41898  146970\n32        Music  Female  42759  144608\n33        Music    Male  43940  138540\n34     Outdoors  Female  43366  148906\n35     Outdoors    Male  46072  144932\n36        Shoes  Female  52041  147739\n37        Shoes    Male  45463  140243\n38       Sports  Female  52792  146611\n39       Sports    Male  40418  147166\n40        Tools  Female  44788  149586\n41        Tools    Male  47271  144661\n42         Toys  Female  40138  144991\n43         Toys    Male  41855  149835"
     },
     "execution_count": 43,
     "metadata": {},
     "output_type": "execute_result"
    }
   ],
   "source": [
    "command = \"\"\"SELECT department, gender, MIN(salary), MAX(salary) FROM staff\n",
    "             GROUP BY department, gender\n",
    "             ORDER BY department, gender;\"\"\"\n",
    "cur.execute(command)\n",
    "cols = [x[0] for x in cur.description]\n",
    "pd.DataFrame(cur.fetchall(), columns=cols)\n",
    "\n",
    "#Pretty Cool huh! ☜(ﾟヮﾟ☜)"
   ]
  },
  {
   "cell_type": "markdown",
   "metadata": {},
   "source": [
    "# Sum & Average & Variance & Standard Deviation"
   ]
  },
  {
   "cell_type": "code",
   "execution_count": 55,
   "metadata": {},
   "outputs": [
    {
     "data": {
      "text/html": "<div>\n<style scoped>\n    .dataframe tbody tr th:only-of-type {\n        vertical-align: middle;\n    }\n\n    .dataframe tbody tr th {\n        vertical-align: top;\n    }\n\n    .dataframe thead th {\n        text-align: right;\n    }\n</style>\n<table border=\"1\" class=\"dataframe\">\n  <thead>\n    <tr style=\"text-align: right;\">\n      <th></th>\n      <th>department</th>\n      <th>total_salary</th>\n      <th>average_salary</th>\n      <th>variance_salary</th>\n      <th>standard_deviation_salary</th>\n    </tr>\n  </thead>\n  <tbody>\n    <tr>\n      <td>0</td>\n      <td>Music</td>\n      <td>3274767</td>\n      <td>88507.216216216216</td>\n      <td>1001696601.52081812</td>\n      <td>31649.59085866</td>\n    </tr>\n    <tr>\n      <td>1</td>\n      <td>Kids</td>\n      <td>3543027</td>\n      <td>93237.552631578947</td>\n      <td>1072987422.93144044</td>\n      <td>32756.48673059</td>\n    </tr>\n    <tr>\n      <td>2</td>\n      <td>Movies</td>\n      <td>3632825</td>\n      <td>100911.805555555556</td>\n      <td>876898879.10108025</td>\n      <td>29612.47843564</td>\n    </tr>\n    <tr>\n      <td>3</td>\n      <td>Sports</td>\n      <td>3756041</td>\n      <td>93901.025000000000</td>\n      <td>1049150239.87437500</td>\n      <td>32390.58875467</td>\n    </tr>\n    <tr>\n      <td>4</td>\n      <td>Toys</td>\n      <td>3943674</td>\n      <td>96187.170731707317</td>\n      <td>1150709491.31231410</td>\n      <td>33922.10918136</td>\n    </tr>\n    <tr>\n      <td>5</td>\n      <td>Shoes</td>\n      <td>3968118</td>\n      <td>92281.813953488372</td>\n      <td>849306565.17468902</td>\n      <td>29142.86473864</td>\n    </tr>\n    <tr>\n      <td>6</td>\n      <td>Jewelery</td>\n      <td>4039362</td>\n      <td>87812.217391304348</td>\n      <td>875256537.77882798</td>\n      <td>29584.73487762</td>\n    </tr>\n    <tr>\n      <td>7</td>\n      <td>Tools</td>\n      <td>4095808</td>\n      <td>105020.717948717949</td>\n      <td>795868561.02301118</td>\n      <td>28211.14249766</td>\n    </tr>\n    <tr>\n      <td>8</td>\n      <td>Baby</td>\n      <td>4218724</td>\n      <td>93749.422222222222</td>\n      <td>912220932.82172840</td>\n      <td>30202.99542797</td>\n    </tr>\n    <tr>\n      <td>9</td>\n      <td>Industrial</td>\n      <td>4366340</td>\n      <td>92900.851063829787</td>\n      <td>889271955.27569036</td>\n      <td>29820.66322662</td>\n    </tr>\n    <tr>\n      <td>10</td>\n      <td>Books</td>\n      <td>4459837</td>\n      <td>94890.148936170213</td>\n      <td>945765035.82888185</td>\n      <td>30753.29308918</td>\n    </tr>\n    <tr>\n      <td>11</td>\n      <td>Electronics</td>\n      <td>4489141</td>\n      <td>91615.122448979592</td>\n      <td>1073778518.02582257</td>\n      <td>32768.55990162</td>\n    </tr>\n    <tr>\n      <td>12</td>\n      <td>Health</td>\n      <td>4552880</td>\n      <td>98975.652173913043</td>\n      <td>1216304238.79206049</td>\n      <td>34875.55359836</td>\n    </tr>\n    <tr>\n      <td>13</td>\n      <td>Automotive</td>\n      <td>4584268</td>\n      <td>99658.000000000000</td>\n      <td>929902811.86956522</td>\n      <td>30494.30786015</td>\n    </tr>\n    <tr>\n      <td>14</td>\n      <td>Grocery</td>\n      <td>4651241</td>\n      <td>101113.934782608696</td>\n      <td>1161021316.10444234</td>\n      <td>34073.76286976</td>\n    </tr>\n    <tr>\n      <td>15</td>\n      <td>Garden</td>\n      <td>4792085</td>\n      <td>101959.255319148936</td>\n      <td>909562157.08374830</td>\n      <td>30158.94820918</td>\n    </tr>\n    <tr>\n      <td>16</td>\n      <td>Home</td>\n      <td>4822205</td>\n      <td>92734.711538461538</td>\n      <td>1037243300.97448225</td>\n      <td>32206.26182863</td>\n    </tr>\n    <tr>\n      <td>17</td>\n      <td>Clothing</td>\n      <td>5037890</td>\n      <td>95054.528301886792</td>\n      <td>1000324590.36240655</td>\n      <td>31627.90840954</td>\n    </tr>\n    <tr>\n      <td>18</td>\n      <td>Games</td>\n      <td>5090304</td>\n      <td>103883.755102040816</td>\n      <td>1040425239.16451479</td>\n      <td>32255.62337275</td>\n    </tr>\n    <tr>\n      <td>19</td>\n      <td>Computers</td>\n      <td>5152963</td>\n      <td>99095.442307692308</td>\n      <td>930175201.51590237</td>\n      <td>30498.77377069</td>\n    </tr>\n    <tr>\n      <td>20</td>\n      <td>Outdoors</td>\n      <td>5378660</td>\n      <td>112055.416666666667</td>\n      <td>745849798.45138889</td>\n      <td>27310.25079437</td>\n    </tr>\n    <tr>\n      <td>21</td>\n      <td>Beauty</td>\n      <td>5481063</td>\n      <td>103416.283018867925</td>\n      <td>952478558.54254183</td>\n      <td>30862.25135246</td>\n    </tr>\n  </tbody>\n</table>\n</div>",
      "text/plain": "     department  total_salary       average_salary      variance_salary  \\\n0         Music       3274767   88507.216216216216  1001696601.52081812   \n1          Kids       3543027   93237.552631578947  1072987422.93144044   \n2        Movies       3632825  100911.805555555556   876898879.10108025   \n3        Sports       3756041   93901.025000000000  1049150239.87437500   \n4          Toys       3943674   96187.170731707317  1150709491.31231410   \n5         Shoes       3968118   92281.813953488372   849306565.17468902   \n6      Jewelery       4039362   87812.217391304348   875256537.77882798   \n7         Tools       4095808  105020.717948717949   795868561.02301118   \n8          Baby       4218724   93749.422222222222   912220932.82172840   \n9    Industrial       4366340   92900.851063829787   889271955.27569036   \n10        Books       4459837   94890.148936170213   945765035.82888185   \n11  Electronics       4489141   91615.122448979592  1073778518.02582257   \n12       Health       4552880   98975.652173913043  1216304238.79206049   \n13   Automotive       4584268   99658.000000000000   929902811.86956522   \n14      Grocery       4651241  101113.934782608696  1161021316.10444234   \n15       Garden       4792085  101959.255319148936   909562157.08374830   \n16         Home       4822205   92734.711538461538  1037243300.97448225   \n17     Clothing       5037890   95054.528301886792  1000324590.36240655   \n18        Games       5090304  103883.755102040816  1040425239.16451479   \n19    Computers       5152963   99095.442307692308   930175201.51590237   \n20     Outdoors       5378660  112055.416666666667   745849798.45138889   \n21       Beauty       5481063  103416.283018867925   952478558.54254183   \n\n   standard_deviation_salary  \n0             31649.59085866  \n1             32756.48673059  \n2             29612.47843564  \n3             32390.58875467  \n4             33922.10918136  \n5             29142.86473864  \n6             29584.73487762  \n7             28211.14249766  \n8             30202.99542797  \n9             29820.66322662  \n10            30753.29308918  \n11            32768.55990162  \n12            34875.55359836  \n13            30494.30786015  \n14            34073.76286976  \n15            30158.94820918  \n16            32206.26182863  \n17            31627.90840954  \n18            32255.62337275  \n19            30498.77377069  \n20            27310.25079437  \n21            30862.25135246  "
     },
     "execution_count": 55,
     "metadata": {},
     "output_type": "execute_result"
    }
   ],
   "source": [
    "command = \"\"\"SELECT \n",
    "             department, \n",
    "             SUM(salary) AS total_salary, \n",
    "             AVG(salary) AS average_salary,\n",
    "             var_pop(salary) AS variance_salary,\n",
    "             stddev_pop(salary) AS standard_deviation_salary \n",
    "             FROM staff\n",
    "             GROUP BY department\n",
    "             ORDER BY total_salary;\"\"\"\n",
    "cur.execute(command)\n",
    "cols = [x[0] for x in cur.description]\n",
    "pd.DataFrame(cur.fetchall(), columns=cols)"
   ]
  },
  {
   "cell_type": "markdown",
   "metadata": {},
   "source": [
    "# Rounding by n decimal points"
   ]
  },
  {
   "cell_type": "code",
   "execution_count": 57,
   "metadata": {},
   "outputs": [
    {
     "data": {
      "text/html": "<div>\n<style scoped>\n    .dataframe tbody tr th:only-of-type {\n        vertical-align: middle;\n    }\n\n    .dataframe tbody tr th {\n        vertical-align: top;\n    }\n\n    .dataframe thead th {\n        text-align: right;\n    }\n</style>\n<table border=\"1\" class=\"dataframe\">\n  <thead>\n    <tr style=\"text-align: right;\">\n      <th></th>\n      <th>department</th>\n      <th>total_salary</th>\n      <th>average_salary</th>\n      <th>variance_salary</th>\n      <th>standard_deviation_salary</th>\n    </tr>\n  </thead>\n  <tbody>\n    <tr>\n      <td>0</td>\n      <td>Music</td>\n      <td>3274767</td>\n      <td>88507.22</td>\n      <td>1001696601.52</td>\n      <td>31649.59</td>\n    </tr>\n    <tr>\n      <td>1</td>\n      <td>Kids</td>\n      <td>3543027</td>\n      <td>93237.55</td>\n      <td>1072987422.93</td>\n      <td>32756.49</td>\n    </tr>\n    <tr>\n      <td>2</td>\n      <td>Movies</td>\n      <td>3632825</td>\n      <td>100911.81</td>\n      <td>876898879.10</td>\n      <td>29612.48</td>\n    </tr>\n    <tr>\n      <td>3</td>\n      <td>Sports</td>\n      <td>3756041</td>\n      <td>93901.03</td>\n      <td>1049150239.87</td>\n      <td>32390.59</td>\n    </tr>\n    <tr>\n      <td>4</td>\n      <td>Toys</td>\n      <td>3943674</td>\n      <td>96187.17</td>\n      <td>1150709491.31</td>\n      <td>33922.11</td>\n    </tr>\n    <tr>\n      <td>5</td>\n      <td>Shoes</td>\n      <td>3968118</td>\n      <td>92281.81</td>\n      <td>849306565.17</td>\n      <td>29142.86</td>\n    </tr>\n    <tr>\n      <td>6</td>\n      <td>Jewelery</td>\n      <td>4039362</td>\n      <td>87812.22</td>\n      <td>875256537.78</td>\n      <td>29584.73</td>\n    </tr>\n    <tr>\n      <td>7</td>\n      <td>Tools</td>\n      <td>4095808</td>\n      <td>105020.72</td>\n      <td>795868561.02</td>\n      <td>28211.14</td>\n    </tr>\n    <tr>\n      <td>8</td>\n      <td>Baby</td>\n      <td>4218724</td>\n      <td>93749.42</td>\n      <td>912220932.82</td>\n      <td>30203.00</td>\n    </tr>\n    <tr>\n      <td>9</td>\n      <td>Industrial</td>\n      <td>4366340</td>\n      <td>92900.85</td>\n      <td>889271955.28</td>\n      <td>29820.66</td>\n    </tr>\n    <tr>\n      <td>10</td>\n      <td>Books</td>\n      <td>4459837</td>\n      <td>94890.15</td>\n      <td>945765035.83</td>\n      <td>30753.29</td>\n    </tr>\n    <tr>\n      <td>11</td>\n      <td>Electronics</td>\n      <td>4489141</td>\n      <td>91615.12</td>\n      <td>1073778518.03</td>\n      <td>32768.56</td>\n    </tr>\n    <tr>\n      <td>12</td>\n      <td>Health</td>\n      <td>4552880</td>\n      <td>98975.65</td>\n      <td>1216304238.79</td>\n      <td>34875.55</td>\n    </tr>\n    <tr>\n      <td>13</td>\n      <td>Automotive</td>\n      <td>4584268</td>\n      <td>99658.00</td>\n      <td>929902811.87</td>\n      <td>30494.31</td>\n    </tr>\n    <tr>\n      <td>14</td>\n      <td>Grocery</td>\n      <td>4651241</td>\n      <td>101113.93</td>\n      <td>1161021316.10</td>\n      <td>34073.76</td>\n    </tr>\n    <tr>\n      <td>15</td>\n      <td>Garden</td>\n      <td>4792085</td>\n      <td>101959.26</td>\n      <td>909562157.08</td>\n      <td>30158.95</td>\n    </tr>\n    <tr>\n      <td>16</td>\n      <td>Home</td>\n      <td>4822205</td>\n      <td>92734.71</td>\n      <td>1037243300.97</td>\n      <td>32206.26</td>\n    </tr>\n    <tr>\n      <td>17</td>\n      <td>Clothing</td>\n      <td>5037890</td>\n      <td>95054.53</td>\n      <td>1000324590.36</td>\n      <td>31627.91</td>\n    </tr>\n    <tr>\n      <td>18</td>\n      <td>Games</td>\n      <td>5090304</td>\n      <td>103883.76</td>\n      <td>1040425239.16</td>\n      <td>32255.62</td>\n    </tr>\n    <tr>\n      <td>19</td>\n      <td>Computers</td>\n      <td>5152963</td>\n      <td>99095.44</td>\n      <td>930175201.52</td>\n      <td>30498.77</td>\n    </tr>\n    <tr>\n      <td>20</td>\n      <td>Outdoors</td>\n      <td>5378660</td>\n      <td>112055.42</td>\n      <td>745849798.45</td>\n      <td>27310.25</td>\n    </tr>\n    <tr>\n      <td>21</td>\n      <td>Beauty</td>\n      <td>5481063</td>\n      <td>103416.28</td>\n      <td>952478558.54</td>\n      <td>30862.25</td>\n    </tr>\n  </tbody>\n</table>\n</div>",
      "text/plain": "     department  total_salary average_salary variance_salary  \\\n0         Music       3274767       88507.22   1001696601.52   \n1          Kids       3543027       93237.55   1072987422.93   \n2        Movies       3632825      100911.81    876898879.10   \n3        Sports       3756041       93901.03   1049150239.87   \n4          Toys       3943674       96187.17   1150709491.31   \n5         Shoes       3968118       92281.81    849306565.17   \n6      Jewelery       4039362       87812.22    875256537.78   \n7         Tools       4095808      105020.72    795868561.02   \n8          Baby       4218724       93749.42    912220932.82   \n9    Industrial       4366340       92900.85    889271955.28   \n10        Books       4459837       94890.15    945765035.83   \n11  Electronics       4489141       91615.12   1073778518.03   \n12       Health       4552880       98975.65   1216304238.79   \n13   Automotive       4584268       99658.00    929902811.87   \n14      Grocery       4651241      101113.93   1161021316.10   \n15       Garden       4792085      101959.26    909562157.08   \n16         Home       4822205       92734.71   1037243300.97   \n17     Clothing       5037890       95054.53   1000324590.36   \n18        Games       5090304      103883.76   1040425239.16   \n19    Computers       5152963       99095.44    930175201.52   \n20     Outdoors       5378660      112055.42    745849798.45   \n21       Beauty       5481063      103416.28    952478558.54   \n\n   standard_deviation_salary  \n0                   31649.59  \n1                   32756.49  \n2                   29612.48  \n3                   32390.59  \n4                   33922.11  \n5                   29142.86  \n6                   29584.73  \n7                   28211.14  \n8                   30203.00  \n9                   29820.66  \n10                  30753.29  \n11                  32768.56  \n12                  34875.55  \n13                  30494.31  \n14                  34073.76  \n15                  30158.95  \n16                  32206.26  \n17                  31627.91  \n18                  32255.62  \n19                  30498.77  \n20                  27310.25  \n21                  30862.25  "
     },
     "execution_count": 57,
     "metadata": {},
     "output_type": "execute_result"
    }
   ],
   "source": [
    "command = \"\"\"SELECT \n",
    "             department, \n",
    "             SUM(salary) AS total_salary, \n",
    "             ROUND(AVG(salary),2) AS average_salary,\n",
    "             ROUND(var_pop(salary),2) AS variance_salary,\n",
    "             ROUND(stddev_pop(salary),2) AS standard_deviation_salary \n",
    "             FROM staff\n",
    "             GROUP BY department\n",
    "             ORDER BY total_salary;\"\"\"\n",
    "cur.execute(command)\n",
    "cols = [x[0] for x in cur.description]\n",
    "pd.DataFrame(cur.fetchall(), columns=cols)"
   ]
  },
  {
   "cell_type": "markdown",
   "metadata": {},
   "source": [
    "# Filtering & Joining"
   ]
  },
  {
   "cell_type": "code",
   "execution_count": 62,
   "metadata": {},
   "outputs": [
    {
     "data": {
      "text/html": "<div>\n<style scoped>\n    .dataframe tbody tr th:only-of-type {\n        vertical-align: middle;\n    }\n\n    .dataframe tbody tr th {\n        vertical-align: top;\n    }\n\n    .dataframe thead th {\n        text-align: right;\n    }\n</style>\n<table border=\"1\" class=\"dataframe\">\n  <thead>\n    <tr style=\"text-align: right;\">\n      <th></th>\n      <th>department</th>\n      <th>region_id</th>\n      <th>id</th>\n      <th>last_name</th>\n      <th>email</th>\n      <th>gender</th>\n      <th>start_date</th>\n      <th>salary</th>\n      <th>job_title</th>\n      <th>company_regions</th>\n      <th>country</th>\n      <th>company_division</th>\n    </tr>\n  </thead>\n  <tbody>\n    <tr>\n      <td>0</td>\n      <td>Electronics</td>\n      <td>1</td>\n      <td>985</td>\n      <td>Stevens</td>\n      <td>hstevensrc@hugedomains.com</td>\n      <td>Male</td>\n      <td>2006-02-28</td>\n      <td>118791</td>\n      <td>Safety Technician IV</td>\n      <td>Northeast</td>\n      <td>USA</td>\n      <td>Electronic Equipment</td>\n    </tr>\n    <tr>\n      <td>1</td>\n      <td>Electronics</td>\n      <td>1</td>\n      <td>906</td>\n      <td>Spencer</td>\n      <td>sspencerp5@mtv.com</td>\n      <td>Male</td>\n      <td>2014-04-18</td>\n      <td>110881</td>\n      <td>Electrical Engineer</td>\n      <td>Northeast</td>\n      <td>USA</td>\n      <td>Electronic Equipment</td>\n    </tr>\n    <tr>\n      <td>2</td>\n      <td>Electronics</td>\n      <td>2</td>\n      <td>679</td>\n      <td>Stone</td>\n      <td>pstoneiu@narod.ru</td>\n      <td>Male</td>\n      <td>2014-05-15</td>\n      <td>40218</td>\n      <td>Paralegal</td>\n      <td>Southeast</td>\n      <td>USA</td>\n      <td>Electronic Equipment</td>\n    </tr>\n    <tr>\n      <td>3</td>\n      <td>Electronics</td>\n      <td>7</td>\n      <td>762</td>\n      <td>Stanley</td>\n      <td>cstanleyl5@springer.com</td>\n      <td>Male</td>\n      <td>2013-08-09</td>\n      <td>103237</td>\n      <td>Account Executive</td>\n      <td>Nova Scotia</td>\n      <td>Canada</td>\n      <td>Electronic Equipment</td>\n    </tr>\n  </tbody>\n</table>\n</div>",
      "text/plain": "    department  region_id   id last_name                       email gender  \\\n0  Electronics          1  985   Stevens  hstevensrc@hugedomains.com   Male   \n1  Electronics          1  906   Spencer          sspencerp5@mtv.com   Male   \n2  Electronics          2  679     Stone           pstoneiu@narod.ru   Male   \n3  Electronics          7  762   Stanley     cstanleyl5@springer.com   Male   \n\n   start_date  salary             job_title company_regions country  \\\n0  2006-02-28  118791  Safety Technician IV       Northeast     USA   \n1  2014-04-18  110881   Electrical Engineer       Northeast     USA   \n2  2014-05-15   40218             Paralegal       Southeast     USA   \n3  2013-08-09  103237     Account Executive     Nova Scotia  Canada   \n\n       company_division  \n0  Electronic Equipment  \n1  Electronic Equipment  \n2  Electronic Equipment  \n3  Electronic Equipment  "
     },
     "execution_count": 62,
     "metadata": {},
     "output_type": "execute_result"
    }
   ],
   "source": [
    "command = \"\"\"SELECT *\n",
    "             FROM staff\n",
    "             INNER JOIN company_regions\n",
    "             USING (region_id)\n",
    "             INNER JOIN company_divisions\n",
    "             USING (department)\n",
    "             WHERE company_division IN ('Electronic Equipment', 'Games & Sports')\n",
    "             AND\n",
    "             department = 'Electronics'\n",
    "             AND\n",
    "             last_name ILIKE 's%'\"\"\"\n",
    "cur.execute(command)\n",
    "cols = [x[0] for x in cur.description]\n",
    "pd.DataFrame(cur.fetchall(), columns=cols)"
   ]
  },
  {
   "cell_type": "code",
   "execution_count": 63,
   "metadata": {},
   "outputs": [
    {
     "data": {
      "text/html": "<div>\n<style scoped>\n    .dataframe tbody tr th:only-of-type {\n        vertical-align: middle;\n    }\n\n    .dataframe tbody tr th {\n        vertical-align: top;\n    }\n\n    .dataframe thead th {\n        text-align: right;\n    }\n</style>\n<table border=\"1\" class=\"dataframe\">\n  <thead>\n    <tr style=\"text-align: right;\">\n      <th></th>\n      <th>id</th>\n      <th>last_name</th>\n      <th>email</th>\n      <th>gender</th>\n      <th>department</th>\n      <th>start_date</th>\n      <th>salary</th>\n      <th>job_title</th>\n      <th>region_id</th>\n      <th>region_id</th>\n      <th>company_regions</th>\n      <th>country</th>\n      <th>department</th>\n      <th>company_division</th>\n    </tr>\n  </thead>\n  <tbody>\n    <tr>\n      <td>0</td>\n      <td>985</td>\n      <td>Stevens</td>\n      <td>hstevensrc@hugedomains.com</td>\n      <td>Male</td>\n      <td>Electronics</td>\n      <td>2006-02-28</td>\n      <td>118791</td>\n      <td>Safety Technician IV</td>\n      <td>1</td>\n      <td>1</td>\n      <td>Northeast</td>\n      <td>USA</td>\n      <td>Electronics</td>\n      <td>Electronic Equipment</td>\n    </tr>\n    <tr>\n      <td>1</td>\n      <td>906</td>\n      <td>Spencer</td>\n      <td>sspencerp5@mtv.com</td>\n      <td>Male</td>\n      <td>Electronics</td>\n      <td>2014-04-18</td>\n      <td>110881</td>\n      <td>Electrical Engineer</td>\n      <td>1</td>\n      <td>1</td>\n      <td>Northeast</td>\n      <td>USA</td>\n      <td>Electronics</td>\n      <td>Electronic Equipment</td>\n    </tr>\n    <tr>\n      <td>2</td>\n      <td>679</td>\n      <td>Stone</td>\n      <td>pstoneiu@narod.ru</td>\n      <td>Male</td>\n      <td>Electronics</td>\n      <td>2014-05-15</td>\n      <td>40218</td>\n      <td>Paralegal</td>\n      <td>2</td>\n      <td>2</td>\n      <td>Southeast</td>\n      <td>USA</td>\n      <td>Electronics</td>\n      <td>Electronic Equipment</td>\n    </tr>\n    <tr>\n      <td>3</td>\n      <td>762</td>\n      <td>Stanley</td>\n      <td>cstanleyl5@springer.com</td>\n      <td>Male</td>\n      <td>Electronics</td>\n      <td>2013-08-09</td>\n      <td>103237</td>\n      <td>Account Executive</td>\n      <td>7</td>\n      <td>7</td>\n      <td>Nova Scotia</td>\n      <td>Canada</td>\n      <td>Electronics</td>\n      <td>Electronic Equipment</td>\n    </tr>\n  </tbody>\n</table>\n</div>",
      "text/plain": "    id last_name                       email gender   department  start_date  \\\n0  985   Stevens  hstevensrc@hugedomains.com   Male  Electronics  2006-02-28   \n1  906   Spencer          sspencerp5@mtv.com   Male  Electronics  2014-04-18   \n2  679     Stone           pstoneiu@narod.ru   Male  Electronics  2014-05-15   \n3  762   Stanley     cstanleyl5@springer.com   Male  Electronics  2013-08-09   \n\n   salary             job_title  region_id  region_id company_regions country  \\\n0  118791  Safety Technician IV          1          1       Northeast     USA   \n1  110881   Electrical Engineer          1          1       Northeast     USA   \n2   40218             Paralegal          2          2       Southeast     USA   \n3  103237     Account Executive          7          7     Nova Scotia  Canada   \n\n    department      company_division  \n0  Electronics  Electronic Equipment  \n1  Electronics  Electronic Equipment  \n2  Electronics  Electronic Equipment  \n3  Electronics  Electronic Equipment  "
     },
     "execution_count": 63,
     "metadata": {},
     "output_type": "execute_result"
    }
   ],
   "source": [
    "#if the joining column names are not the same then:\n",
    "\n",
    "command = \"\"\"SELECT *\n",
    "             FROM staff s\n",
    "             INNER JOIN company_regions cr\n",
    "             ON cr.region_id=s.region_id\n",
    "             INNER JOIN company_divisions cd\n",
    "             ON s.department=cd.department\n",
    "             WHERE company_division IN ('Electronic Equipment', 'Games & Sports')\n",
    "\t         AND\n",
    "\t         s.department = 'Electronics'\n",
    "\t         AND\n",
    "\t         last_name ILIKE 's%'\"\"\"\n",
    "cur.execute(command)\n",
    "cols = [x[0] for x in cur.description]\n",
    "pd.DataFrame(cur.fetchall(), columns=cols)\n",
    "\n"
   ]
  },
  {
   "cell_type": "code",
   "execution_count": null,
   "metadata": {},
   "outputs": [],
   "source": []
  },
  {
   "cell_type": "code",
   "execution_count": null,
   "metadata": {},
   "outputs": [],
   "source": []
  },
  {
   "cell_type": "code",
   "execution_count": null,
   "metadata": {},
   "outputs": [],
   "source": []
  },
  {
   "cell_type": "code",
   "execution_count": null,
   "metadata": {},
   "outputs": [],
   "source": []
  },
  {
   "cell_type": "code",
   "execution_count": null,
   "metadata": {},
   "outputs": [],
   "source": []
  },
  {
   "cell_type": "code",
   "execution_count": null,
   "metadata": {},
   "outputs": [],
   "source": []
  },
  {
   "cell_type": "code",
   "execution_count": null,
   "metadata": {},
   "outputs": [],
   "source": []
  },
  {
   "cell_type": "code",
   "execution_count": null,
   "metadata": {},
   "outputs": [],
   "source": []
  },
  {
   "cell_type": "code",
   "execution_count": null,
   "metadata": {},
   "outputs": [],
   "source": []
  },
  {
   "cell_type": "code",
   "execution_count": null,
   "metadata": {},
   "outputs": [],
   "source": []
  },
  {
   "cell_type": "code",
   "execution_count": null,
   "metadata": {},
   "outputs": [],
   "source": []
  },
  {
   "cell_type": "code",
   "execution_count": null,
   "metadata": {},
   "outputs": [],
   "source": [
    "cur.close()\n",
    "conn.close()"
   ]
  },
  {
   "cell_type": "code",
   "execution_count": null,
   "metadata": {},
   "outputs": [],
   "source": []
  }
 ]
}